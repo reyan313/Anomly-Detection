{
  "nbformat": 4,
  "nbformat_minor": 0,
  "metadata": {
    "colab": {
      "provenance": []
    },
    "kernelspec": {
      "name": "python3",
      "display_name": "Python 3"
    },
    "language_info": {
      "name": "python"
    }
  },
  "cells": [
    {
      "cell_type": "markdown",
      "source": [
        "# **Loading Dataset**"
      ],
      "metadata": {
        "id": "TiL2FHGVYWIp"
      }
    },
    {
      "cell_type": "code",
      "source": [
        "import pandas as pd\n",
        "df=pd.read_csv(\"/content/anomaly_dataset_preprocessed.csv\")"
      ],
      "metadata": {
        "id": "ga6_iLKLekwg"
      },
      "execution_count": 1,
      "outputs": []
    },
    {
      "cell_type": "code",
      "source": [
        "df.head()"
      ],
      "metadata": {
        "colab": {
          "base_uri": "https://localhost:8080/",
          "height": 206
        },
        "id": "PnEfd_EK4jlc",
        "outputId": "dbbc6100-8ade-4fde-e55b-d2b9ae4c49af"
      },
      "execution_count": 2,
      "outputs": [
        {
          "output_type": "execute_result",
          "data": {
            "text/plain": [
              "                         Time                            Source  Destination  \\\n",
              "0  2024-03-21 00:30:57.252719             WEB Access PLC Attack           68   \n",
              "1  2024-03-16 01:57:57.254620             WEB Access PLC Attack           72   \n",
              "2  2024-03-20 15:38:57.254635             WEB Access PLC Attack           81   \n",
              "3  2024-03-19 13:03:57.254642  Stable Normal Operation-Kit Data           99   \n",
              "4  2024-03-16 12:17:57.254648  Stable Normal Operation-Kit Data            5   \n",
              "\n",
              "  Protocol  Length  \n",
              "0     HTTP     806  \n",
              "1      STP     904  \n",
              "2     HTTP     638  \n",
              "3   TELNET     317  \n",
              "4   DHCPv6     558  "
            ],
            "text/html": [
              "\n",
              "  <div id=\"df-03113005-ec02-4016-9795-60ac2c0b652b\" class=\"colab-df-container\">\n",
              "    <div>\n",
              "<style scoped>\n",
              "    .dataframe tbody tr th:only-of-type {\n",
              "        vertical-align: middle;\n",
              "    }\n",
              "\n",
              "    .dataframe tbody tr th {\n",
              "        vertical-align: top;\n",
              "    }\n",
              "\n",
              "    .dataframe thead th {\n",
              "        text-align: right;\n",
              "    }\n",
              "</style>\n",
              "<table border=\"1\" class=\"dataframe\">\n",
              "  <thead>\n",
              "    <tr style=\"text-align: right;\">\n",
              "      <th></th>\n",
              "      <th>Time</th>\n",
              "      <th>Source</th>\n",
              "      <th>Destination</th>\n",
              "      <th>Protocol</th>\n",
              "      <th>Length</th>\n",
              "    </tr>\n",
              "  </thead>\n",
              "  <tbody>\n",
              "    <tr>\n",
              "      <th>0</th>\n",
              "      <td>2024-03-21 00:30:57.252719</td>\n",
              "      <td>WEB Access PLC Attack</td>\n",
              "      <td>68</td>\n",
              "      <td>HTTP</td>\n",
              "      <td>806</td>\n",
              "    </tr>\n",
              "    <tr>\n",
              "      <th>1</th>\n",
              "      <td>2024-03-16 01:57:57.254620</td>\n",
              "      <td>WEB Access PLC Attack</td>\n",
              "      <td>72</td>\n",
              "      <td>STP</td>\n",
              "      <td>904</td>\n",
              "    </tr>\n",
              "    <tr>\n",
              "      <th>2</th>\n",
              "      <td>2024-03-20 15:38:57.254635</td>\n",
              "      <td>WEB Access PLC Attack</td>\n",
              "      <td>81</td>\n",
              "      <td>HTTP</td>\n",
              "      <td>638</td>\n",
              "    </tr>\n",
              "    <tr>\n",
              "      <th>3</th>\n",
              "      <td>2024-03-19 13:03:57.254642</td>\n",
              "      <td>Stable Normal Operation-Kit Data</td>\n",
              "      <td>99</td>\n",
              "      <td>TELNET</td>\n",
              "      <td>317</td>\n",
              "    </tr>\n",
              "    <tr>\n",
              "      <th>4</th>\n",
              "      <td>2024-03-16 12:17:57.254648</td>\n",
              "      <td>Stable Normal Operation-Kit Data</td>\n",
              "      <td>5</td>\n",
              "      <td>DHCPv6</td>\n",
              "      <td>558</td>\n",
              "    </tr>\n",
              "  </tbody>\n",
              "</table>\n",
              "</div>\n",
              "    <div class=\"colab-df-buttons\">\n",
              "\n",
              "  <div class=\"colab-df-container\">\n",
              "    <button class=\"colab-df-convert\" onclick=\"convertToInteractive('df-03113005-ec02-4016-9795-60ac2c0b652b')\"\n",
              "            title=\"Convert this dataframe to an interactive table.\"\n",
              "            style=\"display:none;\">\n",
              "\n",
              "  <svg xmlns=\"http://www.w3.org/2000/svg\" height=\"24px\" viewBox=\"0 -960 960 960\">\n",
              "    <path d=\"M120-120v-720h720v720H120Zm60-500h600v-160H180v160Zm220 220h160v-160H400v160Zm0 220h160v-160H400v160ZM180-400h160v-160H180v160Zm440 0h160v-160H620v160ZM180-180h160v-160H180v160Zm440 0h160v-160H620v160Z\"/>\n",
              "  </svg>\n",
              "    </button>\n",
              "\n",
              "  <style>\n",
              "    .colab-df-container {\n",
              "      display:flex;\n",
              "      gap: 12px;\n",
              "    }\n",
              "\n",
              "    .colab-df-convert {\n",
              "      background-color: #E8F0FE;\n",
              "      border: none;\n",
              "      border-radius: 50%;\n",
              "      cursor: pointer;\n",
              "      display: none;\n",
              "      fill: #1967D2;\n",
              "      height: 32px;\n",
              "      padding: 0 0 0 0;\n",
              "      width: 32px;\n",
              "    }\n",
              "\n",
              "    .colab-df-convert:hover {\n",
              "      background-color: #E2EBFA;\n",
              "      box-shadow: 0px 1px 2px rgba(60, 64, 67, 0.3), 0px 1px 3px 1px rgba(60, 64, 67, 0.15);\n",
              "      fill: #174EA6;\n",
              "    }\n",
              "\n",
              "    .colab-df-buttons div {\n",
              "      margin-bottom: 4px;\n",
              "    }\n",
              "\n",
              "    [theme=dark] .colab-df-convert {\n",
              "      background-color: #3B4455;\n",
              "      fill: #D2E3FC;\n",
              "    }\n",
              "\n",
              "    [theme=dark] .colab-df-convert:hover {\n",
              "      background-color: #434B5C;\n",
              "      box-shadow: 0px 1px 3px 1px rgba(0, 0, 0, 0.15);\n",
              "      filter: drop-shadow(0px 1px 2px rgba(0, 0, 0, 0.3));\n",
              "      fill: #FFFFFF;\n",
              "    }\n",
              "  </style>\n",
              "\n",
              "    <script>\n",
              "      const buttonEl =\n",
              "        document.querySelector('#df-03113005-ec02-4016-9795-60ac2c0b652b button.colab-df-convert');\n",
              "      buttonEl.style.display =\n",
              "        google.colab.kernel.accessAllowed ? 'block' : 'none';\n",
              "\n",
              "      async function convertToInteractive(key) {\n",
              "        const element = document.querySelector('#df-03113005-ec02-4016-9795-60ac2c0b652b');\n",
              "        const dataTable =\n",
              "          await google.colab.kernel.invokeFunction('convertToInteractive',\n",
              "                                                    [key], {});\n",
              "        if (!dataTable) return;\n",
              "\n",
              "        const docLinkHtml = 'Like what you see? Visit the ' +\n",
              "          '<a target=\"_blank\" href=https://colab.research.google.com/notebooks/data_table.ipynb>data table notebook</a>'\n",
              "          + ' to learn more about interactive tables.';\n",
              "        element.innerHTML = '';\n",
              "        dataTable['output_type'] = 'display_data';\n",
              "        await google.colab.output.renderOutput(dataTable, element);\n",
              "        const docLink = document.createElement('div');\n",
              "        docLink.innerHTML = docLinkHtml;\n",
              "        element.appendChild(docLink);\n",
              "      }\n",
              "    </script>\n",
              "  </div>\n",
              "\n",
              "\n",
              "<div id=\"df-7b0ce841-6f86-4523-aecc-bbd872faad19\">\n",
              "  <button class=\"colab-df-quickchart\" onclick=\"quickchart('df-7b0ce841-6f86-4523-aecc-bbd872faad19')\"\n",
              "            title=\"Suggest charts\"\n",
              "            style=\"display:none;\">\n",
              "\n",
              "<svg xmlns=\"http://www.w3.org/2000/svg\" height=\"24px\"viewBox=\"0 0 24 24\"\n",
              "     width=\"24px\">\n",
              "    <g>\n",
              "        <path d=\"M19 3H5c-1.1 0-2 .9-2 2v14c0 1.1.9 2 2 2h14c1.1 0 2-.9 2-2V5c0-1.1-.9-2-2-2zM9 17H7v-7h2v7zm4 0h-2V7h2v10zm4 0h-2v-4h2v4z\"/>\n",
              "    </g>\n",
              "</svg>\n",
              "  </button>\n",
              "\n",
              "<style>\n",
              "  .colab-df-quickchart {\n",
              "      --bg-color: #E8F0FE;\n",
              "      --fill-color: #1967D2;\n",
              "      --hover-bg-color: #E2EBFA;\n",
              "      --hover-fill-color: #174EA6;\n",
              "      --disabled-fill-color: #AAA;\n",
              "      --disabled-bg-color: #DDD;\n",
              "  }\n",
              "\n",
              "  [theme=dark] .colab-df-quickchart {\n",
              "      --bg-color: #3B4455;\n",
              "      --fill-color: #D2E3FC;\n",
              "      --hover-bg-color: #434B5C;\n",
              "      --hover-fill-color: #FFFFFF;\n",
              "      --disabled-bg-color: #3B4455;\n",
              "      --disabled-fill-color: #666;\n",
              "  }\n",
              "\n",
              "  .colab-df-quickchart {\n",
              "    background-color: var(--bg-color);\n",
              "    border: none;\n",
              "    border-radius: 50%;\n",
              "    cursor: pointer;\n",
              "    display: none;\n",
              "    fill: var(--fill-color);\n",
              "    height: 32px;\n",
              "    padding: 0;\n",
              "    width: 32px;\n",
              "  }\n",
              "\n",
              "  .colab-df-quickchart:hover {\n",
              "    background-color: var(--hover-bg-color);\n",
              "    box-shadow: 0 1px 2px rgba(60, 64, 67, 0.3), 0 1px 3px 1px rgba(60, 64, 67, 0.15);\n",
              "    fill: var(--button-hover-fill-color);\n",
              "  }\n",
              "\n",
              "  .colab-df-quickchart-complete:disabled,\n",
              "  .colab-df-quickchart-complete:disabled:hover {\n",
              "    background-color: var(--disabled-bg-color);\n",
              "    fill: var(--disabled-fill-color);\n",
              "    box-shadow: none;\n",
              "  }\n",
              "\n",
              "  .colab-df-spinner {\n",
              "    border: 2px solid var(--fill-color);\n",
              "    border-color: transparent;\n",
              "    border-bottom-color: var(--fill-color);\n",
              "    animation:\n",
              "      spin 1s steps(1) infinite;\n",
              "  }\n",
              "\n",
              "  @keyframes spin {\n",
              "    0% {\n",
              "      border-color: transparent;\n",
              "      border-bottom-color: var(--fill-color);\n",
              "      border-left-color: var(--fill-color);\n",
              "    }\n",
              "    20% {\n",
              "      border-color: transparent;\n",
              "      border-left-color: var(--fill-color);\n",
              "      border-top-color: var(--fill-color);\n",
              "    }\n",
              "    30% {\n",
              "      border-color: transparent;\n",
              "      border-left-color: var(--fill-color);\n",
              "      border-top-color: var(--fill-color);\n",
              "      border-right-color: var(--fill-color);\n",
              "    }\n",
              "    40% {\n",
              "      border-color: transparent;\n",
              "      border-right-color: var(--fill-color);\n",
              "      border-top-color: var(--fill-color);\n",
              "    }\n",
              "    60% {\n",
              "      border-color: transparent;\n",
              "      border-right-color: var(--fill-color);\n",
              "    }\n",
              "    80% {\n",
              "      border-color: transparent;\n",
              "      border-right-color: var(--fill-color);\n",
              "      border-bottom-color: var(--fill-color);\n",
              "    }\n",
              "    90% {\n",
              "      border-color: transparent;\n",
              "      border-bottom-color: var(--fill-color);\n",
              "    }\n",
              "  }\n",
              "</style>\n",
              "\n",
              "  <script>\n",
              "    async function quickchart(key) {\n",
              "      const quickchartButtonEl =\n",
              "        document.querySelector('#' + key + ' button');\n",
              "      quickchartButtonEl.disabled = true;  // To prevent multiple clicks.\n",
              "      quickchartButtonEl.classList.add('colab-df-spinner');\n",
              "      try {\n",
              "        const charts = await google.colab.kernel.invokeFunction(\n",
              "            'suggestCharts', [key], {});\n",
              "      } catch (error) {\n",
              "        console.error('Error during call to suggestCharts:', error);\n",
              "      }\n",
              "      quickchartButtonEl.classList.remove('colab-df-spinner');\n",
              "      quickchartButtonEl.classList.add('colab-df-quickchart-complete');\n",
              "    }\n",
              "    (() => {\n",
              "      let quickchartButtonEl =\n",
              "        document.querySelector('#df-7b0ce841-6f86-4523-aecc-bbd872faad19 button');\n",
              "      quickchartButtonEl.style.display =\n",
              "        google.colab.kernel.accessAllowed ? 'block' : 'none';\n",
              "    })();\n",
              "  </script>\n",
              "</div>\n",
              "\n",
              "    </div>\n",
              "  </div>\n"
            ],
            "application/vnd.google.colaboratory.intrinsic+json": {
              "type": "dataframe",
              "variable_name": "df",
              "summary": "{\n  \"name\": \"df\",\n  \"rows\": 1000,\n  \"fields\": [\n    {\n      \"column\": \"Time\",\n      \"properties\": {\n        \"dtype\": \"object\",\n        \"num_unique_values\": 1000,\n        \"samples\": [\n          \"2024-03-20 08:57:57.258297\",\n          \"2024-03-17 03:50:57.259850\",\n          \"2024-03-19 06:05:57.259886\"\n        ],\n        \"semantic_type\": \"\",\n        \"description\": \"\"\n      }\n    },\n    {\n      \"column\": \"Source\",\n      \"properties\": {\n        \"dtype\": \"category\",\n        \"num_unique_values\": 3,\n        \"samples\": [\n          \"WEB Access PLC Attack\",\n          \"Stable Normal Operation-Kit Data\",\n          \"TELNET PLC Attack\"\n        ],\n        \"semantic_type\": \"\",\n        \"description\": \"\"\n      }\n    },\n    {\n      \"column\": \"Destination\",\n      \"properties\": {\n        \"dtype\": \"number\",\n        \"std\": 28,\n        \"min\": 1,\n        \"max\": 99,\n        \"num_unique_values\": 99,\n        \"samples\": [\n          2,\n          83,\n          80\n        ],\n        \"semantic_type\": \"\",\n        \"description\": \"\"\n      }\n    },\n    {\n      \"column\": \"Protocol\",\n      \"properties\": {\n        \"dtype\": \"category\",\n        \"num_unique_values\": 16,\n        \"samples\": [\n          \"HTTP\",\n          \"STP\",\n          \"PN-PTCP\"\n        ],\n        \"semantic_type\": \"\",\n        \"description\": \"\"\n      }\n    },\n    {\n      \"column\": \"Length\",\n      \"properties\": {\n        \"dtype\": \"number\",\n        \"std\": 302,\n        \"min\": 1,\n        \"max\": 999,\n        \"num_unique_values\": 608,\n        \"samples\": [\n          909,\n          30,\n          475\n        ],\n        \"semantic_type\": \"\",\n        \"description\": \"\"\n      }\n    }\n  ]\n}"
            }
          },
          "metadata": {},
          "execution_count": 2
        }
      ]
    },
    {
      "cell_type": "markdown",
      "source": [
        "# **Data Preprocessing**"
      ],
      "metadata": {
        "id": "Zf_f6DJbYaEi"
      }
    },
    {
      "cell_type": "code",
      "source": [
        "# Assuming df is your DataFrame containing the dataset\n",
        "columns_to_check = ['Source', 'Destination', 'Protocol']\n",
        "for column in columns_to_check:\n",
        "    unique_values = df[column].unique()\n",
        "    print(f\"Unique values in column '{column}': {unique_values}\")\n"
      ],
      "metadata": {
        "colab": {
          "base_uri": "https://localhost:8080/"
        },
        "id": "x059oPMP4qaY",
        "outputId": "76d97b47-bd72-4a54-9190-65cccc50fb3a"
      },
      "execution_count": 3,
      "outputs": [
        {
          "output_type": "stream",
          "name": "stdout",
          "text": [
            "Unique values in column 'Source': ['WEB Access PLC Attack' 'Stable Normal Operation-Kit Data'\n",
            " 'TELNET PLC Attack']\n",
            "Unique values in column 'Destination': [68 72 81 99  5 62 91  7 33 82 38 28 52 79 60 87 96  9 57 30 29 35 59 93\n",
            " 17 73  8 13 85 76 94 41  1 78 48 51 69 77 58 37 83 95 36 49 50 10 98 71\n",
            " 31 20 39 45 15 61  4 34 22 40 75 25 65 14  2  3 67 86 27 11 66 84 54 16\n",
            " 19 43 18 24 21 23 89 53 47 97 56 46 88  6 90 70 26 44 64 63 74 32 92 80\n",
            " 12 55 42]\n",
            "Unique values in column 'Protocol': ['HTTP' 'STP' 'TELNET' 'DHCPv6' 'LLMNR' 'PN-PTCP' 'SSDP' 'PN-MRP'\n",
            " 'BROWSER' 'ARP' 'LLDP' 'HIP' 'NBNS' 'COTP' 'UDP' 'TCP']\n"
          ]
        }
      ]
    },
    {
      "cell_type": "code",
      "source": [
        "# Assuming df is your DataFrame containing the dataset\n",
        "null_counts = df.isnull().sum()\n",
        "print(\"Null counts in each column:\")\n",
        "print(null_counts)\n"
      ],
      "metadata": {
        "colab": {
          "base_uri": "https://localhost:8080/"
        },
        "id": "SaqFUizU45Vw",
        "outputId": "ab8a4d32-6477-4a1c-e2d3-43a2c0e9e7a5"
      },
      "execution_count": 4,
      "outputs": [
        {
          "output_type": "stream",
          "name": "stdout",
          "text": [
            "Null counts in each column:\n",
            "Time           0\n",
            "Source         0\n",
            "Destination    0\n",
            "Protocol       0\n",
            "Length         0\n",
            "dtype: int64\n"
          ]
        }
      ]
    },
    {
      "cell_type": "code",
      "source": [
        "from sklearn.preprocessing import LabelEncoder\n",
        "\n",
        "# Create a label encoder object\n",
        "label_encoder = LabelEncoder()\n",
        "\n",
        "# Apply label encoding to 'Protocol' and 'Source' columns\n",
        "df['Protocol'] = label_encoder.fit_transform(df['Protocol'])\n",
        "df['Source'] = label_encoder.fit_transform(df['Source'])"
      ],
      "metadata": {
        "id": "ozFmfW1d48Vv"
      },
      "execution_count": 5,
      "outputs": []
    },
    {
      "cell_type": "code",
      "source": [
        "# Check for null values in the DataFrame\n",
        "null_counts = df.isnull().sum()\n",
        "\n",
        "# Print the null counts for each column\n",
        "print(\"Null counts for each column:\")\n",
        "print(null_counts)\n"
      ],
      "metadata": {
        "colab": {
          "base_uri": "https://localhost:8080/"
        },
        "id": "P21qoca0Q4jv",
        "outputId": "ec1e75dc-272f-4333-9488-70ba0463ed79"
      },
      "execution_count": 6,
      "outputs": [
        {
          "output_type": "stream",
          "name": "stdout",
          "text": [
            "Null counts for each column:\n",
            "Time           0\n",
            "Source         0\n",
            "Destination    0\n",
            "Protocol       0\n",
            "Length         0\n",
            "dtype: int64\n"
          ]
        }
      ]
    },
    {
      "cell_type": "markdown",
      "source": [
        "# **Exploratory Data Analysis**"
      ],
      "metadata": {
        "id": "sdaMIpm3bB9Q"
      }
    },
    {
      "cell_type": "code",
      "source": [
        "df.describe()"
      ],
      "metadata": {
        "colab": {
          "base_uri": "https://localhost:8080/",
          "height": 300
        },
        "id": "XLIor60sd47-",
        "outputId": "f2d227f4-24c2-4390-fed0-15fd6f34c713"
      },
      "execution_count": 7,
      "outputs": [
        {
          "output_type": "execute_result",
          "data": {
            "text/plain": [
              "            Source  Destination     Protocol       Length\n",
              "count  1000.000000  1000.000000  1000.000000  1000.000000\n",
              "mean      0.990000    50.291000     7.628000   536.384000\n",
              "std       0.820105    28.726286     4.724822   302.336269\n",
              "min       0.000000     1.000000     0.000000     1.000000\n",
              "25%       0.000000    26.000000     3.000000   270.000000\n",
              "50%       1.000000    50.000000     8.000000   558.000000\n",
              "75%       2.000000    75.000000    12.000000   815.250000\n",
              "max       2.000000    99.000000    15.000000   999.000000"
            ],
            "text/html": [
              "\n",
              "  <div id=\"df-01f32388-5d7c-4a8d-960d-643a910fd7ae\" class=\"colab-df-container\">\n",
              "    <div>\n",
              "<style scoped>\n",
              "    .dataframe tbody tr th:only-of-type {\n",
              "        vertical-align: middle;\n",
              "    }\n",
              "\n",
              "    .dataframe tbody tr th {\n",
              "        vertical-align: top;\n",
              "    }\n",
              "\n",
              "    .dataframe thead th {\n",
              "        text-align: right;\n",
              "    }\n",
              "</style>\n",
              "<table border=\"1\" class=\"dataframe\">\n",
              "  <thead>\n",
              "    <tr style=\"text-align: right;\">\n",
              "      <th></th>\n",
              "      <th>Source</th>\n",
              "      <th>Destination</th>\n",
              "      <th>Protocol</th>\n",
              "      <th>Length</th>\n",
              "    </tr>\n",
              "  </thead>\n",
              "  <tbody>\n",
              "    <tr>\n",
              "      <th>count</th>\n",
              "      <td>1000.000000</td>\n",
              "      <td>1000.000000</td>\n",
              "      <td>1000.000000</td>\n",
              "      <td>1000.000000</td>\n",
              "    </tr>\n",
              "    <tr>\n",
              "      <th>mean</th>\n",
              "      <td>0.990000</td>\n",
              "      <td>50.291000</td>\n",
              "      <td>7.628000</td>\n",
              "      <td>536.384000</td>\n",
              "    </tr>\n",
              "    <tr>\n",
              "      <th>std</th>\n",
              "      <td>0.820105</td>\n",
              "      <td>28.726286</td>\n",
              "      <td>4.724822</td>\n",
              "      <td>302.336269</td>\n",
              "    </tr>\n",
              "    <tr>\n",
              "      <th>min</th>\n",
              "      <td>0.000000</td>\n",
              "      <td>1.000000</td>\n",
              "      <td>0.000000</td>\n",
              "      <td>1.000000</td>\n",
              "    </tr>\n",
              "    <tr>\n",
              "      <th>25%</th>\n",
              "      <td>0.000000</td>\n",
              "      <td>26.000000</td>\n",
              "      <td>3.000000</td>\n",
              "      <td>270.000000</td>\n",
              "    </tr>\n",
              "    <tr>\n",
              "      <th>50%</th>\n",
              "      <td>1.000000</td>\n",
              "      <td>50.000000</td>\n",
              "      <td>8.000000</td>\n",
              "      <td>558.000000</td>\n",
              "    </tr>\n",
              "    <tr>\n",
              "      <th>75%</th>\n",
              "      <td>2.000000</td>\n",
              "      <td>75.000000</td>\n",
              "      <td>12.000000</td>\n",
              "      <td>815.250000</td>\n",
              "    </tr>\n",
              "    <tr>\n",
              "      <th>max</th>\n",
              "      <td>2.000000</td>\n",
              "      <td>99.000000</td>\n",
              "      <td>15.000000</td>\n",
              "      <td>999.000000</td>\n",
              "    </tr>\n",
              "  </tbody>\n",
              "</table>\n",
              "</div>\n",
              "    <div class=\"colab-df-buttons\">\n",
              "\n",
              "  <div class=\"colab-df-container\">\n",
              "    <button class=\"colab-df-convert\" onclick=\"convertToInteractive('df-01f32388-5d7c-4a8d-960d-643a910fd7ae')\"\n",
              "            title=\"Convert this dataframe to an interactive table.\"\n",
              "            style=\"display:none;\">\n",
              "\n",
              "  <svg xmlns=\"http://www.w3.org/2000/svg\" height=\"24px\" viewBox=\"0 -960 960 960\">\n",
              "    <path d=\"M120-120v-720h720v720H120Zm60-500h600v-160H180v160Zm220 220h160v-160H400v160Zm0 220h160v-160H400v160ZM180-400h160v-160H180v160Zm440 0h160v-160H620v160ZM180-180h160v-160H180v160Zm440 0h160v-160H620v160Z\"/>\n",
              "  </svg>\n",
              "    </button>\n",
              "\n",
              "  <style>\n",
              "    .colab-df-container {\n",
              "      display:flex;\n",
              "      gap: 12px;\n",
              "    }\n",
              "\n",
              "    .colab-df-convert {\n",
              "      background-color: #E8F0FE;\n",
              "      border: none;\n",
              "      border-radius: 50%;\n",
              "      cursor: pointer;\n",
              "      display: none;\n",
              "      fill: #1967D2;\n",
              "      height: 32px;\n",
              "      padding: 0 0 0 0;\n",
              "      width: 32px;\n",
              "    }\n",
              "\n",
              "    .colab-df-convert:hover {\n",
              "      background-color: #E2EBFA;\n",
              "      box-shadow: 0px 1px 2px rgba(60, 64, 67, 0.3), 0px 1px 3px 1px rgba(60, 64, 67, 0.15);\n",
              "      fill: #174EA6;\n",
              "    }\n",
              "\n",
              "    .colab-df-buttons div {\n",
              "      margin-bottom: 4px;\n",
              "    }\n",
              "\n",
              "    [theme=dark] .colab-df-convert {\n",
              "      background-color: #3B4455;\n",
              "      fill: #D2E3FC;\n",
              "    }\n",
              "\n",
              "    [theme=dark] .colab-df-convert:hover {\n",
              "      background-color: #434B5C;\n",
              "      box-shadow: 0px 1px 3px 1px rgba(0, 0, 0, 0.15);\n",
              "      filter: drop-shadow(0px 1px 2px rgba(0, 0, 0, 0.3));\n",
              "      fill: #FFFFFF;\n",
              "    }\n",
              "  </style>\n",
              "\n",
              "    <script>\n",
              "      const buttonEl =\n",
              "        document.querySelector('#df-01f32388-5d7c-4a8d-960d-643a910fd7ae button.colab-df-convert');\n",
              "      buttonEl.style.display =\n",
              "        google.colab.kernel.accessAllowed ? 'block' : 'none';\n",
              "\n",
              "      async function convertToInteractive(key) {\n",
              "        const element = document.querySelector('#df-01f32388-5d7c-4a8d-960d-643a910fd7ae');\n",
              "        const dataTable =\n",
              "          await google.colab.kernel.invokeFunction('convertToInteractive',\n",
              "                                                    [key], {});\n",
              "        if (!dataTable) return;\n",
              "\n",
              "        const docLinkHtml = 'Like what you see? Visit the ' +\n",
              "          '<a target=\"_blank\" href=https://colab.research.google.com/notebooks/data_table.ipynb>data table notebook</a>'\n",
              "          + ' to learn more about interactive tables.';\n",
              "        element.innerHTML = '';\n",
              "        dataTable['output_type'] = 'display_data';\n",
              "        await google.colab.output.renderOutput(dataTable, element);\n",
              "        const docLink = document.createElement('div');\n",
              "        docLink.innerHTML = docLinkHtml;\n",
              "        element.appendChild(docLink);\n",
              "      }\n",
              "    </script>\n",
              "  </div>\n",
              "\n",
              "\n",
              "<div id=\"df-aaea1d43-b938-40f0-ba6b-33df817934cf\">\n",
              "  <button class=\"colab-df-quickchart\" onclick=\"quickchart('df-aaea1d43-b938-40f0-ba6b-33df817934cf')\"\n",
              "            title=\"Suggest charts\"\n",
              "            style=\"display:none;\">\n",
              "\n",
              "<svg xmlns=\"http://www.w3.org/2000/svg\" height=\"24px\"viewBox=\"0 0 24 24\"\n",
              "     width=\"24px\">\n",
              "    <g>\n",
              "        <path d=\"M19 3H5c-1.1 0-2 .9-2 2v14c0 1.1.9 2 2 2h14c1.1 0 2-.9 2-2V5c0-1.1-.9-2-2-2zM9 17H7v-7h2v7zm4 0h-2V7h2v10zm4 0h-2v-4h2v4z\"/>\n",
              "    </g>\n",
              "</svg>\n",
              "  </button>\n",
              "\n",
              "<style>\n",
              "  .colab-df-quickchart {\n",
              "      --bg-color: #E8F0FE;\n",
              "      --fill-color: #1967D2;\n",
              "      --hover-bg-color: #E2EBFA;\n",
              "      --hover-fill-color: #174EA6;\n",
              "      --disabled-fill-color: #AAA;\n",
              "      --disabled-bg-color: #DDD;\n",
              "  }\n",
              "\n",
              "  [theme=dark] .colab-df-quickchart {\n",
              "      --bg-color: #3B4455;\n",
              "      --fill-color: #D2E3FC;\n",
              "      --hover-bg-color: #434B5C;\n",
              "      --hover-fill-color: #FFFFFF;\n",
              "      --disabled-bg-color: #3B4455;\n",
              "      --disabled-fill-color: #666;\n",
              "  }\n",
              "\n",
              "  .colab-df-quickchart {\n",
              "    background-color: var(--bg-color);\n",
              "    border: none;\n",
              "    border-radius: 50%;\n",
              "    cursor: pointer;\n",
              "    display: none;\n",
              "    fill: var(--fill-color);\n",
              "    height: 32px;\n",
              "    padding: 0;\n",
              "    width: 32px;\n",
              "  }\n",
              "\n",
              "  .colab-df-quickchart:hover {\n",
              "    background-color: var(--hover-bg-color);\n",
              "    box-shadow: 0 1px 2px rgba(60, 64, 67, 0.3), 0 1px 3px 1px rgba(60, 64, 67, 0.15);\n",
              "    fill: var(--button-hover-fill-color);\n",
              "  }\n",
              "\n",
              "  .colab-df-quickchart-complete:disabled,\n",
              "  .colab-df-quickchart-complete:disabled:hover {\n",
              "    background-color: var(--disabled-bg-color);\n",
              "    fill: var(--disabled-fill-color);\n",
              "    box-shadow: none;\n",
              "  }\n",
              "\n",
              "  .colab-df-spinner {\n",
              "    border: 2px solid var(--fill-color);\n",
              "    border-color: transparent;\n",
              "    border-bottom-color: var(--fill-color);\n",
              "    animation:\n",
              "      spin 1s steps(1) infinite;\n",
              "  }\n",
              "\n",
              "  @keyframes spin {\n",
              "    0% {\n",
              "      border-color: transparent;\n",
              "      border-bottom-color: var(--fill-color);\n",
              "      border-left-color: var(--fill-color);\n",
              "    }\n",
              "    20% {\n",
              "      border-color: transparent;\n",
              "      border-left-color: var(--fill-color);\n",
              "      border-top-color: var(--fill-color);\n",
              "    }\n",
              "    30% {\n",
              "      border-color: transparent;\n",
              "      border-left-color: var(--fill-color);\n",
              "      border-top-color: var(--fill-color);\n",
              "      border-right-color: var(--fill-color);\n",
              "    }\n",
              "    40% {\n",
              "      border-color: transparent;\n",
              "      border-right-color: var(--fill-color);\n",
              "      border-top-color: var(--fill-color);\n",
              "    }\n",
              "    60% {\n",
              "      border-color: transparent;\n",
              "      border-right-color: var(--fill-color);\n",
              "    }\n",
              "    80% {\n",
              "      border-color: transparent;\n",
              "      border-right-color: var(--fill-color);\n",
              "      border-bottom-color: var(--fill-color);\n",
              "    }\n",
              "    90% {\n",
              "      border-color: transparent;\n",
              "      border-bottom-color: var(--fill-color);\n",
              "    }\n",
              "  }\n",
              "</style>\n",
              "\n",
              "  <script>\n",
              "    async function quickchart(key) {\n",
              "      const quickchartButtonEl =\n",
              "        document.querySelector('#' + key + ' button');\n",
              "      quickchartButtonEl.disabled = true;  // To prevent multiple clicks.\n",
              "      quickchartButtonEl.classList.add('colab-df-spinner');\n",
              "      try {\n",
              "        const charts = await google.colab.kernel.invokeFunction(\n",
              "            'suggestCharts', [key], {});\n",
              "      } catch (error) {\n",
              "        console.error('Error during call to suggestCharts:', error);\n",
              "      }\n",
              "      quickchartButtonEl.classList.remove('colab-df-spinner');\n",
              "      quickchartButtonEl.classList.add('colab-df-quickchart-complete');\n",
              "    }\n",
              "    (() => {\n",
              "      let quickchartButtonEl =\n",
              "        document.querySelector('#df-aaea1d43-b938-40f0-ba6b-33df817934cf button');\n",
              "      quickchartButtonEl.style.display =\n",
              "        google.colab.kernel.accessAllowed ? 'block' : 'none';\n",
              "    })();\n",
              "  </script>\n",
              "</div>\n",
              "\n",
              "    </div>\n",
              "  </div>\n"
            ],
            "application/vnd.google.colaboratory.intrinsic+json": {
              "type": "dataframe",
              "summary": "{\n  \"name\": \"df\",\n  \"rows\": 8,\n  \"fields\": [\n    {\n      \"column\": \"Source\",\n      \"properties\": {\n        \"dtype\": \"number\",\n        \"std\": 353.21024276844895,\n        \"min\": 0.0,\n        \"max\": 1000.0,\n        \"num_unique_values\": 6,\n        \"samples\": [\n          1000.0,\n          0.99,\n          2.0\n        ],\n        \"semantic_type\": \"\",\n        \"description\": \"\"\n      }\n    },\n    {\n      \"column\": \"Destination\",\n      \"properties\": {\n        \"dtype\": \"number\",\n        \"std\": 338.23895536873937,\n        \"min\": 1.0,\n        \"max\": 1000.0,\n        \"num_unique_values\": 8,\n        \"samples\": [\n          50.291,\n          50.0,\n          1000.0\n        ],\n        \"semantic_type\": \"\",\n        \"description\": \"\"\n      }\n    },\n    {\n      \"column\": \"Protocol\",\n      \"properties\": {\n        \"dtype\": \"number\",\n        \"std\": 351.04280957326773,\n        \"min\": 0.0,\n        \"max\": 1000.0,\n        \"num_unique_values\": 8,\n        \"samples\": [\n          7.628,\n          8.0,\n          1000.0\n        ],\n        \"semantic_type\": \"\",\n        \"description\": \"\"\n      }\n    },\n    {\n      \"column\": \"Length\",\n      \"properties\": {\n        \"dtype\": \"number\",\n        \"std\": 361.5455693080392,\n        \"min\": 1.0,\n        \"max\": 1000.0,\n        \"num_unique_values\": 8,\n        \"samples\": [\n          536.384,\n          558.0,\n          1000.0\n        ],\n        \"semantic_type\": \"\",\n        \"description\": \"\"\n      }\n    }\n  ]\n}"
            }
          },
          "metadata": {},
          "execution_count": 7
        }
      ]
    },
    {
      "cell_type": "code",
      "source": [
        "import pandas as pd\n",
        "\n",
        "# Create an empty list to store individual DataFrame for each column\n",
        "dfs = []\n",
        "\n",
        "# Populate the list with information for each column\n",
        "for col in df.columns:\n",
        "    col_info = pd.DataFrame({\n",
        "        'Column Name': [col],\n",
        "        'Data Type': [df[col].dtype],\n",
        "        'Missing Values': [df[col].isnull().sum()]\n",
        "    })\n",
        "    dfs.append(col_info)\n",
        "\n",
        "# Concatenate all individual DataFrames into a single DataFrame\n",
        "info_df = pd.concat(dfs, ignore_index=True)\n",
        "\n",
        "# Display the DataFrame\n",
        "print(info_df)\n"
      ],
      "metadata": {
        "colab": {
          "base_uri": "https://localhost:8080/"
        },
        "id": "-OuTeBldbE0K",
        "outputId": "222fa3e9-5d4f-4379-95b2-06053ac476c0"
      },
      "execution_count": 8,
      "outputs": [
        {
          "output_type": "stream",
          "name": "stdout",
          "text": [
            "   Column Name Data Type  Missing Values\n",
            "0         Time    object               0\n",
            "1       Source     int64               0\n",
            "2  Destination     int64               0\n",
            "3     Protocol     int64               0\n",
            "4       Length     int64               0\n"
          ]
        }
      ]
    },
    {
      "cell_type": "code",
      "source": [
        "import plotly.graph_objects as go\n",
        "\n",
        "# Get the list of numerical column names\n",
        "num_cols = df.select_dtypes(include=['int64', 'float64']).columns.tolist()\n",
        "\n",
        "# Create a histogram for each numerical column\n",
        "for col in num_cols:\n",
        "    fig = go.Figure()\n",
        "    fig.add_trace(go.Histogram(x=df[col], histnorm='probability density', name=col,\n",
        "                               marker=dict(color='skyblue')))\n",
        "    fig.update_layout(title=f'Distribution of {col}',\n",
        "                      xaxis=dict(title=col, showgrid=False),\n",
        "                      yaxis=dict(title='Probability Density', showgrid=False),\n",
        "                      plot_bgcolor='white',  # Set background color\n",
        "                      barmode='overlay',  # Overlay bars for better comparison\n",
        "                      bargap=0.1,  # Set gap between bars\n",
        "                      bargroupgap=0.1)  # Set gap between groups of bars\n",
        "    fig.show()\n"
      ],
      "metadata": {
        "colab": {
          "base_uri": "https://localhost:8080/",
          "height": 1000
        },
        "id": "6TsISlJZbE3E",
        "outputId": "44a0ad7d-50c2-4ec4-f624-275009358a87"
      },
      "execution_count": 9,
      "outputs": [
        {
          "output_type": "display_data",
          "data": {
            "text/html": [
              "<html>\n",
              "<head><meta charset=\"utf-8\" /></head>\n",
              "<body>\n",
              "    <div>            <script src=\"https://cdnjs.cloudflare.com/ajax/libs/mathjax/2.7.5/MathJax.js?config=TeX-AMS-MML_SVG\"></script><script type=\"text/javascript\">if (window.MathJax && window.MathJax.Hub && window.MathJax.Hub.Config) {window.MathJax.Hub.Config({SVG: {font: \"STIX-Web\"}});}</script>                <script type=\"text/javascript\">window.PlotlyConfig = {MathJaxConfig: 'local'};</script>\n",
              "        <script charset=\"utf-8\" src=\"https://cdn.plot.ly/plotly-2.24.1.min.js\"></script>                <div id=\"f75e4be4-b0d2-433a-bdcc-ed9601fb792a\" class=\"plotly-graph-div\" style=\"height:525px; width:100%;\"></div>            <script type=\"text/javascript\">                                    window.PLOTLYENV=window.PLOTLYENV || {};                                    if (document.getElementById(\"f75e4be4-b0d2-433a-bdcc-ed9601fb792a\")) {                    Plotly.newPlot(                        \"f75e4be4-b0d2-433a-bdcc-ed9601fb792a\",                        [{\"histnorm\":\"probability density\",\"marker\":{\"color\":\"skyblue\"},\"name\":\"Source\",\"x\":[2,2,2,0,0,0,1,2,2,2,0,1,1,1,0,2,0,2,1,2,1,1,1,2,0,1,2,1,2,0,1,1,1,0,2,1,1,0,2,0,0,1,2,1,1,0,0,1,0,0,2,1,1,2,0,2,2,2,0,2,1,0,2,2,2,2,2,2,1,0,1,2,2,2,1,2,1,0,1,1,0,2,1,0,1,1,0,1,0,1,2,0,2,1,2,0,1,0,1,2,2,0,0,1,0,0,2,0,0,1,2,2,1,2,1,1,0,0,1,0,0,2,2,0,1,1,0,0,1,2,2,1,0,2,1,0,0,2,0,1,1,1,1,0,1,2,0,0,0,1,0,1,1,0,0,1,0,0,1,1,0,1,1,2,0,0,0,0,0,1,0,0,2,1,0,0,0,0,1,2,2,0,2,2,2,2,2,1,1,1,2,1,2,2,1,0,2,2,1,2,2,2,1,0,0,1,2,0,1,1,2,2,1,1,1,0,2,1,2,0,1,2,0,1,2,1,2,2,0,0,0,0,0,2,0,2,2,1,2,2,0,2,0,2,2,0,1,2,2,0,0,1,1,1,2,2,0,0,0,1,1,1,2,2,0,1,2,1,2,1,2,2,2,2,0,1,2,2,1,2,2,1,0,0,2,0,0,2,2,0,2,2,0,1,0,0,0,2,0,2,1,0,1,0,2,1,0,1,2,2,0,0,1,2,2,0,2,2,2,1,1,1,2,0,0,0,1,2,1,1,0,0,2,1,2,1,2,1,2,1,1,0,1,0,2,0,1,0,0,2,0,2,2,0,1,2,0,2,0,0,1,0,2,2,1,2,1,0,0,0,1,2,2,0,2,1,1,1,1,2,1,2,0,2,1,2,0,0,0,2,1,1,2,1,1,2,0,1,0,1,0,0,1,1,2,1,1,2,0,2,0,2,1,1,0,1,0,2,1,0,2,1,1,0,1,0,1,2,1,0,0,0,2,1,1,1,0,0,1,0,1,1,0,1,0,1,0,0,0,1,1,2,1,1,1,2,2,1,1,0,1,0,1,0,2,2,1,2,2,0,2,1,1,2,1,2,1,0,2,1,0,2,1,2,0,2,0,0,1,0,0,1,0,1,1,0,2,0,2,0,1,0,1,2,0,2,0,1,1,0,2,0,0,0,2,0,1,0,0,1,0,2,0,2,0,0,0,2,1,0,0,0,1,0,2,1,2,2,1,1,0,1,2,0,1,2,1,0,2,1,0,1,0,2,2,1,2,1,1,2,1,1,2,0,1,1,1,2,0,2,2,2,0,2,2,2,0,0,0,0,2,0,1,2,1,0,1,2,2,2,1,2,2,1,0,2,0,0,2,1,0,1,2,2,2,2,2,2,1,2,0,0,2,1,2,2,2,2,1,0,0,0,0,0,0,1,2,1,1,1,1,1,1,2,1,1,0,0,2,1,0,1,0,0,0,0,1,2,0,0,2,1,0,2,1,1,1,1,1,0,0,1,2,1,0,2,0,0,2,1,1,0,2,2,0,2,0,2,1,0,2,2,2,0,2,2,2,0,0,1,0,0,0,1,1,2,0,2,2,2,0,0,1,1,2,2,0,1,2,2,1,0,2,0,2,0,2,2,2,0,1,0,0,0,2,2,0,0,2,1,2,2,0,0,2,0,2,1,0,1,2,1,0,1,0,1,0,2,1,1,1,0,1,1,0,0,1,1,0,1,1,2,2,1,2,2,0,1,1,2,2,1,0,1,0,1,1,0,0,0,0,0,0,0,2,1,0,2,1,1,1,2,2,1,2,2,0,2,1,1,2,2,1,1,2,2,0,1,2,2,2,1,0,2,0,1,0,0,0,1,1,2,2,2,0,0,0,1,2,1,0,2,1,2,2,2,0,0,2,0,1,1,1,0,2,1,1,0,0,0,2,2,0,1,0,1,0,2,1,2,1,1,0,1,0,2,0,2,2,0,1,2,1,2,2,2,0,0,2,0,0,2,2,0,0,2,0,2,1,2,2,2,1,2,2,2,1,1,0,1,2,2,0,0,2,0,1,2,2,1,2,2,1,0,2,1,1,0,0,2,1,2,1,1,2,2,1,1,2,0,1,0,2,0,0,1,1,0,1,0,0,2,0,2,1,0,2,2,2,0,1,0,1,2,0,2,1,2,2,1,1,2,1,0,0,1,0,2,1,0,1,0,1,2,2,1,0,0,1,0,0,1,0,2,0,1,1,1,2,0,1,1,1,0,0,0,0,0,0,1],\"type\":\"histogram\"}],                        {\"template\":{\"data\":{\"histogram2dcontour\":[{\"type\":\"histogram2dcontour\",\"colorbar\":{\"outlinewidth\":0,\"ticks\":\"\"},\"colorscale\":[[0.0,\"#0d0887\"],[0.1111111111111111,\"#46039f\"],[0.2222222222222222,\"#7201a8\"],[0.3333333333333333,\"#9c179e\"],[0.4444444444444444,\"#bd3786\"],[0.5555555555555556,\"#d8576b\"],[0.6666666666666666,\"#ed7953\"],[0.7777777777777778,\"#fb9f3a\"],[0.8888888888888888,\"#fdca26\"],[1.0,\"#f0f921\"]]}],\"choropleth\":[{\"type\":\"choropleth\",\"colorbar\":{\"outlinewidth\":0,\"ticks\":\"\"}}],\"histogram2d\":[{\"type\":\"histogram2d\",\"colorbar\":{\"outlinewidth\":0,\"ticks\":\"\"},\"colorscale\":[[0.0,\"#0d0887\"],[0.1111111111111111,\"#46039f\"],[0.2222222222222222,\"#7201a8\"],[0.3333333333333333,\"#9c179e\"],[0.4444444444444444,\"#bd3786\"],[0.5555555555555556,\"#d8576b\"],[0.6666666666666666,\"#ed7953\"],[0.7777777777777778,\"#fb9f3a\"],[0.8888888888888888,\"#fdca26\"],[1.0,\"#f0f921\"]]}],\"heatmap\":[{\"type\":\"heatmap\",\"colorbar\":{\"outlinewidth\":0,\"ticks\":\"\"},\"colorscale\":[[0.0,\"#0d0887\"],[0.1111111111111111,\"#46039f\"],[0.2222222222222222,\"#7201a8\"],[0.3333333333333333,\"#9c179e\"],[0.4444444444444444,\"#bd3786\"],[0.5555555555555556,\"#d8576b\"],[0.6666666666666666,\"#ed7953\"],[0.7777777777777778,\"#fb9f3a\"],[0.8888888888888888,\"#fdca26\"],[1.0,\"#f0f921\"]]}],\"heatmapgl\":[{\"type\":\"heatmapgl\",\"colorbar\":{\"outlinewidth\":0,\"ticks\":\"\"},\"colorscale\":[[0.0,\"#0d0887\"],[0.1111111111111111,\"#46039f\"],[0.2222222222222222,\"#7201a8\"],[0.3333333333333333,\"#9c179e\"],[0.4444444444444444,\"#bd3786\"],[0.5555555555555556,\"#d8576b\"],[0.6666666666666666,\"#ed7953\"],[0.7777777777777778,\"#fb9f3a\"],[0.8888888888888888,\"#fdca26\"],[1.0,\"#f0f921\"]]}],\"contourcarpet\":[{\"type\":\"contourcarpet\",\"colorbar\":{\"outlinewidth\":0,\"ticks\":\"\"}}],\"contour\":[{\"type\":\"contour\",\"colorbar\":{\"outlinewidth\":0,\"ticks\":\"\"},\"colorscale\":[[0.0,\"#0d0887\"],[0.1111111111111111,\"#46039f\"],[0.2222222222222222,\"#7201a8\"],[0.3333333333333333,\"#9c179e\"],[0.4444444444444444,\"#bd3786\"],[0.5555555555555556,\"#d8576b\"],[0.6666666666666666,\"#ed7953\"],[0.7777777777777778,\"#fb9f3a\"],[0.8888888888888888,\"#fdca26\"],[1.0,\"#f0f921\"]]}],\"surface\":[{\"type\":\"surface\",\"colorbar\":{\"outlinewidth\":0,\"ticks\":\"\"},\"colorscale\":[[0.0,\"#0d0887\"],[0.1111111111111111,\"#46039f\"],[0.2222222222222222,\"#7201a8\"],[0.3333333333333333,\"#9c179e\"],[0.4444444444444444,\"#bd3786\"],[0.5555555555555556,\"#d8576b\"],[0.6666666666666666,\"#ed7953\"],[0.7777777777777778,\"#fb9f3a\"],[0.8888888888888888,\"#fdca26\"],[1.0,\"#f0f921\"]]}],\"mesh3d\":[{\"type\":\"mesh3d\",\"colorbar\":{\"outlinewidth\":0,\"ticks\":\"\"}}],\"scatter\":[{\"fillpattern\":{\"fillmode\":\"overlay\",\"size\":10,\"solidity\":0.2},\"type\":\"scatter\"}],\"parcoords\":[{\"type\":\"parcoords\",\"line\":{\"colorbar\":{\"outlinewidth\":0,\"ticks\":\"\"}}}],\"scatterpolargl\":[{\"type\":\"scatterpolargl\",\"marker\":{\"colorbar\":{\"outlinewidth\":0,\"ticks\":\"\"}}}],\"bar\":[{\"error_x\":{\"color\":\"#2a3f5f\"},\"error_y\":{\"color\":\"#2a3f5f\"},\"marker\":{\"line\":{\"color\":\"#E5ECF6\",\"width\":0.5},\"pattern\":{\"fillmode\":\"overlay\",\"size\":10,\"solidity\":0.2}},\"type\":\"bar\"}],\"scattergeo\":[{\"type\":\"scattergeo\",\"marker\":{\"colorbar\":{\"outlinewidth\":0,\"ticks\":\"\"}}}],\"scatterpolar\":[{\"type\":\"scatterpolar\",\"marker\":{\"colorbar\":{\"outlinewidth\":0,\"ticks\":\"\"}}}],\"histogram\":[{\"marker\":{\"pattern\":{\"fillmode\":\"overlay\",\"size\":10,\"solidity\":0.2}},\"type\":\"histogram\"}],\"scattergl\":[{\"type\":\"scattergl\",\"marker\":{\"colorbar\":{\"outlinewidth\":0,\"ticks\":\"\"}}}],\"scatter3d\":[{\"type\":\"scatter3d\",\"line\":{\"colorbar\":{\"outlinewidth\":0,\"ticks\":\"\"}},\"marker\":{\"colorbar\":{\"outlinewidth\":0,\"ticks\":\"\"}}}],\"scattermapbox\":[{\"type\":\"scattermapbox\",\"marker\":{\"colorbar\":{\"outlinewidth\":0,\"ticks\":\"\"}}}],\"scatterternary\":[{\"type\":\"scatterternary\",\"marker\":{\"colorbar\":{\"outlinewidth\":0,\"ticks\":\"\"}}}],\"scattercarpet\":[{\"type\":\"scattercarpet\",\"marker\":{\"colorbar\":{\"outlinewidth\":0,\"ticks\":\"\"}}}],\"carpet\":[{\"aaxis\":{\"endlinecolor\":\"#2a3f5f\",\"gridcolor\":\"white\",\"linecolor\":\"white\",\"minorgridcolor\":\"white\",\"startlinecolor\":\"#2a3f5f\"},\"baxis\":{\"endlinecolor\":\"#2a3f5f\",\"gridcolor\":\"white\",\"linecolor\":\"white\",\"minorgridcolor\":\"white\",\"startlinecolor\":\"#2a3f5f\"},\"type\":\"carpet\"}],\"table\":[{\"cells\":{\"fill\":{\"color\":\"#EBF0F8\"},\"line\":{\"color\":\"white\"}},\"header\":{\"fill\":{\"color\":\"#C8D4E3\"},\"line\":{\"color\":\"white\"}},\"type\":\"table\"}],\"barpolar\":[{\"marker\":{\"line\":{\"color\":\"#E5ECF6\",\"width\":0.5},\"pattern\":{\"fillmode\":\"overlay\",\"size\":10,\"solidity\":0.2}},\"type\":\"barpolar\"}],\"pie\":[{\"automargin\":true,\"type\":\"pie\"}]},\"layout\":{\"autotypenumbers\":\"strict\",\"colorway\":[\"#636efa\",\"#EF553B\",\"#00cc96\",\"#ab63fa\",\"#FFA15A\",\"#19d3f3\",\"#FF6692\",\"#B6E880\",\"#FF97FF\",\"#FECB52\"],\"font\":{\"color\":\"#2a3f5f\"},\"hovermode\":\"closest\",\"hoverlabel\":{\"align\":\"left\"},\"paper_bgcolor\":\"white\",\"plot_bgcolor\":\"#E5ECF6\",\"polar\":{\"bgcolor\":\"#E5ECF6\",\"angularaxis\":{\"gridcolor\":\"white\",\"linecolor\":\"white\",\"ticks\":\"\"},\"radialaxis\":{\"gridcolor\":\"white\",\"linecolor\":\"white\",\"ticks\":\"\"}},\"ternary\":{\"bgcolor\":\"#E5ECF6\",\"aaxis\":{\"gridcolor\":\"white\",\"linecolor\":\"white\",\"ticks\":\"\"},\"baxis\":{\"gridcolor\":\"white\",\"linecolor\":\"white\",\"ticks\":\"\"},\"caxis\":{\"gridcolor\":\"white\",\"linecolor\":\"white\",\"ticks\":\"\"}},\"coloraxis\":{\"colorbar\":{\"outlinewidth\":0,\"ticks\":\"\"}},\"colorscale\":{\"sequential\":[[0.0,\"#0d0887\"],[0.1111111111111111,\"#46039f\"],[0.2222222222222222,\"#7201a8\"],[0.3333333333333333,\"#9c179e\"],[0.4444444444444444,\"#bd3786\"],[0.5555555555555556,\"#d8576b\"],[0.6666666666666666,\"#ed7953\"],[0.7777777777777778,\"#fb9f3a\"],[0.8888888888888888,\"#fdca26\"],[1.0,\"#f0f921\"]],\"sequentialminus\":[[0.0,\"#0d0887\"],[0.1111111111111111,\"#46039f\"],[0.2222222222222222,\"#7201a8\"],[0.3333333333333333,\"#9c179e\"],[0.4444444444444444,\"#bd3786\"],[0.5555555555555556,\"#d8576b\"],[0.6666666666666666,\"#ed7953\"],[0.7777777777777778,\"#fb9f3a\"],[0.8888888888888888,\"#fdca26\"],[1.0,\"#f0f921\"]],\"diverging\":[[0,\"#8e0152\"],[0.1,\"#c51b7d\"],[0.2,\"#de77ae\"],[0.3,\"#f1b6da\"],[0.4,\"#fde0ef\"],[0.5,\"#f7f7f7\"],[0.6,\"#e6f5d0\"],[0.7,\"#b8e186\"],[0.8,\"#7fbc41\"],[0.9,\"#4d9221\"],[1,\"#276419\"]]},\"xaxis\":{\"gridcolor\":\"white\",\"linecolor\":\"white\",\"ticks\":\"\",\"title\":{\"standoff\":15},\"zerolinecolor\":\"white\",\"automargin\":true,\"zerolinewidth\":2},\"yaxis\":{\"gridcolor\":\"white\",\"linecolor\":\"white\",\"ticks\":\"\",\"title\":{\"standoff\":15},\"zerolinecolor\":\"white\",\"automargin\":true,\"zerolinewidth\":2},\"scene\":{\"xaxis\":{\"backgroundcolor\":\"#E5ECF6\",\"gridcolor\":\"white\",\"linecolor\":\"white\",\"showbackground\":true,\"ticks\":\"\",\"zerolinecolor\":\"white\",\"gridwidth\":2},\"yaxis\":{\"backgroundcolor\":\"#E5ECF6\",\"gridcolor\":\"white\",\"linecolor\":\"white\",\"showbackground\":true,\"ticks\":\"\",\"zerolinecolor\":\"white\",\"gridwidth\":2},\"zaxis\":{\"backgroundcolor\":\"#E5ECF6\",\"gridcolor\":\"white\",\"linecolor\":\"white\",\"showbackground\":true,\"ticks\":\"\",\"zerolinecolor\":\"white\",\"gridwidth\":2}},\"shapedefaults\":{\"line\":{\"color\":\"#2a3f5f\"}},\"annotationdefaults\":{\"arrowcolor\":\"#2a3f5f\",\"arrowhead\":0,\"arrowwidth\":1},\"geo\":{\"bgcolor\":\"white\",\"landcolor\":\"#E5ECF6\",\"subunitcolor\":\"white\",\"showland\":true,\"showlakes\":true,\"lakecolor\":\"white\"},\"title\":{\"x\":0.05},\"mapbox\":{\"style\":\"light\"}}},\"xaxis\":{\"title\":{\"text\":\"Source\"},\"showgrid\":false},\"yaxis\":{\"title\":{\"text\":\"Probability Density\"},\"showgrid\":false},\"title\":{\"text\":\"Distribution of Source\"},\"plot_bgcolor\":\"white\",\"barmode\":\"overlay\",\"bargap\":0.1,\"bargroupgap\":0.1},                        {\"responsive\": true}                    ).then(function(){\n",
              "                            \n",
              "var gd = document.getElementById('f75e4be4-b0d2-433a-bdcc-ed9601fb792a');\n",
              "var x = new MutationObserver(function (mutations, observer) {{\n",
              "        var display = window.getComputedStyle(gd).display;\n",
              "        if (!display || display === 'none') {{\n",
              "            console.log([gd, 'removed!']);\n",
              "            Plotly.purge(gd);\n",
              "            observer.disconnect();\n",
              "        }}\n",
              "}});\n",
              "\n",
              "// Listen for the removal of the full notebook cells\n",
              "var notebookContainer = gd.closest('#notebook-container');\n",
              "if (notebookContainer) {{\n",
              "    x.observe(notebookContainer, {childList: true});\n",
              "}}\n",
              "\n",
              "// Listen for the clearing of the current output cell\n",
              "var outputEl = gd.closest('.output');\n",
              "if (outputEl) {{\n",
              "    x.observe(outputEl, {childList: true});\n",
              "}}\n",
              "\n",
              "                        })                };                            </script>        </div>\n",
              "</body>\n",
              "</html>"
            ]
          },
          "metadata": {}
        },
        {
          "output_type": "display_data",
          "data": {
            "text/html": [
              "<html>\n",
              "<head><meta charset=\"utf-8\" /></head>\n",
              "<body>\n",
              "    <div>            <script src=\"https://cdnjs.cloudflare.com/ajax/libs/mathjax/2.7.5/MathJax.js?config=TeX-AMS-MML_SVG\"></script><script type=\"text/javascript\">if (window.MathJax && window.MathJax.Hub && window.MathJax.Hub.Config) {window.MathJax.Hub.Config({SVG: {font: \"STIX-Web\"}});}</script>                <script type=\"text/javascript\">window.PlotlyConfig = {MathJaxConfig: 'local'};</script>\n",
              "        <script charset=\"utf-8\" src=\"https://cdn.plot.ly/plotly-2.24.1.min.js\"></script>                <div id=\"bc8f84c7-1c4d-47d1-ad93-bcdd721d4f11\" class=\"plotly-graph-div\" style=\"height:525px; width:100%;\"></div>            <script type=\"text/javascript\">                                    window.PLOTLYENV=window.PLOTLYENV || {};                                    if (document.getElementById(\"bc8f84c7-1c4d-47d1-ad93-bcdd721d4f11\")) {                    Plotly.newPlot(                        \"bc8f84c7-1c4d-47d1-ad93-bcdd721d4f11\",                        [{\"histnorm\":\"probability density\",\"marker\":{\"color\":\"skyblue\"},\"name\":\"Destination\",\"x\":[68,72,81,99,5,62,91,7,33,82,38,28,52,79,60,87,96,9,57,30,29,96,35,59,82,93,17,73,60,8,13,33,85,76,94,41,1,85,93,78,38,48,62,51,69,77,58,5,37,81,83,38,95,36,49,1,50,58,10,51,98,49,13,71,37,37,31,20,39,45,36,15,30,52,61,82,68,30,28,4,34,52,28,57,22,40,75,30,30,62,59,25,17,65,99,14,2,3,67,20,77,31,40,86,78,50,27,13,65,2,37,11,33,29,59,67,93,66,78,84,48,82,37,72,54,71,10,16,19,30,54,61,43,83,3,30,18,36,20,17,24,13,57,67,21,4,82,45,39,43,75,38,41,28,5,52,23,38,36,31,8,89,89,16,11,20,78,57,19,72,61,25,33,40,17,53,91,81,47,97,95,85,24,16,45,84,56,99,28,46,99,82,88,28,78,49,88,95,6,98,99,29,66,69,86,73,34,49,90,70,66,72,2,2,72,26,78,51,28,97,44,20,99,46,81,44,68,9,84,47,65,21,97,99,6,86,25,3,72,76,29,96,66,81,83,15,22,70,34,3,28,20,16,72,30,36,98,49,50,81,57,64,89,59,6,52,62,84,18,46,97,63,23,98,10,6,77,62,43,17,60,18,69,61,26,15,62,54,82,30,71,29,75,6,85,56,51,87,54,11,44,60,31,60,15,49,57,66,8,70,16,53,33,88,79,35,30,52,90,54,5,65,27,85,6,89,18,69,57,33,82,73,74,32,95,74,49,33,15,62,88,33,57,29,44,98,51,47,73,38,3,18,16,68,86,94,23,83,8,56,50,27,5,90,27,61,84,79,19,97,92,37,21,4,19,78,52,50,32,98,19,13,92,99,72,95,46,81,66,89,17,46,92,38,51,25,49,77,5,52,47,41,15,11,28,79,14,5,87,16,30,79,43,26,76,96,92,23,44,85,56,3,26,1,96,57,71,83,87,63,47,90,78,13,63,38,84,32,29,60,84,41,90,30,29,53,43,11,85,18,1,40,39,99,66,49,87,46,50,23,93,66,86,67,33,51,71,36,24,83,90,80,28,86,2,10,82,12,65,68,62,55,37,85,20,70,85,63,69,42,81,17,58,6,97,23,4,9,63,93,42,75,93,96,12,35,92,50,72,40,59,6,74,89,13,98,60,79,16,5,23,53,67,72,73,6,40,80,80,42,90,23,90,90,20,63,30,10,12,27,83,73,2,47,56,11,75,25,96,44,92,14,79,56,6,24,43,50,76,57,44,25,82,22,95,19,64,90,30,38,50,41,96,12,57,64,15,33,66,66,37,26,77,73,51,13,25,20,68,11,8,53,93,15,73,47,36,82,24,62,54,13,46,8,48,40,95,20,51,66,44,83,79,90,57,73,51,35,91,12,12,37,50,77,82,96,75,49,75,12,94,35,75,77,40,11,3,76,47,52,42,92,4,17,64,65,14,39,5,4,20,82,17,72,25,12,23,61,92,3,9,73,90,39,53,98,89,64,22,5,32,76,38,8,23,43,60,96,55,74,52,83,24,84,26,58,70,90,46,89,52,60,45,27,44,33,31,15,72,97,62,2,48,44,91,16,69,75,86,40,95,87,1,82,59,13,92,44,55,48,23,32,35,99,43,69,63,37,84,45,82,71,7,49,10,29,78,57,10,86,67,10,37,29,65,75,14,3,38,72,88,95,82,4,99,81,83,51,62,83,29,36,54,27,43,47,70,29,44,84,63,75,75,10,92,76,97,39,32,23,92,58,22,98,62,42,42,24,53,24,73,42,61,48,16,37,66,95,43,1,84,7,94,68,32,30,17,68,27,7,12,82,56,44,68,21,92,93,15,15,81,64,44,28,88,21,24,35,33,66,23,22,58,69,46,40,25,87,18,53,91,9,6,98,87,83,11,63,30,12,31,72,59,95,43,86,72,26,55,84,26,46,4,85,84,38,34,61,90,8,61,38,85,99,17,46,40,34,98,66,74,88,69,25,7,98,61,89,62,60,75,30,29,25,4,83,22,7,85,22,28,27,90,65,4,54,38,8,81,76,12,3,55,6,18,79,6,79,82,31,99,4,1,94,45,45,62,1,18,30,92,35,60,22,64,95,18,39,80,2,16,87,18,54,23,78,48,67,12,10,41,55,52,48,5,11,7,45,73,9,73,19,3,70,94,30,28,18,59,12,50,73,89,4,12,58,51,16,58,4,61,40,86,30,54,68,57,76,80,46,91,80,98,12,6,31,59,69,60,33],\"type\":\"histogram\"}],                        {\"template\":{\"data\":{\"histogram2dcontour\":[{\"type\":\"histogram2dcontour\",\"colorbar\":{\"outlinewidth\":0,\"ticks\":\"\"},\"colorscale\":[[0.0,\"#0d0887\"],[0.1111111111111111,\"#46039f\"],[0.2222222222222222,\"#7201a8\"],[0.3333333333333333,\"#9c179e\"],[0.4444444444444444,\"#bd3786\"],[0.5555555555555556,\"#d8576b\"],[0.6666666666666666,\"#ed7953\"],[0.7777777777777778,\"#fb9f3a\"],[0.8888888888888888,\"#fdca26\"],[1.0,\"#f0f921\"]]}],\"choropleth\":[{\"type\":\"choropleth\",\"colorbar\":{\"outlinewidth\":0,\"ticks\":\"\"}}],\"histogram2d\":[{\"type\":\"histogram2d\",\"colorbar\":{\"outlinewidth\":0,\"ticks\":\"\"},\"colorscale\":[[0.0,\"#0d0887\"],[0.1111111111111111,\"#46039f\"],[0.2222222222222222,\"#7201a8\"],[0.3333333333333333,\"#9c179e\"],[0.4444444444444444,\"#bd3786\"],[0.5555555555555556,\"#d8576b\"],[0.6666666666666666,\"#ed7953\"],[0.7777777777777778,\"#fb9f3a\"],[0.8888888888888888,\"#fdca26\"],[1.0,\"#f0f921\"]]}],\"heatmap\":[{\"type\":\"heatmap\",\"colorbar\":{\"outlinewidth\":0,\"ticks\":\"\"},\"colorscale\":[[0.0,\"#0d0887\"],[0.1111111111111111,\"#46039f\"],[0.2222222222222222,\"#7201a8\"],[0.3333333333333333,\"#9c179e\"],[0.4444444444444444,\"#bd3786\"],[0.5555555555555556,\"#d8576b\"],[0.6666666666666666,\"#ed7953\"],[0.7777777777777778,\"#fb9f3a\"],[0.8888888888888888,\"#fdca26\"],[1.0,\"#f0f921\"]]}],\"heatmapgl\":[{\"type\":\"heatmapgl\",\"colorbar\":{\"outlinewidth\":0,\"ticks\":\"\"},\"colorscale\":[[0.0,\"#0d0887\"],[0.1111111111111111,\"#46039f\"],[0.2222222222222222,\"#7201a8\"],[0.3333333333333333,\"#9c179e\"],[0.4444444444444444,\"#bd3786\"],[0.5555555555555556,\"#d8576b\"],[0.6666666666666666,\"#ed7953\"],[0.7777777777777778,\"#fb9f3a\"],[0.8888888888888888,\"#fdca26\"],[1.0,\"#f0f921\"]]}],\"contourcarpet\":[{\"type\":\"contourcarpet\",\"colorbar\":{\"outlinewidth\":0,\"ticks\":\"\"}}],\"contour\":[{\"type\":\"contour\",\"colorbar\":{\"outlinewidth\":0,\"ticks\":\"\"},\"colorscale\":[[0.0,\"#0d0887\"],[0.1111111111111111,\"#46039f\"],[0.2222222222222222,\"#7201a8\"],[0.3333333333333333,\"#9c179e\"],[0.4444444444444444,\"#bd3786\"],[0.5555555555555556,\"#d8576b\"],[0.6666666666666666,\"#ed7953\"],[0.7777777777777778,\"#fb9f3a\"],[0.8888888888888888,\"#fdca26\"],[1.0,\"#f0f921\"]]}],\"surface\":[{\"type\":\"surface\",\"colorbar\":{\"outlinewidth\":0,\"ticks\":\"\"},\"colorscale\":[[0.0,\"#0d0887\"],[0.1111111111111111,\"#46039f\"],[0.2222222222222222,\"#7201a8\"],[0.3333333333333333,\"#9c179e\"],[0.4444444444444444,\"#bd3786\"],[0.5555555555555556,\"#d8576b\"],[0.6666666666666666,\"#ed7953\"],[0.7777777777777778,\"#fb9f3a\"],[0.8888888888888888,\"#fdca26\"],[1.0,\"#f0f921\"]]}],\"mesh3d\":[{\"type\":\"mesh3d\",\"colorbar\":{\"outlinewidth\":0,\"ticks\":\"\"}}],\"scatter\":[{\"fillpattern\":{\"fillmode\":\"overlay\",\"size\":10,\"solidity\":0.2},\"type\":\"scatter\"}],\"parcoords\":[{\"type\":\"parcoords\",\"line\":{\"colorbar\":{\"outlinewidth\":0,\"ticks\":\"\"}}}],\"scatterpolargl\":[{\"type\":\"scatterpolargl\",\"marker\":{\"colorbar\":{\"outlinewidth\":0,\"ticks\":\"\"}}}],\"bar\":[{\"error_x\":{\"color\":\"#2a3f5f\"},\"error_y\":{\"color\":\"#2a3f5f\"},\"marker\":{\"line\":{\"color\":\"#E5ECF6\",\"width\":0.5},\"pattern\":{\"fillmode\":\"overlay\",\"size\":10,\"solidity\":0.2}},\"type\":\"bar\"}],\"scattergeo\":[{\"type\":\"scattergeo\",\"marker\":{\"colorbar\":{\"outlinewidth\":0,\"ticks\":\"\"}}}],\"scatterpolar\":[{\"type\":\"scatterpolar\",\"marker\":{\"colorbar\":{\"outlinewidth\":0,\"ticks\":\"\"}}}],\"histogram\":[{\"marker\":{\"pattern\":{\"fillmode\":\"overlay\",\"size\":10,\"solidity\":0.2}},\"type\":\"histogram\"}],\"scattergl\":[{\"type\":\"scattergl\",\"marker\":{\"colorbar\":{\"outlinewidth\":0,\"ticks\":\"\"}}}],\"scatter3d\":[{\"type\":\"scatter3d\",\"line\":{\"colorbar\":{\"outlinewidth\":0,\"ticks\":\"\"}},\"marker\":{\"colorbar\":{\"outlinewidth\":0,\"ticks\":\"\"}}}],\"scattermapbox\":[{\"type\":\"scattermapbox\",\"marker\":{\"colorbar\":{\"outlinewidth\":0,\"ticks\":\"\"}}}],\"scatterternary\":[{\"type\":\"scatterternary\",\"marker\":{\"colorbar\":{\"outlinewidth\":0,\"ticks\":\"\"}}}],\"scattercarpet\":[{\"type\":\"scattercarpet\",\"marker\":{\"colorbar\":{\"outlinewidth\":0,\"ticks\":\"\"}}}],\"carpet\":[{\"aaxis\":{\"endlinecolor\":\"#2a3f5f\",\"gridcolor\":\"white\",\"linecolor\":\"white\",\"minorgridcolor\":\"white\",\"startlinecolor\":\"#2a3f5f\"},\"baxis\":{\"endlinecolor\":\"#2a3f5f\",\"gridcolor\":\"white\",\"linecolor\":\"white\",\"minorgridcolor\":\"white\",\"startlinecolor\":\"#2a3f5f\"},\"type\":\"carpet\"}],\"table\":[{\"cells\":{\"fill\":{\"color\":\"#EBF0F8\"},\"line\":{\"color\":\"white\"}},\"header\":{\"fill\":{\"color\":\"#C8D4E3\"},\"line\":{\"color\":\"white\"}},\"type\":\"table\"}],\"barpolar\":[{\"marker\":{\"line\":{\"color\":\"#E5ECF6\",\"width\":0.5},\"pattern\":{\"fillmode\":\"overlay\",\"size\":10,\"solidity\":0.2}},\"type\":\"barpolar\"}],\"pie\":[{\"automargin\":true,\"type\":\"pie\"}]},\"layout\":{\"autotypenumbers\":\"strict\",\"colorway\":[\"#636efa\",\"#EF553B\",\"#00cc96\",\"#ab63fa\",\"#FFA15A\",\"#19d3f3\",\"#FF6692\",\"#B6E880\",\"#FF97FF\",\"#FECB52\"],\"font\":{\"color\":\"#2a3f5f\"},\"hovermode\":\"closest\",\"hoverlabel\":{\"align\":\"left\"},\"paper_bgcolor\":\"white\",\"plot_bgcolor\":\"#E5ECF6\",\"polar\":{\"bgcolor\":\"#E5ECF6\",\"angularaxis\":{\"gridcolor\":\"white\",\"linecolor\":\"white\",\"ticks\":\"\"},\"radialaxis\":{\"gridcolor\":\"white\",\"linecolor\":\"white\",\"ticks\":\"\"}},\"ternary\":{\"bgcolor\":\"#E5ECF6\",\"aaxis\":{\"gridcolor\":\"white\",\"linecolor\":\"white\",\"ticks\":\"\"},\"baxis\":{\"gridcolor\":\"white\",\"linecolor\":\"white\",\"ticks\":\"\"},\"caxis\":{\"gridcolor\":\"white\",\"linecolor\":\"white\",\"ticks\":\"\"}},\"coloraxis\":{\"colorbar\":{\"outlinewidth\":0,\"ticks\":\"\"}},\"colorscale\":{\"sequential\":[[0.0,\"#0d0887\"],[0.1111111111111111,\"#46039f\"],[0.2222222222222222,\"#7201a8\"],[0.3333333333333333,\"#9c179e\"],[0.4444444444444444,\"#bd3786\"],[0.5555555555555556,\"#d8576b\"],[0.6666666666666666,\"#ed7953\"],[0.7777777777777778,\"#fb9f3a\"],[0.8888888888888888,\"#fdca26\"],[1.0,\"#f0f921\"]],\"sequentialminus\":[[0.0,\"#0d0887\"],[0.1111111111111111,\"#46039f\"],[0.2222222222222222,\"#7201a8\"],[0.3333333333333333,\"#9c179e\"],[0.4444444444444444,\"#bd3786\"],[0.5555555555555556,\"#d8576b\"],[0.6666666666666666,\"#ed7953\"],[0.7777777777777778,\"#fb9f3a\"],[0.8888888888888888,\"#fdca26\"],[1.0,\"#f0f921\"]],\"diverging\":[[0,\"#8e0152\"],[0.1,\"#c51b7d\"],[0.2,\"#de77ae\"],[0.3,\"#f1b6da\"],[0.4,\"#fde0ef\"],[0.5,\"#f7f7f7\"],[0.6,\"#e6f5d0\"],[0.7,\"#b8e186\"],[0.8,\"#7fbc41\"],[0.9,\"#4d9221\"],[1,\"#276419\"]]},\"xaxis\":{\"gridcolor\":\"white\",\"linecolor\":\"white\",\"ticks\":\"\",\"title\":{\"standoff\":15},\"zerolinecolor\":\"white\",\"automargin\":true,\"zerolinewidth\":2},\"yaxis\":{\"gridcolor\":\"white\",\"linecolor\":\"white\",\"ticks\":\"\",\"title\":{\"standoff\":15},\"zerolinecolor\":\"white\",\"automargin\":true,\"zerolinewidth\":2},\"scene\":{\"xaxis\":{\"backgroundcolor\":\"#E5ECF6\",\"gridcolor\":\"white\",\"linecolor\":\"white\",\"showbackground\":true,\"ticks\":\"\",\"zerolinecolor\":\"white\",\"gridwidth\":2},\"yaxis\":{\"backgroundcolor\":\"#E5ECF6\",\"gridcolor\":\"white\",\"linecolor\":\"white\",\"showbackground\":true,\"ticks\":\"\",\"zerolinecolor\":\"white\",\"gridwidth\":2},\"zaxis\":{\"backgroundcolor\":\"#E5ECF6\",\"gridcolor\":\"white\",\"linecolor\":\"white\",\"showbackground\":true,\"ticks\":\"\",\"zerolinecolor\":\"white\",\"gridwidth\":2}},\"shapedefaults\":{\"line\":{\"color\":\"#2a3f5f\"}},\"annotationdefaults\":{\"arrowcolor\":\"#2a3f5f\",\"arrowhead\":0,\"arrowwidth\":1},\"geo\":{\"bgcolor\":\"white\",\"landcolor\":\"#E5ECF6\",\"subunitcolor\":\"white\",\"showland\":true,\"showlakes\":true,\"lakecolor\":\"white\"},\"title\":{\"x\":0.05},\"mapbox\":{\"style\":\"light\"}}},\"xaxis\":{\"title\":{\"text\":\"Destination\"},\"showgrid\":false},\"yaxis\":{\"title\":{\"text\":\"Probability Density\"},\"showgrid\":false},\"title\":{\"text\":\"Distribution of Destination\"},\"plot_bgcolor\":\"white\",\"barmode\":\"overlay\",\"bargap\":0.1,\"bargroupgap\":0.1},                        {\"responsive\": true}                    ).then(function(){\n",
              "                            \n",
              "var gd = document.getElementById('bc8f84c7-1c4d-47d1-ad93-bcdd721d4f11');\n",
              "var x = new MutationObserver(function (mutations, observer) {{\n",
              "        var display = window.getComputedStyle(gd).display;\n",
              "        if (!display || display === 'none') {{\n",
              "            console.log([gd, 'removed!']);\n",
              "            Plotly.purge(gd);\n",
              "            observer.disconnect();\n",
              "        }}\n",
              "}});\n",
              "\n",
              "// Listen for the removal of the full notebook cells\n",
              "var notebookContainer = gd.closest('#notebook-container');\n",
              "if (notebookContainer) {{\n",
              "    x.observe(notebookContainer, {childList: true});\n",
              "}}\n",
              "\n",
              "// Listen for the clearing of the current output cell\n",
              "var outputEl = gd.closest('.output');\n",
              "if (outputEl) {{\n",
              "    x.observe(outputEl, {childList: true});\n",
              "}}\n",
              "\n",
              "                        })                };                            </script>        </div>\n",
              "</body>\n",
              "</html>"
            ]
          },
          "metadata": {}
        },
        {
          "output_type": "display_data",
          "data": {
            "text/html": [
              "<html>\n",
              "<head><meta charset=\"utf-8\" /></head>\n",
              "<body>\n",
              "    <div>            <script src=\"https://cdnjs.cloudflare.com/ajax/libs/mathjax/2.7.5/MathJax.js?config=TeX-AMS-MML_SVG\"></script><script type=\"text/javascript\">if (window.MathJax && window.MathJax.Hub && window.MathJax.Hub.Config) {window.MathJax.Hub.Config({SVG: {font: \"STIX-Web\"}});}</script>                <script type=\"text/javascript\">window.PlotlyConfig = {MathJaxConfig: 'local'};</script>\n",
              "        <script charset=\"utf-8\" src=\"https://cdn.plot.ly/plotly-2.24.1.min.js\"></script>                <div id=\"402a453a-cb92-41e1-bd19-6e603aeda33c\" class=\"plotly-graph-div\" style=\"height:525px; width:100%;\"></div>            <script type=\"text/javascript\">                                    window.PLOTLYENV=window.PLOTLYENV || {};                                    if (document.getElementById(\"402a453a-cb92-41e1-bd19-6e603aeda33c\")) {                    Plotly.newPlot(                        \"402a453a-cb92-41e1-bd19-6e603aeda33c\",                        [{\"histnorm\":\"probability density\",\"marker\":{\"color\":\"skyblue\"},\"name\":\"Protocol\",\"x\":[5,12,5,14,3,7,10,11,9,11,3,1,0,3,14,6,11,11,7,9,7,5,12,7,4,12,7,8,14,9,10,1,2,8,8,10,8,8,10,15,4,5,1,12,8,3,15,10,14,14,7,10,14,1,10,12,2,6,10,15,10,13,4,12,5,13,13,0,0,4,12,11,15,8,3,2,4,12,7,12,15,0,5,0,11,11,1,5,15,15,0,6,6,13,7,6,14,7,0,6,3,0,11,7,7,13,14,12,0,9,0,1,7,9,9,15,7,5,3,7,13,0,4,2,6,1,10,13,12,15,12,11,15,14,15,8,11,14,0,0,2,11,12,15,15,7,11,12,1,1,9,15,15,15,7,12,13,13,10,2,10,8,3,1,10,0,4,1,5,12,0,12,15,5,3,4,14,2,5,13,8,10,0,9,0,9,9,4,2,11,13,9,7,3,9,2,15,9,5,15,2,3,6,0,1,10,1,9,3,6,10,1,10,3,7,2,0,6,1,7,12,9,4,0,15,11,4,6,0,12,10,6,4,14,2,0,6,2,3,9,11,15,15,13,5,8,12,2,3,9,4,8,7,4,9,9,6,12,13,12,6,0,11,2,5,15,15,14,5,15,15,5,11,8,6,3,6,15,4,13,5,1,15,1,11,2,13,14,11,15,14,7,10,8,11,2,6,2,1,2,2,10,4,5,7,1,8,3,8,6,3,6,14,2,9,8,11,6,13,15,7,7,10,5,0,3,14,7,2,12,9,14,7,0,4,7,3,5,8,13,11,11,5,12,9,5,5,15,3,0,6,9,14,1,14,14,2,13,9,1,6,11,14,15,15,6,7,11,4,0,0,5,5,3,13,8,0,0,11,10,1,4,8,3,10,14,3,0,12,7,6,8,5,14,15,14,7,5,4,15,10,15,1,4,4,3,11,4,14,4,12,4,13,6,1,15,13,11,11,4,10,11,7,9,7,13,15,15,13,2,9,10,11,5,6,10,15,1,14,9,12,9,13,5,15,4,4,11,6,7,8,2,12,6,1,3,14,14,2,1,3,3,14,1,0,14,8,12,11,5,5,9,15,6,12,0,9,0,11,2,6,10,8,9,4,7,9,7,5,12,3,0,1,11,8,9,1,0,5,15,2,11,3,5,12,2,15,2,9,15,5,9,13,8,0,1,15,1,1,1,9,4,13,3,9,8,2,5,7,0,8,15,0,13,2,0,11,15,4,9,14,15,12,1,15,11,14,11,10,2,5,11,11,0,12,4,6,1,13,10,12,5,14,3,4,11,11,8,0,8,15,7,0,10,6,9,11,12,1,1,7,0,13,12,3,6,15,5,11,10,8,5,15,9,11,0,0,12,4,13,15,4,13,0,13,11,6,4,9,3,3,10,5,6,0,2,3,7,4,13,0,8,15,10,10,13,1,9,3,6,8,5,15,9,3,5,13,12,5,3,11,9,9,15,10,8,10,1,2,14,15,0,0,13,14,9,5,4,11,8,11,11,10,10,11,1,0,6,15,12,11,11,8,10,5,4,5,11,0,5,11,1,3,0,3,9,11,14,9,13,3,2,14,4,5,12,8,2,3,8,8,14,9,15,10,9,8,12,9,0,3,6,10,6,1,15,9,4,0,3,0,6,7,3,14,13,12,8,5,2,3,14,3,8,3,3,5,8,5,6,8,4,7,5,7,14,12,4,6,12,14,2,6,1,15,1,15,6,13,4,2,13,9,8,11,14,15,2,6,5,10,12,1,8,5,15,12,14,2,12,9,6,13,8,6,5,3,11,14,15,2,4,10,8,13,2,15,14,6,12,6,3,7,1,0,12,12,3,5,13,6,15,12,0,12,2,15,3,9,8,12,11,14,3,4,10,4,11,5,14,3,10,9,11,14,14,3,1,14,13,15,6,2,14,3,6,0,10,6,7,3,9,4,11,11,1,2,3,4,7,8,2,7,10,11,3,8,13,13,6,4,1,7,8,14,15,3,0,1,8,0,2,14,11,14,0,2,12,13,2,1,3,15,3,14,6,14,3,4,9,13,0,9,10,2,12,7,14,0,6,10,3,9,10,2,1,6,1,6,10,5,14,0,11,5,12,1,7,11,6,6,10,15,4,6,14,2,14,14,15,10,11,14,9,14,15,0,2,15,14,0,8,14,15,7,0,6,8,8,7,8,12,3,11,11,12,2,11,14,4,15,9,5,7,12,11,9,10,14,3,0,9,7,1,15,9,6,14,14,1,2,8,7,14,5,2,5,0,12,11],\"type\":\"histogram\"}],                        {\"template\":{\"data\":{\"histogram2dcontour\":[{\"type\":\"histogram2dcontour\",\"colorbar\":{\"outlinewidth\":0,\"ticks\":\"\"},\"colorscale\":[[0.0,\"#0d0887\"],[0.1111111111111111,\"#46039f\"],[0.2222222222222222,\"#7201a8\"],[0.3333333333333333,\"#9c179e\"],[0.4444444444444444,\"#bd3786\"],[0.5555555555555556,\"#d8576b\"],[0.6666666666666666,\"#ed7953\"],[0.7777777777777778,\"#fb9f3a\"],[0.8888888888888888,\"#fdca26\"],[1.0,\"#f0f921\"]]}],\"choropleth\":[{\"type\":\"choropleth\",\"colorbar\":{\"outlinewidth\":0,\"ticks\":\"\"}}],\"histogram2d\":[{\"type\":\"histogram2d\",\"colorbar\":{\"outlinewidth\":0,\"ticks\":\"\"},\"colorscale\":[[0.0,\"#0d0887\"],[0.1111111111111111,\"#46039f\"],[0.2222222222222222,\"#7201a8\"],[0.3333333333333333,\"#9c179e\"],[0.4444444444444444,\"#bd3786\"],[0.5555555555555556,\"#d8576b\"],[0.6666666666666666,\"#ed7953\"],[0.7777777777777778,\"#fb9f3a\"],[0.8888888888888888,\"#fdca26\"],[1.0,\"#f0f921\"]]}],\"heatmap\":[{\"type\":\"heatmap\",\"colorbar\":{\"outlinewidth\":0,\"ticks\":\"\"},\"colorscale\":[[0.0,\"#0d0887\"],[0.1111111111111111,\"#46039f\"],[0.2222222222222222,\"#7201a8\"],[0.3333333333333333,\"#9c179e\"],[0.4444444444444444,\"#bd3786\"],[0.5555555555555556,\"#d8576b\"],[0.6666666666666666,\"#ed7953\"],[0.7777777777777778,\"#fb9f3a\"],[0.8888888888888888,\"#fdca26\"],[1.0,\"#f0f921\"]]}],\"heatmapgl\":[{\"type\":\"heatmapgl\",\"colorbar\":{\"outlinewidth\":0,\"ticks\":\"\"},\"colorscale\":[[0.0,\"#0d0887\"],[0.1111111111111111,\"#46039f\"],[0.2222222222222222,\"#7201a8\"],[0.3333333333333333,\"#9c179e\"],[0.4444444444444444,\"#bd3786\"],[0.5555555555555556,\"#d8576b\"],[0.6666666666666666,\"#ed7953\"],[0.7777777777777778,\"#fb9f3a\"],[0.8888888888888888,\"#fdca26\"],[1.0,\"#f0f921\"]]}],\"contourcarpet\":[{\"type\":\"contourcarpet\",\"colorbar\":{\"outlinewidth\":0,\"ticks\":\"\"}}],\"contour\":[{\"type\":\"contour\",\"colorbar\":{\"outlinewidth\":0,\"ticks\":\"\"},\"colorscale\":[[0.0,\"#0d0887\"],[0.1111111111111111,\"#46039f\"],[0.2222222222222222,\"#7201a8\"],[0.3333333333333333,\"#9c179e\"],[0.4444444444444444,\"#bd3786\"],[0.5555555555555556,\"#d8576b\"],[0.6666666666666666,\"#ed7953\"],[0.7777777777777778,\"#fb9f3a\"],[0.8888888888888888,\"#fdca26\"],[1.0,\"#f0f921\"]]}],\"surface\":[{\"type\":\"surface\",\"colorbar\":{\"outlinewidth\":0,\"ticks\":\"\"},\"colorscale\":[[0.0,\"#0d0887\"],[0.1111111111111111,\"#46039f\"],[0.2222222222222222,\"#7201a8\"],[0.3333333333333333,\"#9c179e\"],[0.4444444444444444,\"#bd3786\"],[0.5555555555555556,\"#d8576b\"],[0.6666666666666666,\"#ed7953\"],[0.7777777777777778,\"#fb9f3a\"],[0.8888888888888888,\"#fdca26\"],[1.0,\"#f0f921\"]]}],\"mesh3d\":[{\"type\":\"mesh3d\",\"colorbar\":{\"outlinewidth\":0,\"ticks\":\"\"}}],\"scatter\":[{\"fillpattern\":{\"fillmode\":\"overlay\",\"size\":10,\"solidity\":0.2},\"type\":\"scatter\"}],\"parcoords\":[{\"type\":\"parcoords\",\"line\":{\"colorbar\":{\"outlinewidth\":0,\"ticks\":\"\"}}}],\"scatterpolargl\":[{\"type\":\"scatterpolargl\",\"marker\":{\"colorbar\":{\"outlinewidth\":0,\"ticks\":\"\"}}}],\"bar\":[{\"error_x\":{\"color\":\"#2a3f5f\"},\"error_y\":{\"color\":\"#2a3f5f\"},\"marker\":{\"line\":{\"color\":\"#E5ECF6\",\"width\":0.5},\"pattern\":{\"fillmode\":\"overlay\",\"size\":10,\"solidity\":0.2}},\"type\":\"bar\"}],\"scattergeo\":[{\"type\":\"scattergeo\",\"marker\":{\"colorbar\":{\"outlinewidth\":0,\"ticks\":\"\"}}}],\"scatterpolar\":[{\"type\":\"scatterpolar\",\"marker\":{\"colorbar\":{\"outlinewidth\":0,\"ticks\":\"\"}}}],\"histogram\":[{\"marker\":{\"pattern\":{\"fillmode\":\"overlay\",\"size\":10,\"solidity\":0.2}},\"type\":\"histogram\"}],\"scattergl\":[{\"type\":\"scattergl\",\"marker\":{\"colorbar\":{\"outlinewidth\":0,\"ticks\":\"\"}}}],\"scatter3d\":[{\"type\":\"scatter3d\",\"line\":{\"colorbar\":{\"outlinewidth\":0,\"ticks\":\"\"}},\"marker\":{\"colorbar\":{\"outlinewidth\":0,\"ticks\":\"\"}}}],\"scattermapbox\":[{\"type\":\"scattermapbox\",\"marker\":{\"colorbar\":{\"outlinewidth\":0,\"ticks\":\"\"}}}],\"scatterternary\":[{\"type\":\"scatterternary\",\"marker\":{\"colorbar\":{\"outlinewidth\":0,\"ticks\":\"\"}}}],\"scattercarpet\":[{\"type\":\"scattercarpet\",\"marker\":{\"colorbar\":{\"outlinewidth\":0,\"ticks\":\"\"}}}],\"carpet\":[{\"aaxis\":{\"endlinecolor\":\"#2a3f5f\",\"gridcolor\":\"white\",\"linecolor\":\"white\",\"minorgridcolor\":\"white\",\"startlinecolor\":\"#2a3f5f\"},\"baxis\":{\"endlinecolor\":\"#2a3f5f\",\"gridcolor\":\"white\",\"linecolor\":\"white\",\"minorgridcolor\":\"white\",\"startlinecolor\":\"#2a3f5f\"},\"type\":\"carpet\"}],\"table\":[{\"cells\":{\"fill\":{\"color\":\"#EBF0F8\"},\"line\":{\"color\":\"white\"}},\"header\":{\"fill\":{\"color\":\"#C8D4E3\"},\"line\":{\"color\":\"white\"}},\"type\":\"table\"}],\"barpolar\":[{\"marker\":{\"line\":{\"color\":\"#E5ECF6\",\"width\":0.5},\"pattern\":{\"fillmode\":\"overlay\",\"size\":10,\"solidity\":0.2}},\"type\":\"barpolar\"}],\"pie\":[{\"automargin\":true,\"type\":\"pie\"}]},\"layout\":{\"autotypenumbers\":\"strict\",\"colorway\":[\"#636efa\",\"#EF553B\",\"#00cc96\",\"#ab63fa\",\"#FFA15A\",\"#19d3f3\",\"#FF6692\",\"#B6E880\",\"#FF97FF\",\"#FECB52\"],\"font\":{\"color\":\"#2a3f5f\"},\"hovermode\":\"closest\",\"hoverlabel\":{\"align\":\"left\"},\"paper_bgcolor\":\"white\",\"plot_bgcolor\":\"#E5ECF6\",\"polar\":{\"bgcolor\":\"#E5ECF6\",\"angularaxis\":{\"gridcolor\":\"white\",\"linecolor\":\"white\",\"ticks\":\"\"},\"radialaxis\":{\"gridcolor\":\"white\",\"linecolor\":\"white\",\"ticks\":\"\"}},\"ternary\":{\"bgcolor\":\"#E5ECF6\",\"aaxis\":{\"gridcolor\":\"white\",\"linecolor\":\"white\",\"ticks\":\"\"},\"baxis\":{\"gridcolor\":\"white\",\"linecolor\":\"white\",\"ticks\":\"\"},\"caxis\":{\"gridcolor\":\"white\",\"linecolor\":\"white\",\"ticks\":\"\"}},\"coloraxis\":{\"colorbar\":{\"outlinewidth\":0,\"ticks\":\"\"}},\"colorscale\":{\"sequential\":[[0.0,\"#0d0887\"],[0.1111111111111111,\"#46039f\"],[0.2222222222222222,\"#7201a8\"],[0.3333333333333333,\"#9c179e\"],[0.4444444444444444,\"#bd3786\"],[0.5555555555555556,\"#d8576b\"],[0.6666666666666666,\"#ed7953\"],[0.7777777777777778,\"#fb9f3a\"],[0.8888888888888888,\"#fdca26\"],[1.0,\"#f0f921\"]],\"sequentialminus\":[[0.0,\"#0d0887\"],[0.1111111111111111,\"#46039f\"],[0.2222222222222222,\"#7201a8\"],[0.3333333333333333,\"#9c179e\"],[0.4444444444444444,\"#bd3786\"],[0.5555555555555556,\"#d8576b\"],[0.6666666666666666,\"#ed7953\"],[0.7777777777777778,\"#fb9f3a\"],[0.8888888888888888,\"#fdca26\"],[1.0,\"#f0f921\"]],\"diverging\":[[0,\"#8e0152\"],[0.1,\"#c51b7d\"],[0.2,\"#de77ae\"],[0.3,\"#f1b6da\"],[0.4,\"#fde0ef\"],[0.5,\"#f7f7f7\"],[0.6,\"#e6f5d0\"],[0.7,\"#b8e186\"],[0.8,\"#7fbc41\"],[0.9,\"#4d9221\"],[1,\"#276419\"]]},\"xaxis\":{\"gridcolor\":\"white\",\"linecolor\":\"white\",\"ticks\":\"\",\"title\":{\"standoff\":15},\"zerolinecolor\":\"white\",\"automargin\":true,\"zerolinewidth\":2},\"yaxis\":{\"gridcolor\":\"white\",\"linecolor\":\"white\",\"ticks\":\"\",\"title\":{\"standoff\":15},\"zerolinecolor\":\"white\",\"automargin\":true,\"zerolinewidth\":2},\"scene\":{\"xaxis\":{\"backgroundcolor\":\"#E5ECF6\",\"gridcolor\":\"white\",\"linecolor\":\"white\",\"showbackground\":true,\"ticks\":\"\",\"zerolinecolor\":\"white\",\"gridwidth\":2},\"yaxis\":{\"backgroundcolor\":\"#E5ECF6\",\"gridcolor\":\"white\",\"linecolor\":\"white\",\"showbackground\":true,\"ticks\":\"\",\"zerolinecolor\":\"white\",\"gridwidth\":2},\"zaxis\":{\"backgroundcolor\":\"#E5ECF6\",\"gridcolor\":\"white\",\"linecolor\":\"white\",\"showbackground\":true,\"ticks\":\"\",\"zerolinecolor\":\"white\",\"gridwidth\":2}},\"shapedefaults\":{\"line\":{\"color\":\"#2a3f5f\"}},\"annotationdefaults\":{\"arrowcolor\":\"#2a3f5f\",\"arrowhead\":0,\"arrowwidth\":1},\"geo\":{\"bgcolor\":\"white\",\"landcolor\":\"#E5ECF6\",\"subunitcolor\":\"white\",\"showland\":true,\"showlakes\":true,\"lakecolor\":\"white\"},\"title\":{\"x\":0.05},\"mapbox\":{\"style\":\"light\"}}},\"xaxis\":{\"title\":{\"text\":\"Protocol\"},\"showgrid\":false},\"yaxis\":{\"title\":{\"text\":\"Probability Density\"},\"showgrid\":false},\"title\":{\"text\":\"Distribution of Protocol\"},\"plot_bgcolor\":\"white\",\"barmode\":\"overlay\",\"bargap\":0.1,\"bargroupgap\":0.1},                        {\"responsive\": true}                    ).then(function(){\n",
              "                            \n",
              "var gd = document.getElementById('402a453a-cb92-41e1-bd19-6e603aeda33c');\n",
              "var x = new MutationObserver(function (mutations, observer) {{\n",
              "        var display = window.getComputedStyle(gd).display;\n",
              "        if (!display || display === 'none') {{\n",
              "            console.log([gd, 'removed!']);\n",
              "            Plotly.purge(gd);\n",
              "            observer.disconnect();\n",
              "        }}\n",
              "}});\n",
              "\n",
              "// Listen for the removal of the full notebook cells\n",
              "var notebookContainer = gd.closest('#notebook-container');\n",
              "if (notebookContainer) {{\n",
              "    x.observe(notebookContainer, {childList: true});\n",
              "}}\n",
              "\n",
              "// Listen for the clearing of the current output cell\n",
              "var outputEl = gd.closest('.output');\n",
              "if (outputEl) {{\n",
              "    x.observe(outputEl, {childList: true});\n",
              "}}\n",
              "\n",
              "                        })                };                            </script>        </div>\n",
              "</body>\n",
              "</html>"
            ]
          },
          "metadata": {}
        },
        {
          "output_type": "display_data",
          "data": {
            "text/html": [
              "<html>\n",
              "<head><meta charset=\"utf-8\" /></head>\n",
              "<body>\n",
              "    <div>            <script src=\"https://cdnjs.cloudflare.com/ajax/libs/mathjax/2.7.5/MathJax.js?config=TeX-AMS-MML_SVG\"></script><script type=\"text/javascript\">if (window.MathJax && window.MathJax.Hub && window.MathJax.Hub.Config) {window.MathJax.Hub.Config({SVG: {font: \"STIX-Web\"}});}</script>                <script type=\"text/javascript\">window.PlotlyConfig = {MathJaxConfig: 'local'};</script>\n",
              "        <script charset=\"utf-8\" src=\"https://cdn.plot.ly/plotly-2.24.1.min.js\"></script>                <div id=\"9a46ce90-4bff-4110-b251-991802b592e1\" class=\"plotly-graph-div\" style=\"height:525px; width:100%;\"></div>            <script type=\"text/javascript\">                                    window.PLOTLYENV=window.PLOTLYENV || {};                                    if (document.getElementById(\"9a46ce90-4bff-4110-b251-991802b592e1\")) {                    Plotly.newPlot(                        \"9a46ce90-4bff-4110-b251-991802b592e1\",                        [{\"histnorm\":\"probability density\",\"marker\":{\"color\":\"skyblue\"},\"name\":\"Length\",\"x\":[806,904,638,317,558,286,251,156,744,796,30,127,73,76,98,945,551,268,459,759,858,870,691,41,199,287,663,124,588,948,469,965,576,773,690,885,158,704,830,604,624,212,811,91,539,586,947,224,863,786,712,825,804,963,733,816,49,376,968,630,580,636,712,319,969,294,6,610,56,477,431,39,562,265,635,194,323,63,17,190,817,268,416,395,21,101,783,633,53,456,670,902,271,627,751,976,820,33,408,762,860,775,714,121,66,76,856,509,917,809,701,37,909,932,63,894,889,443,589,531,385,2,725,718,603,113,108,150,591,270,68,874,402,262,27,704,412,750,932,526,814,433,930,59,18,215,864,986,221,206,392,283,274,709,556,432,735,126,349,892,841,699,796,7,904,872,888,505,27,636,716,806,818,434,533,478,888,981,958,440,733,152,845,650,641,615,404,456,51,551,964,765,415,550,953,895,646,60,977,475,446,800,967,346,204,658,846,672,85,91,40,758,179,587,295,581,380,552,128,825,14,164,487,892,396,360,332,823,421,83,204,692,163,955,81,541,394,870,9,146,753,937,221,666,351,124,102,700,380,991,60,187,275,525,913,836,523,964,958,785,284,637,775,858,8,666,68,828,761,373,512,421,429,726,626,759,512,201,624,167,939,994,677,69,860,782,654,938,329,647,351,141,611,900,233,529,262,553,440,926,694,279,358,536,252,891,933,748,188,35,967,391,345,589,18,608,561,806,1,459,626,877,5,608,957,640,523,798,866,874,241,526,276,42,205,429,52,108,145,505,945,934,527,677,115,133,304,897,818,934,255,913,813,582,361,495,785,273,779,518,920,944,889,167,275,95,465,800,427,48,833,994,56,331,109,903,596,67,148,160,883,788,808,936,574,610,941,245,749,439,735,123,488,191,205,913,81,511,954,453,814,981,507,918,887,892,694,418,603,403,135,633,836,155,239,282,526,960,732,575,58,294,942,982,108,505,838,817,26,269,565,839,944,903,74,907,585,475,145,352,863,904,230,295,177,701,519,967,632,514,368,192,194,638,278,815,769,727,165,667,661,341,232,547,242,879,62,812,668,741,586,956,565,597,920,319,49,444,300,939,654,505,368,778,156,603,998,547,839,426,38,7,315,598,4,76,747,268,414,79,724,283,364,768,81,164,997,914,593,395,189,970,100,922,640,155,564,336,284,133,359,726,104,242,438,792,999,938,620,849,349,44,7,910,206,146,425,638,479,887,965,753,131,28,393,748,208,564,216,944,832,159,526,966,881,948,755,175,174,610,261,989,651,373,64,275,485,201,120,897,714,751,398,974,670,591,361,78,650,943,701,589,230,670,110,985,493,882,921,828,969,656,439,927,493,255,721,372,621,115,370,975,272,282,870,151,978,989,913,860,109,457,860,477,744,620,104,100,415,757,938,759,394,887,821,300,850,947,401,65,795,136,439,851,955,937,314,699,973,270,983,233,787,900,171,301,227,716,856,839,207,879,567,691,44,977,975,358,263,122,176,173,778,516,394,124,926,508,35,479,514,295,207,977,863,435,142,855,47,996,856,806,862,750,747,347,83,903,999,587,428,514,458,475,177,848,402,888,255,148,834,412,741,972,266,746,14,438,327,985,779,122,960,614,390,169,245,784,15,470,819,871,610,399,775,931,503,4,325,102,489,864,924,627,580,803,426,962,896,889,998,363,681,808,914,807,836,324,284,957,656,755,931,485,747,805,691,45,341,565,922,716,173,82,646,596,712,256,837,608,350,107,755,604,161,858,938,211,414,910,365,650,55,905,26,162,837,498,809,529,562,63,840,863,817,985,508,166,266,902,653,89,382,374,407,185,591,558,802,703,517,838,836,77,682,397,769,710,151,746,354,690,628,902,395,199,123,17,712,412,295,108,85,426,723,628,455,935,675,114,715,768,360,809,41,924,912,165,99,572,602,929,697,128,955,288,817,127,388,864,550,504,835,13,853,460,333,633,371,988,944,314,150,877,525,658,424,928,624,670,440,450,973,513,792,910,137,469,54,999,337,782,393,391,412,166,420,553,667,351,973,442,302,849,315,152,767,243,747,969,465,246,894,531,971,912,487,894,857,997,752,833,388,987,917,176,447,354,25,723,809,138,329,200,477,813,788,727,324,975,128,632,818,728,972,25,597,818,891,431,545,912,555,861,38,229,851,817,996,548,356,66,350,661,230,356,815,355,938,63,63,498,252,884,875,159,348,52,517,709,903,746,810,878,680,493,101,412,654,301,257,843,734,847,129,257,97,885,780,30],\"type\":\"histogram\"}],                        {\"template\":{\"data\":{\"histogram2dcontour\":[{\"type\":\"histogram2dcontour\",\"colorbar\":{\"outlinewidth\":0,\"ticks\":\"\"},\"colorscale\":[[0.0,\"#0d0887\"],[0.1111111111111111,\"#46039f\"],[0.2222222222222222,\"#7201a8\"],[0.3333333333333333,\"#9c179e\"],[0.4444444444444444,\"#bd3786\"],[0.5555555555555556,\"#d8576b\"],[0.6666666666666666,\"#ed7953\"],[0.7777777777777778,\"#fb9f3a\"],[0.8888888888888888,\"#fdca26\"],[1.0,\"#f0f921\"]]}],\"choropleth\":[{\"type\":\"choropleth\",\"colorbar\":{\"outlinewidth\":0,\"ticks\":\"\"}}],\"histogram2d\":[{\"type\":\"histogram2d\",\"colorbar\":{\"outlinewidth\":0,\"ticks\":\"\"},\"colorscale\":[[0.0,\"#0d0887\"],[0.1111111111111111,\"#46039f\"],[0.2222222222222222,\"#7201a8\"],[0.3333333333333333,\"#9c179e\"],[0.4444444444444444,\"#bd3786\"],[0.5555555555555556,\"#d8576b\"],[0.6666666666666666,\"#ed7953\"],[0.7777777777777778,\"#fb9f3a\"],[0.8888888888888888,\"#fdca26\"],[1.0,\"#f0f921\"]]}],\"heatmap\":[{\"type\":\"heatmap\",\"colorbar\":{\"outlinewidth\":0,\"ticks\":\"\"},\"colorscale\":[[0.0,\"#0d0887\"],[0.1111111111111111,\"#46039f\"],[0.2222222222222222,\"#7201a8\"],[0.3333333333333333,\"#9c179e\"],[0.4444444444444444,\"#bd3786\"],[0.5555555555555556,\"#d8576b\"],[0.6666666666666666,\"#ed7953\"],[0.7777777777777778,\"#fb9f3a\"],[0.8888888888888888,\"#fdca26\"],[1.0,\"#f0f921\"]]}],\"heatmapgl\":[{\"type\":\"heatmapgl\",\"colorbar\":{\"outlinewidth\":0,\"ticks\":\"\"},\"colorscale\":[[0.0,\"#0d0887\"],[0.1111111111111111,\"#46039f\"],[0.2222222222222222,\"#7201a8\"],[0.3333333333333333,\"#9c179e\"],[0.4444444444444444,\"#bd3786\"],[0.5555555555555556,\"#d8576b\"],[0.6666666666666666,\"#ed7953\"],[0.7777777777777778,\"#fb9f3a\"],[0.8888888888888888,\"#fdca26\"],[1.0,\"#f0f921\"]]}],\"contourcarpet\":[{\"type\":\"contourcarpet\",\"colorbar\":{\"outlinewidth\":0,\"ticks\":\"\"}}],\"contour\":[{\"type\":\"contour\",\"colorbar\":{\"outlinewidth\":0,\"ticks\":\"\"},\"colorscale\":[[0.0,\"#0d0887\"],[0.1111111111111111,\"#46039f\"],[0.2222222222222222,\"#7201a8\"],[0.3333333333333333,\"#9c179e\"],[0.4444444444444444,\"#bd3786\"],[0.5555555555555556,\"#d8576b\"],[0.6666666666666666,\"#ed7953\"],[0.7777777777777778,\"#fb9f3a\"],[0.8888888888888888,\"#fdca26\"],[1.0,\"#f0f921\"]]}],\"surface\":[{\"type\":\"surface\",\"colorbar\":{\"outlinewidth\":0,\"ticks\":\"\"},\"colorscale\":[[0.0,\"#0d0887\"],[0.1111111111111111,\"#46039f\"],[0.2222222222222222,\"#7201a8\"],[0.3333333333333333,\"#9c179e\"],[0.4444444444444444,\"#bd3786\"],[0.5555555555555556,\"#d8576b\"],[0.6666666666666666,\"#ed7953\"],[0.7777777777777778,\"#fb9f3a\"],[0.8888888888888888,\"#fdca26\"],[1.0,\"#f0f921\"]]}],\"mesh3d\":[{\"type\":\"mesh3d\",\"colorbar\":{\"outlinewidth\":0,\"ticks\":\"\"}}],\"scatter\":[{\"fillpattern\":{\"fillmode\":\"overlay\",\"size\":10,\"solidity\":0.2},\"type\":\"scatter\"}],\"parcoords\":[{\"type\":\"parcoords\",\"line\":{\"colorbar\":{\"outlinewidth\":0,\"ticks\":\"\"}}}],\"scatterpolargl\":[{\"type\":\"scatterpolargl\",\"marker\":{\"colorbar\":{\"outlinewidth\":0,\"ticks\":\"\"}}}],\"bar\":[{\"error_x\":{\"color\":\"#2a3f5f\"},\"error_y\":{\"color\":\"#2a3f5f\"},\"marker\":{\"line\":{\"color\":\"#E5ECF6\",\"width\":0.5},\"pattern\":{\"fillmode\":\"overlay\",\"size\":10,\"solidity\":0.2}},\"type\":\"bar\"}],\"scattergeo\":[{\"type\":\"scattergeo\",\"marker\":{\"colorbar\":{\"outlinewidth\":0,\"ticks\":\"\"}}}],\"scatterpolar\":[{\"type\":\"scatterpolar\",\"marker\":{\"colorbar\":{\"outlinewidth\":0,\"ticks\":\"\"}}}],\"histogram\":[{\"marker\":{\"pattern\":{\"fillmode\":\"overlay\",\"size\":10,\"solidity\":0.2}},\"type\":\"histogram\"}],\"scattergl\":[{\"type\":\"scattergl\",\"marker\":{\"colorbar\":{\"outlinewidth\":0,\"ticks\":\"\"}}}],\"scatter3d\":[{\"type\":\"scatter3d\",\"line\":{\"colorbar\":{\"outlinewidth\":0,\"ticks\":\"\"}},\"marker\":{\"colorbar\":{\"outlinewidth\":0,\"ticks\":\"\"}}}],\"scattermapbox\":[{\"type\":\"scattermapbox\",\"marker\":{\"colorbar\":{\"outlinewidth\":0,\"ticks\":\"\"}}}],\"scatterternary\":[{\"type\":\"scatterternary\",\"marker\":{\"colorbar\":{\"outlinewidth\":0,\"ticks\":\"\"}}}],\"scattercarpet\":[{\"type\":\"scattercarpet\",\"marker\":{\"colorbar\":{\"outlinewidth\":0,\"ticks\":\"\"}}}],\"carpet\":[{\"aaxis\":{\"endlinecolor\":\"#2a3f5f\",\"gridcolor\":\"white\",\"linecolor\":\"white\",\"minorgridcolor\":\"white\",\"startlinecolor\":\"#2a3f5f\"},\"baxis\":{\"endlinecolor\":\"#2a3f5f\",\"gridcolor\":\"white\",\"linecolor\":\"white\",\"minorgridcolor\":\"white\",\"startlinecolor\":\"#2a3f5f\"},\"type\":\"carpet\"}],\"table\":[{\"cells\":{\"fill\":{\"color\":\"#EBF0F8\"},\"line\":{\"color\":\"white\"}},\"header\":{\"fill\":{\"color\":\"#C8D4E3\"},\"line\":{\"color\":\"white\"}},\"type\":\"table\"}],\"barpolar\":[{\"marker\":{\"line\":{\"color\":\"#E5ECF6\",\"width\":0.5},\"pattern\":{\"fillmode\":\"overlay\",\"size\":10,\"solidity\":0.2}},\"type\":\"barpolar\"}],\"pie\":[{\"automargin\":true,\"type\":\"pie\"}]},\"layout\":{\"autotypenumbers\":\"strict\",\"colorway\":[\"#636efa\",\"#EF553B\",\"#00cc96\",\"#ab63fa\",\"#FFA15A\",\"#19d3f3\",\"#FF6692\",\"#B6E880\",\"#FF97FF\",\"#FECB52\"],\"font\":{\"color\":\"#2a3f5f\"},\"hovermode\":\"closest\",\"hoverlabel\":{\"align\":\"left\"},\"paper_bgcolor\":\"white\",\"plot_bgcolor\":\"#E5ECF6\",\"polar\":{\"bgcolor\":\"#E5ECF6\",\"angularaxis\":{\"gridcolor\":\"white\",\"linecolor\":\"white\",\"ticks\":\"\"},\"radialaxis\":{\"gridcolor\":\"white\",\"linecolor\":\"white\",\"ticks\":\"\"}},\"ternary\":{\"bgcolor\":\"#E5ECF6\",\"aaxis\":{\"gridcolor\":\"white\",\"linecolor\":\"white\",\"ticks\":\"\"},\"baxis\":{\"gridcolor\":\"white\",\"linecolor\":\"white\",\"ticks\":\"\"},\"caxis\":{\"gridcolor\":\"white\",\"linecolor\":\"white\",\"ticks\":\"\"}},\"coloraxis\":{\"colorbar\":{\"outlinewidth\":0,\"ticks\":\"\"}},\"colorscale\":{\"sequential\":[[0.0,\"#0d0887\"],[0.1111111111111111,\"#46039f\"],[0.2222222222222222,\"#7201a8\"],[0.3333333333333333,\"#9c179e\"],[0.4444444444444444,\"#bd3786\"],[0.5555555555555556,\"#d8576b\"],[0.6666666666666666,\"#ed7953\"],[0.7777777777777778,\"#fb9f3a\"],[0.8888888888888888,\"#fdca26\"],[1.0,\"#f0f921\"]],\"sequentialminus\":[[0.0,\"#0d0887\"],[0.1111111111111111,\"#46039f\"],[0.2222222222222222,\"#7201a8\"],[0.3333333333333333,\"#9c179e\"],[0.4444444444444444,\"#bd3786\"],[0.5555555555555556,\"#d8576b\"],[0.6666666666666666,\"#ed7953\"],[0.7777777777777778,\"#fb9f3a\"],[0.8888888888888888,\"#fdca26\"],[1.0,\"#f0f921\"]],\"diverging\":[[0,\"#8e0152\"],[0.1,\"#c51b7d\"],[0.2,\"#de77ae\"],[0.3,\"#f1b6da\"],[0.4,\"#fde0ef\"],[0.5,\"#f7f7f7\"],[0.6,\"#e6f5d0\"],[0.7,\"#b8e186\"],[0.8,\"#7fbc41\"],[0.9,\"#4d9221\"],[1,\"#276419\"]]},\"xaxis\":{\"gridcolor\":\"white\",\"linecolor\":\"white\",\"ticks\":\"\",\"title\":{\"standoff\":15},\"zerolinecolor\":\"white\",\"automargin\":true,\"zerolinewidth\":2},\"yaxis\":{\"gridcolor\":\"white\",\"linecolor\":\"white\",\"ticks\":\"\",\"title\":{\"standoff\":15},\"zerolinecolor\":\"white\",\"automargin\":true,\"zerolinewidth\":2},\"scene\":{\"xaxis\":{\"backgroundcolor\":\"#E5ECF6\",\"gridcolor\":\"white\",\"linecolor\":\"white\",\"showbackground\":true,\"ticks\":\"\",\"zerolinecolor\":\"white\",\"gridwidth\":2},\"yaxis\":{\"backgroundcolor\":\"#E5ECF6\",\"gridcolor\":\"white\",\"linecolor\":\"white\",\"showbackground\":true,\"ticks\":\"\",\"zerolinecolor\":\"white\",\"gridwidth\":2},\"zaxis\":{\"backgroundcolor\":\"#E5ECF6\",\"gridcolor\":\"white\",\"linecolor\":\"white\",\"showbackground\":true,\"ticks\":\"\",\"zerolinecolor\":\"white\",\"gridwidth\":2}},\"shapedefaults\":{\"line\":{\"color\":\"#2a3f5f\"}},\"annotationdefaults\":{\"arrowcolor\":\"#2a3f5f\",\"arrowhead\":0,\"arrowwidth\":1},\"geo\":{\"bgcolor\":\"white\",\"landcolor\":\"#E5ECF6\",\"subunitcolor\":\"white\",\"showland\":true,\"showlakes\":true,\"lakecolor\":\"white\"},\"title\":{\"x\":0.05},\"mapbox\":{\"style\":\"light\"}}},\"xaxis\":{\"title\":{\"text\":\"Length\"},\"showgrid\":false},\"yaxis\":{\"title\":{\"text\":\"Probability Density\"},\"showgrid\":false},\"title\":{\"text\":\"Distribution of Length\"},\"plot_bgcolor\":\"white\",\"barmode\":\"overlay\",\"bargap\":0.1,\"bargroupgap\":0.1},                        {\"responsive\": true}                    ).then(function(){\n",
              "                            \n",
              "var gd = document.getElementById('9a46ce90-4bff-4110-b251-991802b592e1');\n",
              "var x = new MutationObserver(function (mutations, observer) {{\n",
              "        var display = window.getComputedStyle(gd).display;\n",
              "        if (!display || display === 'none') {{\n",
              "            console.log([gd, 'removed!']);\n",
              "            Plotly.purge(gd);\n",
              "            observer.disconnect();\n",
              "        }}\n",
              "}});\n",
              "\n",
              "// Listen for the removal of the full notebook cells\n",
              "var notebookContainer = gd.closest('#notebook-container');\n",
              "if (notebookContainer) {{\n",
              "    x.observe(notebookContainer, {childList: true});\n",
              "}}\n",
              "\n",
              "// Listen for the clearing of the current output cell\n",
              "var outputEl = gd.closest('.output');\n",
              "if (outputEl) {{\n",
              "    x.observe(outputEl, {childList: true});\n",
              "}}\n",
              "\n",
              "                        })                };                            </script>        </div>\n",
              "</body>\n",
              "</html>"
            ]
          },
          "metadata": {}
        }
      ]
    },
    {
      "cell_type": "code",
      "source": [
        "import plotly.graph_objects as go\n",
        "\n",
        "# Create a box plot for each numerical column\n",
        "for col in num_cols:\n",
        "    fig = go.Figure()\n",
        "    fig.add_trace(go.Box(y=df[col], name=col))\n",
        "    fig.update_layout(title=f'Boxplot of {col}',\n",
        "                      xaxis=dict(title=''),\n",
        "                      yaxis=dict(title=col))\n",
        "    fig.show()\n"
      ],
      "metadata": {
        "colab": {
          "base_uri": "https://localhost:8080/",
          "height": 1000
        },
        "id": "T66qZGnVbtDe",
        "outputId": "b4a4adc9-8ef9-4cb0-d8c2-1c95ac6cc235"
      },
      "execution_count": 10,
      "outputs": [
        {
          "output_type": "display_data",
          "data": {
            "text/html": [
              "<html>\n",
              "<head><meta charset=\"utf-8\" /></head>\n",
              "<body>\n",
              "    <div>            <script src=\"https://cdnjs.cloudflare.com/ajax/libs/mathjax/2.7.5/MathJax.js?config=TeX-AMS-MML_SVG\"></script><script type=\"text/javascript\">if (window.MathJax && window.MathJax.Hub && window.MathJax.Hub.Config) {window.MathJax.Hub.Config({SVG: {font: \"STIX-Web\"}});}</script>                <script type=\"text/javascript\">window.PlotlyConfig = {MathJaxConfig: 'local'};</script>\n",
              "        <script charset=\"utf-8\" src=\"https://cdn.plot.ly/plotly-2.24.1.min.js\"></script>                <div id=\"a9c68823-a33b-49db-88fb-0baee367d5e9\" class=\"plotly-graph-div\" style=\"height:525px; width:100%;\"></div>            <script type=\"text/javascript\">                                    window.PLOTLYENV=window.PLOTLYENV || {};                                    if (document.getElementById(\"a9c68823-a33b-49db-88fb-0baee367d5e9\")) {                    Plotly.newPlot(                        \"a9c68823-a33b-49db-88fb-0baee367d5e9\",                        [{\"name\":\"Source\",\"y\":[2,2,2,0,0,0,1,2,2,2,0,1,1,1,0,2,0,2,1,2,1,1,1,2,0,1,2,1,2,0,1,1,1,0,2,1,1,0,2,0,0,1,2,1,1,0,0,1,0,0,2,1,1,2,0,2,2,2,0,2,1,0,2,2,2,2,2,2,1,0,1,2,2,2,1,2,1,0,1,1,0,2,1,0,1,1,0,1,0,1,2,0,2,1,2,0,1,0,1,2,2,0,0,1,0,0,2,0,0,1,2,2,1,2,1,1,0,0,1,0,0,2,2,0,1,1,0,0,1,2,2,1,0,2,1,0,0,2,0,1,1,1,1,0,1,2,0,0,0,1,0,1,1,0,0,1,0,0,1,1,0,1,1,2,0,0,0,0,0,1,0,0,2,1,0,0,0,0,1,2,2,0,2,2,2,2,2,1,1,1,2,1,2,2,1,0,2,2,1,2,2,2,1,0,0,1,2,0,1,1,2,2,1,1,1,0,2,1,2,0,1,2,0,1,2,1,2,2,0,0,0,0,0,2,0,2,2,1,2,2,0,2,0,2,2,0,1,2,2,0,0,1,1,1,2,2,0,0,0,1,1,1,2,2,0,1,2,1,2,1,2,2,2,2,0,1,2,2,1,2,2,1,0,0,2,0,0,2,2,0,2,2,0,1,0,0,0,2,0,2,1,0,1,0,2,1,0,1,2,2,0,0,1,2,2,0,2,2,2,1,1,1,2,0,0,0,1,2,1,1,0,0,2,1,2,1,2,1,2,1,1,0,1,0,2,0,1,0,0,2,0,2,2,0,1,2,0,2,0,0,1,0,2,2,1,2,1,0,0,0,1,2,2,0,2,1,1,1,1,2,1,2,0,2,1,2,0,0,0,2,1,1,2,1,1,2,0,1,0,1,0,0,1,1,2,1,1,2,0,2,0,2,1,1,0,1,0,2,1,0,2,1,1,0,1,0,1,2,1,0,0,0,2,1,1,1,0,0,1,0,1,1,0,1,0,1,0,0,0,1,1,2,1,1,1,2,2,1,1,0,1,0,1,0,2,2,1,2,2,0,2,1,1,2,1,2,1,0,2,1,0,2,1,2,0,2,0,0,1,0,0,1,0,1,1,0,2,0,2,0,1,0,1,2,0,2,0,1,1,0,2,0,0,0,2,0,1,0,0,1,0,2,0,2,0,0,0,2,1,0,0,0,1,0,2,1,2,2,1,1,0,1,2,0,1,2,1,0,2,1,0,1,0,2,2,1,2,1,1,2,1,1,2,0,1,1,1,2,0,2,2,2,0,2,2,2,0,0,0,0,2,0,1,2,1,0,1,2,2,2,1,2,2,1,0,2,0,0,2,1,0,1,2,2,2,2,2,2,1,2,0,0,2,1,2,2,2,2,1,0,0,0,0,0,0,1,2,1,1,1,1,1,1,2,1,1,0,0,2,1,0,1,0,0,0,0,1,2,0,0,2,1,0,2,1,1,1,1,1,0,0,1,2,1,0,2,0,0,2,1,1,0,2,2,0,2,0,2,1,0,2,2,2,0,2,2,2,0,0,1,0,0,0,1,1,2,0,2,2,2,0,0,1,1,2,2,0,1,2,2,1,0,2,0,2,0,2,2,2,0,1,0,0,0,2,2,0,0,2,1,2,2,0,0,2,0,2,1,0,1,2,1,0,1,0,1,0,2,1,1,1,0,1,1,0,0,1,1,0,1,1,2,2,1,2,2,0,1,1,2,2,1,0,1,0,1,1,0,0,0,0,0,0,0,2,1,0,2,1,1,1,2,2,1,2,2,0,2,1,1,2,2,1,1,2,2,0,1,2,2,2,1,0,2,0,1,0,0,0,1,1,2,2,2,0,0,0,1,2,1,0,2,1,2,2,2,0,0,2,0,1,1,1,0,2,1,1,0,0,0,2,2,0,1,0,1,0,2,1,2,1,1,0,1,0,2,0,2,2,0,1,2,1,2,2,2,0,0,2,0,0,2,2,0,0,2,0,2,1,2,2,2,1,2,2,2,1,1,0,1,2,2,0,0,2,0,1,2,2,1,2,2,1,0,2,1,1,0,0,2,1,2,1,1,2,2,1,1,2,0,1,0,2,0,0,1,1,0,1,0,0,2,0,2,1,0,2,2,2,0,1,0,1,2,0,2,1,2,2,1,1,2,1,0,0,1,0,2,1,0,1,0,1,2,2,1,0,0,1,0,0,1,0,2,0,1,1,1,2,0,1,1,1,0,0,0,0,0,0,1],\"type\":\"box\"}],                        {\"template\":{\"data\":{\"histogram2dcontour\":[{\"type\":\"histogram2dcontour\",\"colorbar\":{\"outlinewidth\":0,\"ticks\":\"\"},\"colorscale\":[[0.0,\"#0d0887\"],[0.1111111111111111,\"#46039f\"],[0.2222222222222222,\"#7201a8\"],[0.3333333333333333,\"#9c179e\"],[0.4444444444444444,\"#bd3786\"],[0.5555555555555556,\"#d8576b\"],[0.6666666666666666,\"#ed7953\"],[0.7777777777777778,\"#fb9f3a\"],[0.8888888888888888,\"#fdca26\"],[1.0,\"#f0f921\"]]}],\"choropleth\":[{\"type\":\"choropleth\",\"colorbar\":{\"outlinewidth\":0,\"ticks\":\"\"}}],\"histogram2d\":[{\"type\":\"histogram2d\",\"colorbar\":{\"outlinewidth\":0,\"ticks\":\"\"},\"colorscale\":[[0.0,\"#0d0887\"],[0.1111111111111111,\"#46039f\"],[0.2222222222222222,\"#7201a8\"],[0.3333333333333333,\"#9c179e\"],[0.4444444444444444,\"#bd3786\"],[0.5555555555555556,\"#d8576b\"],[0.6666666666666666,\"#ed7953\"],[0.7777777777777778,\"#fb9f3a\"],[0.8888888888888888,\"#fdca26\"],[1.0,\"#f0f921\"]]}],\"heatmap\":[{\"type\":\"heatmap\",\"colorbar\":{\"outlinewidth\":0,\"ticks\":\"\"},\"colorscale\":[[0.0,\"#0d0887\"],[0.1111111111111111,\"#46039f\"],[0.2222222222222222,\"#7201a8\"],[0.3333333333333333,\"#9c179e\"],[0.4444444444444444,\"#bd3786\"],[0.5555555555555556,\"#d8576b\"],[0.6666666666666666,\"#ed7953\"],[0.7777777777777778,\"#fb9f3a\"],[0.8888888888888888,\"#fdca26\"],[1.0,\"#f0f921\"]]}],\"heatmapgl\":[{\"type\":\"heatmapgl\",\"colorbar\":{\"outlinewidth\":0,\"ticks\":\"\"},\"colorscale\":[[0.0,\"#0d0887\"],[0.1111111111111111,\"#46039f\"],[0.2222222222222222,\"#7201a8\"],[0.3333333333333333,\"#9c179e\"],[0.4444444444444444,\"#bd3786\"],[0.5555555555555556,\"#d8576b\"],[0.6666666666666666,\"#ed7953\"],[0.7777777777777778,\"#fb9f3a\"],[0.8888888888888888,\"#fdca26\"],[1.0,\"#f0f921\"]]}],\"contourcarpet\":[{\"type\":\"contourcarpet\",\"colorbar\":{\"outlinewidth\":0,\"ticks\":\"\"}}],\"contour\":[{\"type\":\"contour\",\"colorbar\":{\"outlinewidth\":0,\"ticks\":\"\"},\"colorscale\":[[0.0,\"#0d0887\"],[0.1111111111111111,\"#46039f\"],[0.2222222222222222,\"#7201a8\"],[0.3333333333333333,\"#9c179e\"],[0.4444444444444444,\"#bd3786\"],[0.5555555555555556,\"#d8576b\"],[0.6666666666666666,\"#ed7953\"],[0.7777777777777778,\"#fb9f3a\"],[0.8888888888888888,\"#fdca26\"],[1.0,\"#f0f921\"]]}],\"surface\":[{\"type\":\"surface\",\"colorbar\":{\"outlinewidth\":0,\"ticks\":\"\"},\"colorscale\":[[0.0,\"#0d0887\"],[0.1111111111111111,\"#46039f\"],[0.2222222222222222,\"#7201a8\"],[0.3333333333333333,\"#9c179e\"],[0.4444444444444444,\"#bd3786\"],[0.5555555555555556,\"#d8576b\"],[0.6666666666666666,\"#ed7953\"],[0.7777777777777778,\"#fb9f3a\"],[0.8888888888888888,\"#fdca26\"],[1.0,\"#f0f921\"]]}],\"mesh3d\":[{\"type\":\"mesh3d\",\"colorbar\":{\"outlinewidth\":0,\"ticks\":\"\"}}],\"scatter\":[{\"fillpattern\":{\"fillmode\":\"overlay\",\"size\":10,\"solidity\":0.2},\"type\":\"scatter\"}],\"parcoords\":[{\"type\":\"parcoords\",\"line\":{\"colorbar\":{\"outlinewidth\":0,\"ticks\":\"\"}}}],\"scatterpolargl\":[{\"type\":\"scatterpolargl\",\"marker\":{\"colorbar\":{\"outlinewidth\":0,\"ticks\":\"\"}}}],\"bar\":[{\"error_x\":{\"color\":\"#2a3f5f\"},\"error_y\":{\"color\":\"#2a3f5f\"},\"marker\":{\"line\":{\"color\":\"#E5ECF6\",\"width\":0.5},\"pattern\":{\"fillmode\":\"overlay\",\"size\":10,\"solidity\":0.2}},\"type\":\"bar\"}],\"scattergeo\":[{\"type\":\"scattergeo\",\"marker\":{\"colorbar\":{\"outlinewidth\":0,\"ticks\":\"\"}}}],\"scatterpolar\":[{\"type\":\"scatterpolar\",\"marker\":{\"colorbar\":{\"outlinewidth\":0,\"ticks\":\"\"}}}],\"histogram\":[{\"marker\":{\"pattern\":{\"fillmode\":\"overlay\",\"size\":10,\"solidity\":0.2}},\"type\":\"histogram\"}],\"scattergl\":[{\"type\":\"scattergl\",\"marker\":{\"colorbar\":{\"outlinewidth\":0,\"ticks\":\"\"}}}],\"scatter3d\":[{\"type\":\"scatter3d\",\"line\":{\"colorbar\":{\"outlinewidth\":0,\"ticks\":\"\"}},\"marker\":{\"colorbar\":{\"outlinewidth\":0,\"ticks\":\"\"}}}],\"scattermapbox\":[{\"type\":\"scattermapbox\",\"marker\":{\"colorbar\":{\"outlinewidth\":0,\"ticks\":\"\"}}}],\"scatterternary\":[{\"type\":\"scatterternary\",\"marker\":{\"colorbar\":{\"outlinewidth\":0,\"ticks\":\"\"}}}],\"scattercarpet\":[{\"type\":\"scattercarpet\",\"marker\":{\"colorbar\":{\"outlinewidth\":0,\"ticks\":\"\"}}}],\"carpet\":[{\"aaxis\":{\"endlinecolor\":\"#2a3f5f\",\"gridcolor\":\"white\",\"linecolor\":\"white\",\"minorgridcolor\":\"white\",\"startlinecolor\":\"#2a3f5f\"},\"baxis\":{\"endlinecolor\":\"#2a3f5f\",\"gridcolor\":\"white\",\"linecolor\":\"white\",\"minorgridcolor\":\"white\",\"startlinecolor\":\"#2a3f5f\"},\"type\":\"carpet\"}],\"table\":[{\"cells\":{\"fill\":{\"color\":\"#EBF0F8\"},\"line\":{\"color\":\"white\"}},\"header\":{\"fill\":{\"color\":\"#C8D4E3\"},\"line\":{\"color\":\"white\"}},\"type\":\"table\"}],\"barpolar\":[{\"marker\":{\"line\":{\"color\":\"#E5ECF6\",\"width\":0.5},\"pattern\":{\"fillmode\":\"overlay\",\"size\":10,\"solidity\":0.2}},\"type\":\"barpolar\"}],\"pie\":[{\"automargin\":true,\"type\":\"pie\"}]},\"layout\":{\"autotypenumbers\":\"strict\",\"colorway\":[\"#636efa\",\"#EF553B\",\"#00cc96\",\"#ab63fa\",\"#FFA15A\",\"#19d3f3\",\"#FF6692\",\"#B6E880\",\"#FF97FF\",\"#FECB52\"],\"font\":{\"color\":\"#2a3f5f\"},\"hovermode\":\"closest\",\"hoverlabel\":{\"align\":\"left\"},\"paper_bgcolor\":\"white\",\"plot_bgcolor\":\"#E5ECF6\",\"polar\":{\"bgcolor\":\"#E5ECF6\",\"angularaxis\":{\"gridcolor\":\"white\",\"linecolor\":\"white\",\"ticks\":\"\"},\"radialaxis\":{\"gridcolor\":\"white\",\"linecolor\":\"white\",\"ticks\":\"\"}},\"ternary\":{\"bgcolor\":\"#E5ECF6\",\"aaxis\":{\"gridcolor\":\"white\",\"linecolor\":\"white\",\"ticks\":\"\"},\"baxis\":{\"gridcolor\":\"white\",\"linecolor\":\"white\",\"ticks\":\"\"},\"caxis\":{\"gridcolor\":\"white\",\"linecolor\":\"white\",\"ticks\":\"\"}},\"coloraxis\":{\"colorbar\":{\"outlinewidth\":0,\"ticks\":\"\"}},\"colorscale\":{\"sequential\":[[0.0,\"#0d0887\"],[0.1111111111111111,\"#46039f\"],[0.2222222222222222,\"#7201a8\"],[0.3333333333333333,\"#9c179e\"],[0.4444444444444444,\"#bd3786\"],[0.5555555555555556,\"#d8576b\"],[0.6666666666666666,\"#ed7953\"],[0.7777777777777778,\"#fb9f3a\"],[0.8888888888888888,\"#fdca26\"],[1.0,\"#f0f921\"]],\"sequentialminus\":[[0.0,\"#0d0887\"],[0.1111111111111111,\"#46039f\"],[0.2222222222222222,\"#7201a8\"],[0.3333333333333333,\"#9c179e\"],[0.4444444444444444,\"#bd3786\"],[0.5555555555555556,\"#d8576b\"],[0.6666666666666666,\"#ed7953\"],[0.7777777777777778,\"#fb9f3a\"],[0.8888888888888888,\"#fdca26\"],[1.0,\"#f0f921\"]],\"diverging\":[[0,\"#8e0152\"],[0.1,\"#c51b7d\"],[0.2,\"#de77ae\"],[0.3,\"#f1b6da\"],[0.4,\"#fde0ef\"],[0.5,\"#f7f7f7\"],[0.6,\"#e6f5d0\"],[0.7,\"#b8e186\"],[0.8,\"#7fbc41\"],[0.9,\"#4d9221\"],[1,\"#276419\"]]},\"xaxis\":{\"gridcolor\":\"white\",\"linecolor\":\"white\",\"ticks\":\"\",\"title\":{\"standoff\":15},\"zerolinecolor\":\"white\",\"automargin\":true,\"zerolinewidth\":2},\"yaxis\":{\"gridcolor\":\"white\",\"linecolor\":\"white\",\"ticks\":\"\",\"title\":{\"standoff\":15},\"zerolinecolor\":\"white\",\"automargin\":true,\"zerolinewidth\":2},\"scene\":{\"xaxis\":{\"backgroundcolor\":\"#E5ECF6\",\"gridcolor\":\"white\",\"linecolor\":\"white\",\"showbackground\":true,\"ticks\":\"\",\"zerolinecolor\":\"white\",\"gridwidth\":2},\"yaxis\":{\"backgroundcolor\":\"#E5ECF6\",\"gridcolor\":\"white\",\"linecolor\":\"white\",\"showbackground\":true,\"ticks\":\"\",\"zerolinecolor\":\"white\",\"gridwidth\":2},\"zaxis\":{\"backgroundcolor\":\"#E5ECF6\",\"gridcolor\":\"white\",\"linecolor\":\"white\",\"showbackground\":true,\"ticks\":\"\",\"zerolinecolor\":\"white\",\"gridwidth\":2}},\"shapedefaults\":{\"line\":{\"color\":\"#2a3f5f\"}},\"annotationdefaults\":{\"arrowcolor\":\"#2a3f5f\",\"arrowhead\":0,\"arrowwidth\":1},\"geo\":{\"bgcolor\":\"white\",\"landcolor\":\"#E5ECF6\",\"subunitcolor\":\"white\",\"showland\":true,\"showlakes\":true,\"lakecolor\":\"white\"},\"title\":{\"x\":0.05},\"mapbox\":{\"style\":\"light\"}}},\"title\":{\"text\":\"Boxplot of Source\"},\"xaxis\":{\"title\":{\"text\":\"\"}},\"yaxis\":{\"title\":{\"text\":\"Source\"}}},                        {\"responsive\": true}                    ).then(function(){\n",
              "                            \n",
              "var gd = document.getElementById('a9c68823-a33b-49db-88fb-0baee367d5e9');\n",
              "var x = new MutationObserver(function (mutations, observer) {{\n",
              "        var display = window.getComputedStyle(gd).display;\n",
              "        if (!display || display === 'none') {{\n",
              "            console.log([gd, 'removed!']);\n",
              "            Plotly.purge(gd);\n",
              "            observer.disconnect();\n",
              "        }}\n",
              "}});\n",
              "\n",
              "// Listen for the removal of the full notebook cells\n",
              "var notebookContainer = gd.closest('#notebook-container');\n",
              "if (notebookContainer) {{\n",
              "    x.observe(notebookContainer, {childList: true});\n",
              "}}\n",
              "\n",
              "// Listen for the clearing of the current output cell\n",
              "var outputEl = gd.closest('.output');\n",
              "if (outputEl) {{\n",
              "    x.observe(outputEl, {childList: true});\n",
              "}}\n",
              "\n",
              "                        })                };                            </script>        </div>\n",
              "</body>\n",
              "</html>"
            ]
          },
          "metadata": {}
        },
        {
          "output_type": "display_data",
          "data": {
            "text/html": [
              "<html>\n",
              "<head><meta charset=\"utf-8\" /></head>\n",
              "<body>\n",
              "    <div>            <script src=\"https://cdnjs.cloudflare.com/ajax/libs/mathjax/2.7.5/MathJax.js?config=TeX-AMS-MML_SVG\"></script><script type=\"text/javascript\">if (window.MathJax && window.MathJax.Hub && window.MathJax.Hub.Config) {window.MathJax.Hub.Config({SVG: {font: \"STIX-Web\"}});}</script>                <script type=\"text/javascript\">window.PlotlyConfig = {MathJaxConfig: 'local'};</script>\n",
              "        <script charset=\"utf-8\" src=\"https://cdn.plot.ly/plotly-2.24.1.min.js\"></script>                <div id=\"5032252e-342f-4edf-9602-fe4dfc1afacf\" class=\"plotly-graph-div\" style=\"height:525px; width:100%;\"></div>            <script type=\"text/javascript\">                                    window.PLOTLYENV=window.PLOTLYENV || {};                                    if (document.getElementById(\"5032252e-342f-4edf-9602-fe4dfc1afacf\")) {                    Plotly.newPlot(                        \"5032252e-342f-4edf-9602-fe4dfc1afacf\",                        [{\"name\":\"Destination\",\"y\":[68,72,81,99,5,62,91,7,33,82,38,28,52,79,60,87,96,9,57,30,29,96,35,59,82,93,17,73,60,8,13,33,85,76,94,41,1,85,93,78,38,48,62,51,69,77,58,5,37,81,83,38,95,36,49,1,50,58,10,51,98,49,13,71,37,37,31,20,39,45,36,15,30,52,61,82,68,30,28,4,34,52,28,57,22,40,75,30,30,62,59,25,17,65,99,14,2,3,67,20,77,31,40,86,78,50,27,13,65,2,37,11,33,29,59,67,93,66,78,84,48,82,37,72,54,71,10,16,19,30,54,61,43,83,3,30,18,36,20,17,24,13,57,67,21,4,82,45,39,43,75,38,41,28,5,52,23,38,36,31,8,89,89,16,11,20,78,57,19,72,61,25,33,40,17,53,91,81,47,97,95,85,24,16,45,84,56,99,28,46,99,82,88,28,78,49,88,95,6,98,99,29,66,69,86,73,34,49,90,70,66,72,2,2,72,26,78,51,28,97,44,20,99,46,81,44,68,9,84,47,65,21,97,99,6,86,25,3,72,76,29,96,66,81,83,15,22,70,34,3,28,20,16,72,30,36,98,49,50,81,57,64,89,59,6,52,62,84,18,46,97,63,23,98,10,6,77,62,43,17,60,18,69,61,26,15,62,54,82,30,71,29,75,6,85,56,51,87,54,11,44,60,31,60,15,49,57,66,8,70,16,53,33,88,79,35,30,52,90,54,5,65,27,85,6,89,18,69,57,33,82,73,74,32,95,74,49,33,15,62,88,33,57,29,44,98,51,47,73,38,3,18,16,68,86,94,23,83,8,56,50,27,5,90,27,61,84,79,19,97,92,37,21,4,19,78,52,50,32,98,19,13,92,99,72,95,46,81,66,89,17,46,92,38,51,25,49,77,5,52,47,41,15,11,28,79,14,5,87,16,30,79,43,26,76,96,92,23,44,85,56,3,26,1,96,57,71,83,87,63,47,90,78,13,63,38,84,32,29,60,84,41,90,30,29,53,43,11,85,18,1,40,39,99,66,49,87,46,50,23,93,66,86,67,33,51,71,36,24,83,90,80,28,86,2,10,82,12,65,68,62,55,37,85,20,70,85,63,69,42,81,17,58,6,97,23,4,9,63,93,42,75,93,96,12,35,92,50,72,40,59,6,74,89,13,98,60,79,16,5,23,53,67,72,73,6,40,80,80,42,90,23,90,90,20,63,30,10,12,27,83,73,2,47,56,11,75,25,96,44,92,14,79,56,6,24,43,50,76,57,44,25,82,22,95,19,64,90,30,38,50,41,96,12,57,64,15,33,66,66,37,26,77,73,51,13,25,20,68,11,8,53,93,15,73,47,36,82,24,62,54,13,46,8,48,40,95,20,51,66,44,83,79,90,57,73,51,35,91,12,12,37,50,77,82,96,75,49,75,12,94,35,75,77,40,11,3,76,47,52,42,92,4,17,64,65,14,39,5,4,20,82,17,72,25,12,23,61,92,3,9,73,90,39,53,98,89,64,22,5,32,76,38,8,23,43,60,96,55,74,52,83,24,84,26,58,70,90,46,89,52,60,45,27,44,33,31,15,72,97,62,2,48,44,91,16,69,75,86,40,95,87,1,82,59,13,92,44,55,48,23,32,35,99,43,69,63,37,84,45,82,71,7,49,10,29,78,57,10,86,67,10,37,29,65,75,14,3,38,72,88,95,82,4,99,81,83,51,62,83,29,36,54,27,43,47,70,29,44,84,63,75,75,10,92,76,97,39,32,23,92,58,22,98,62,42,42,24,53,24,73,42,61,48,16,37,66,95,43,1,84,7,94,68,32,30,17,68,27,7,12,82,56,44,68,21,92,93,15,15,81,64,44,28,88,21,24,35,33,66,23,22,58,69,46,40,25,87,18,53,91,9,6,98,87,83,11,63,30,12,31,72,59,95,43,86,72,26,55,84,26,46,4,85,84,38,34,61,90,8,61,38,85,99,17,46,40,34,98,66,74,88,69,25,7,98,61,89,62,60,75,30,29,25,4,83,22,7,85,22,28,27,90,65,4,54,38,8,81,76,12,3,55,6,18,79,6,79,82,31,99,4,1,94,45,45,62,1,18,30,92,35,60,22,64,95,18,39,80,2,16,87,18,54,23,78,48,67,12,10,41,55,52,48,5,11,7,45,73,9,73,19,3,70,94,30,28,18,59,12,50,73,89,4,12,58,51,16,58,4,61,40,86,30,54,68,57,76,80,46,91,80,98,12,6,31,59,69,60,33],\"type\":\"box\"}],                        {\"template\":{\"data\":{\"histogram2dcontour\":[{\"type\":\"histogram2dcontour\",\"colorbar\":{\"outlinewidth\":0,\"ticks\":\"\"},\"colorscale\":[[0.0,\"#0d0887\"],[0.1111111111111111,\"#46039f\"],[0.2222222222222222,\"#7201a8\"],[0.3333333333333333,\"#9c179e\"],[0.4444444444444444,\"#bd3786\"],[0.5555555555555556,\"#d8576b\"],[0.6666666666666666,\"#ed7953\"],[0.7777777777777778,\"#fb9f3a\"],[0.8888888888888888,\"#fdca26\"],[1.0,\"#f0f921\"]]}],\"choropleth\":[{\"type\":\"choropleth\",\"colorbar\":{\"outlinewidth\":0,\"ticks\":\"\"}}],\"histogram2d\":[{\"type\":\"histogram2d\",\"colorbar\":{\"outlinewidth\":0,\"ticks\":\"\"},\"colorscale\":[[0.0,\"#0d0887\"],[0.1111111111111111,\"#46039f\"],[0.2222222222222222,\"#7201a8\"],[0.3333333333333333,\"#9c179e\"],[0.4444444444444444,\"#bd3786\"],[0.5555555555555556,\"#d8576b\"],[0.6666666666666666,\"#ed7953\"],[0.7777777777777778,\"#fb9f3a\"],[0.8888888888888888,\"#fdca26\"],[1.0,\"#f0f921\"]]}],\"heatmap\":[{\"type\":\"heatmap\",\"colorbar\":{\"outlinewidth\":0,\"ticks\":\"\"},\"colorscale\":[[0.0,\"#0d0887\"],[0.1111111111111111,\"#46039f\"],[0.2222222222222222,\"#7201a8\"],[0.3333333333333333,\"#9c179e\"],[0.4444444444444444,\"#bd3786\"],[0.5555555555555556,\"#d8576b\"],[0.6666666666666666,\"#ed7953\"],[0.7777777777777778,\"#fb9f3a\"],[0.8888888888888888,\"#fdca26\"],[1.0,\"#f0f921\"]]}],\"heatmapgl\":[{\"type\":\"heatmapgl\",\"colorbar\":{\"outlinewidth\":0,\"ticks\":\"\"},\"colorscale\":[[0.0,\"#0d0887\"],[0.1111111111111111,\"#46039f\"],[0.2222222222222222,\"#7201a8\"],[0.3333333333333333,\"#9c179e\"],[0.4444444444444444,\"#bd3786\"],[0.5555555555555556,\"#d8576b\"],[0.6666666666666666,\"#ed7953\"],[0.7777777777777778,\"#fb9f3a\"],[0.8888888888888888,\"#fdca26\"],[1.0,\"#f0f921\"]]}],\"contourcarpet\":[{\"type\":\"contourcarpet\",\"colorbar\":{\"outlinewidth\":0,\"ticks\":\"\"}}],\"contour\":[{\"type\":\"contour\",\"colorbar\":{\"outlinewidth\":0,\"ticks\":\"\"},\"colorscale\":[[0.0,\"#0d0887\"],[0.1111111111111111,\"#46039f\"],[0.2222222222222222,\"#7201a8\"],[0.3333333333333333,\"#9c179e\"],[0.4444444444444444,\"#bd3786\"],[0.5555555555555556,\"#d8576b\"],[0.6666666666666666,\"#ed7953\"],[0.7777777777777778,\"#fb9f3a\"],[0.8888888888888888,\"#fdca26\"],[1.0,\"#f0f921\"]]}],\"surface\":[{\"type\":\"surface\",\"colorbar\":{\"outlinewidth\":0,\"ticks\":\"\"},\"colorscale\":[[0.0,\"#0d0887\"],[0.1111111111111111,\"#46039f\"],[0.2222222222222222,\"#7201a8\"],[0.3333333333333333,\"#9c179e\"],[0.4444444444444444,\"#bd3786\"],[0.5555555555555556,\"#d8576b\"],[0.6666666666666666,\"#ed7953\"],[0.7777777777777778,\"#fb9f3a\"],[0.8888888888888888,\"#fdca26\"],[1.0,\"#f0f921\"]]}],\"mesh3d\":[{\"type\":\"mesh3d\",\"colorbar\":{\"outlinewidth\":0,\"ticks\":\"\"}}],\"scatter\":[{\"fillpattern\":{\"fillmode\":\"overlay\",\"size\":10,\"solidity\":0.2},\"type\":\"scatter\"}],\"parcoords\":[{\"type\":\"parcoords\",\"line\":{\"colorbar\":{\"outlinewidth\":0,\"ticks\":\"\"}}}],\"scatterpolargl\":[{\"type\":\"scatterpolargl\",\"marker\":{\"colorbar\":{\"outlinewidth\":0,\"ticks\":\"\"}}}],\"bar\":[{\"error_x\":{\"color\":\"#2a3f5f\"},\"error_y\":{\"color\":\"#2a3f5f\"},\"marker\":{\"line\":{\"color\":\"#E5ECF6\",\"width\":0.5},\"pattern\":{\"fillmode\":\"overlay\",\"size\":10,\"solidity\":0.2}},\"type\":\"bar\"}],\"scattergeo\":[{\"type\":\"scattergeo\",\"marker\":{\"colorbar\":{\"outlinewidth\":0,\"ticks\":\"\"}}}],\"scatterpolar\":[{\"type\":\"scatterpolar\",\"marker\":{\"colorbar\":{\"outlinewidth\":0,\"ticks\":\"\"}}}],\"histogram\":[{\"marker\":{\"pattern\":{\"fillmode\":\"overlay\",\"size\":10,\"solidity\":0.2}},\"type\":\"histogram\"}],\"scattergl\":[{\"type\":\"scattergl\",\"marker\":{\"colorbar\":{\"outlinewidth\":0,\"ticks\":\"\"}}}],\"scatter3d\":[{\"type\":\"scatter3d\",\"line\":{\"colorbar\":{\"outlinewidth\":0,\"ticks\":\"\"}},\"marker\":{\"colorbar\":{\"outlinewidth\":0,\"ticks\":\"\"}}}],\"scattermapbox\":[{\"type\":\"scattermapbox\",\"marker\":{\"colorbar\":{\"outlinewidth\":0,\"ticks\":\"\"}}}],\"scatterternary\":[{\"type\":\"scatterternary\",\"marker\":{\"colorbar\":{\"outlinewidth\":0,\"ticks\":\"\"}}}],\"scattercarpet\":[{\"type\":\"scattercarpet\",\"marker\":{\"colorbar\":{\"outlinewidth\":0,\"ticks\":\"\"}}}],\"carpet\":[{\"aaxis\":{\"endlinecolor\":\"#2a3f5f\",\"gridcolor\":\"white\",\"linecolor\":\"white\",\"minorgridcolor\":\"white\",\"startlinecolor\":\"#2a3f5f\"},\"baxis\":{\"endlinecolor\":\"#2a3f5f\",\"gridcolor\":\"white\",\"linecolor\":\"white\",\"minorgridcolor\":\"white\",\"startlinecolor\":\"#2a3f5f\"},\"type\":\"carpet\"}],\"table\":[{\"cells\":{\"fill\":{\"color\":\"#EBF0F8\"},\"line\":{\"color\":\"white\"}},\"header\":{\"fill\":{\"color\":\"#C8D4E3\"},\"line\":{\"color\":\"white\"}},\"type\":\"table\"}],\"barpolar\":[{\"marker\":{\"line\":{\"color\":\"#E5ECF6\",\"width\":0.5},\"pattern\":{\"fillmode\":\"overlay\",\"size\":10,\"solidity\":0.2}},\"type\":\"barpolar\"}],\"pie\":[{\"automargin\":true,\"type\":\"pie\"}]},\"layout\":{\"autotypenumbers\":\"strict\",\"colorway\":[\"#636efa\",\"#EF553B\",\"#00cc96\",\"#ab63fa\",\"#FFA15A\",\"#19d3f3\",\"#FF6692\",\"#B6E880\",\"#FF97FF\",\"#FECB52\"],\"font\":{\"color\":\"#2a3f5f\"},\"hovermode\":\"closest\",\"hoverlabel\":{\"align\":\"left\"},\"paper_bgcolor\":\"white\",\"plot_bgcolor\":\"#E5ECF6\",\"polar\":{\"bgcolor\":\"#E5ECF6\",\"angularaxis\":{\"gridcolor\":\"white\",\"linecolor\":\"white\",\"ticks\":\"\"},\"radialaxis\":{\"gridcolor\":\"white\",\"linecolor\":\"white\",\"ticks\":\"\"}},\"ternary\":{\"bgcolor\":\"#E5ECF6\",\"aaxis\":{\"gridcolor\":\"white\",\"linecolor\":\"white\",\"ticks\":\"\"},\"baxis\":{\"gridcolor\":\"white\",\"linecolor\":\"white\",\"ticks\":\"\"},\"caxis\":{\"gridcolor\":\"white\",\"linecolor\":\"white\",\"ticks\":\"\"}},\"coloraxis\":{\"colorbar\":{\"outlinewidth\":0,\"ticks\":\"\"}},\"colorscale\":{\"sequential\":[[0.0,\"#0d0887\"],[0.1111111111111111,\"#46039f\"],[0.2222222222222222,\"#7201a8\"],[0.3333333333333333,\"#9c179e\"],[0.4444444444444444,\"#bd3786\"],[0.5555555555555556,\"#d8576b\"],[0.6666666666666666,\"#ed7953\"],[0.7777777777777778,\"#fb9f3a\"],[0.8888888888888888,\"#fdca26\"],[1.0,\"#f0f921\"]],\"sequentialminus\":[[0.0,\"#0d0887\"],[0.1111111111111111,\"#46039f\"],[0.2222222222222222,\"#7201a8\"],[0.3333333333333333,\"#9c179e\"],[0.4444444444444444,\"#bd3786\"],[0.5555555555555556,\"#d8576b\"],[0.6666666666666666,\"#ed7953\"],[0.7777777777777778,\"#fb9f3a\"],[0.8888888888888888,\"#fdca26\"],[1.0,\"#f0f921\"]],\"diverging\":[[0,\"#8e0152\"],[0.1,\"#c51b7d\"],[0.2,\"#de77ae\"],[0.3,\"#f1b6da\"],[0.4,\"#fde0ef\"],[0.5,\"#f7f7f7\"],[0.6,\"#e6f5d0\"],[0.7,\"#b8e186\"],[0.8,\"#7fbc41\"],[0.9,\"#4d9221\"],[1,\"#276419\"]]},\"xaxis\":{\"gridcolor\":\"white\",\"linecolor\":\"white\",\"ticks\":\"\",\"title\":{\"standoff\":15},\"zerolinecolor\":\"white\",\"automargin\":true,\"zerolinewidth\":2},\"yaxis\":{\"gridcolor\":\"white\",\"linecolor\":\"white\",\"ticks\":\"\",\"title\":{\"standoff\":15},\"zerolinecolor\":\"white\",\"automargin\":true,\"zerolinewidth\":2},\"scene\":{\"xaxis\":{\"backgroundcolor\":\"#E5ECF6\",\"gridcolor\":\"white\",\"linecolor\":\"white\",\"showbackground\":true,\"ticks\":\"\",\"zerolinecolor\":\"white\",\"gridwidth\":2},\"yaxis\":{\"backgroundcolor\":\"#E5ECF6\",\"gridcolor\":\"white\",\"linecolor\":\"white\",\"showbackground\":true,\"ticks\":\"\",\"zerolinecolor\":\"white\",\"gridwidth\":2},\"zaxis\":{\"backgroundcolor\":\"#E5ECF6\",\"gridcolor\":\"white\",\"linecolor\":\"white\",\"showbackground\":true,\"ticks\":\"\",\"zerolinecolor\":\"white\",\"gridwidth\":2}},\"shapedefaults\":{\"line\":{\"color\":\"#2a3f5f\"}},\"annotationdefaults\":{\"arrowcolor\":\"#2a3f5f\",\"arrowhead\":0,\"arrowwidth\":1},\"geo\":{\"bgcolor\":\"white\",\"landcolor\":\"#E5ECF6\",\"subunitcolor\":\"white\",\"showland\":true,\"showlakes\":true,\"lakecolor\":\"white\"},\"title\":{\"x\":0.05},\"mapbox\":{\"style\":\"light\"}}},\"title\":{\"text\":\"Boxplot of Destination\"},\"xaxis\":{\"title\":{\"text\":\"\"}},\"yaxis\":{\"title\":{\"text\":\"Destination\"}}},                        {\"responsive\": true}                    ).then(function(){\n",
              "                            \n",
              "var gd = document.getElementById('5032252e-342f-4edf-9602-fe4dfc1afacf');\n",
              "var x = new MutationObserver(function (mutations, observer) {{\n",
              "        var display = window.getComputedStyle(gd).display;\n",
              "        if (!display || display === 'none') {{\n",
              "            console.log([gd, 'removed!']);\n",
              "            Plotly.purge(gd);\n",
              "            observer.disconnect();\n",
              "        }}\n",
              "}});\n",
              "\n",
              "// Listen for the removal of the full notebook cells\n",
              "var notebookContainer = gd.closest('#notebook-container');\n",
              "if (notebookContainer) {{\n",
              "    x.observe(notebookContainer, {childList: true});\n",
              "}}\n",
              "\n",
              "// Listen for the clearing of the current output cell\n",
              "var outputEl = gd.closest('.output');\n",
              "if (outputEl) {{\n",
              "    x.observe(outputEl, {childList: true});\n",
              "}}\n",
              "\n",
              "                        })                };                            </script>        </div>\n",
              "</body>\n",
              "</html>"
            ]
          },
          "metadata": {}
        },
        {
          "output_type": "display_data",
          "data": {
            "text/html": [
              "<html>\n",
              "<head><meta charset=\"utf-8\" /></head>\n",
              "<body>\n",
              "    <div>            <script src=\"https://cdnjs.cloudflare.com/ajax/libs/mathjax/2.7.5/MathJax.js?config=TeX-AMS-MML_SVG\"></script><script type=\"text/javascript\">if (window.MathJax && window.MathJax.Hub && window.MathJax.Hub.Config) {window.MathJax.Hub.Config({SVG: {font: \"STIX-Web\"}});}</script>                <script type=\"text/javascript\">window.PlotlyConfig = {MathJaxConfig: 'local'};</script>\n",
              "        <script charset=\"utf-8\" src=\"https://cdn.plot.ly/plotly-2.24.1.min.js\"></script>                <div id=\"d5763196-06d9-4d36-8f20-97d46da4e60e\" class=\"plotly-graph-div\" style=\"height:525px; width:100%;\"></div>            <script type=\"text/javascript\">                                    window.PLOTLYENV=window.PLOTLYENV || {};                                    if (document.getElementById(\"d5763196-06d9-4d36-8f20-97d46da4e60e\")) {                    Plotly.newPlot(                        \"d5763196-06d9-4d36-8f20-97d46da4e60e\",                        [{\"name\":\"Protocol\",\"y\":[5,12,5,14,3,7,10,11,9,11,3,1,0,3,14,6,11,11,7,9,7,5,12,7,4,12,7,8,14,9,10,1,2,8,8,10,8,8,10,15,4,5,1,12,8,3,15,10,14,14,7,10,14,1,10,12,2,6,10,15,10,13,4,12,5,13,13,0,0,4,12,11,15,8,3,2,4,12,7,12,15,0,5,0,11,11,1,5,15,15,0,6,6,13,7,6,14,7,0,6,3,0,11,7,7,13,14,12,0,9,0,1,7,9,9,15,7,5,3,7,13,0,4,2,6,1,10,13,12,15,12,11,15,14,15,8,11,14,0,0,2,11,12,15,15,7,11,12,1,1,9,15,15,15,7,12,13,13,10,2,10,8,3,1,10,0,4,1,5,12,0,12,15,5,3,4,14,2,5,13,8,10,0,9,0,9,9,4,2,11,13,9,7,3,9,2,15,9,5,15,2,3,6,0,1,10,1,9,3,6,10,1,10,3,7,2,0,6,1,7,12,9,4,0,15,11,4,6,0,12,10,6,4,14,2,0,6,2,3,9,11,15,15,13,5,8,12,2,3,9,4,8,7,4,9,9,6,12,13,12,6,0,11,2,5,15,15,14,5,15,15,5,11,8,6,3,6,15,4,13,5,1,15,1,11,2,13,14,11,15,14,7,10,8,11,2,6,2,1,2,2,10,4,5,7,1,8,3,8,6,3,6,14,2,9,8,11,6,13,15,7,7,10,5,0,3,14,7,2,12,9,14,7,0,4,7,3,5,8,13,11,11,5,12,9,5,5,15,3,0,6,9,14,1,14,14,2,13,9,1,6,11,14,15,15,6,7,11,4,0,0,5,5,3,13,8,0,0,11,10,1,4,8,3,10,14,3,0,12,7,6,8,5,14,15,14,7,5,4,15,10,15,1,4,4,3,11,4,14,4,12,4,13,6,1,15,13,11,11,4,10,11,7,9,7,13,15,15,13,2,9,10,11,5,6,10,15,1,14,9,12,9,13,5,15,4,4,11,6,7,8,2,12,6,1,3,14,14,2,1,3,3,14,1,0,14,8,12,11,5,5,9,15,6,12,0,9,0,11,2,6,10,8,9,4,7,9,7,5,12,3,0,1,11,8,9,1,0,5,15,2,11,3,5,12,2,15,2,9,15,5,9,13,8,0,1,15,1,1,1,9,4,13,3,9,8,2,5,7,0,8,15,0,13,2,0,11,15,4,9,14,15,12,1,15,11,14,11,10,2,5,11,11,0,12,4,6,1,13,10,12,5,14,3,4,11,11,8,0,8,15,7,0,10,6,9,11,12,1,1,7,0,13,12,3,6,15,5,11,10,8,5,15,9,11,0,0,12,4,13,15,4,13,0,13,11,6,4,9,3,3,10,5,6,0,2,3,7,4,13,0,8,15,10,10,13,1,9,3,6,8,5,15,9,3,5,13,12,5,3,11,9,9,15,10,8,10,1,2,14,15,0,0,13,14,9,5,4,11,8,11,11,10,10,11,1,0,6,15,12,11,11,8,10,5,4,5,11,0,5,11,1,3,0,3,9,11,14,9,13,3,2,14,4,5,12,8,2,3,8,8,14,9,15,10,9,8,12,9,0,3,6,10,6,1,15,9,4,0,3,0,6,7,3,14,13,12,8,5,2,3,14,3,8,3,3,5,8,5,6,8,4,7,5,7,14,12,4,6,12,14,2,6,1,15,1,15,6,13,4,2,13,9,8,11,14,15,2,6,5,10,12,1,8,5,15,12,14,2,12,9,6,13,8,6,5,3,11,14,15,2,4,10,8,13,2,15,14,6,12,6,3,7,1,0,12,12,3,5,13,6,15,12,0,12,2,15,3,9,8,12,11,14,3,4,10,4,11,5,14,3,10,9,11,14,14,3,1,14,13,15,6,2,14,3,6,0,10,6,7,3,9,4,11,11,1,2,3,4,7,8,2,7,10,11,3,8,13,13,6,4,1,7,8,14,15,3,0,1,8,0,2,14,11,14,0,2,12,13,2,1,3,15,3,14,6,14,3,4,9,13,0,9,10,2,12,7,14,0,6,10,3,9,10,2,1,6,1,6,10,5,14,0,11,5,12,1,7,11,6,6,10,15,4,6,14,2,14,14,15,10,11,14,9,14,15,0,2,15,14,0,8,14,15,7,0,6,8,8,7,8,12,3,11,11,12,2,11,14,4,15,9,5,7,12,11,9,10,14,3,0,9,7,1,15,9,6,14,14,1,2,8,7,14,5,2,5,0,12,11],\"type\":\"box\"}],                        {\"template\":{\"data\":{\"histogram2dcontour\":[{\"type\":\"histogram2dcontour\",\"colorbar\":{\"outlinewidth\":0,\"ticks\":\"\"},\"colorscale\":[[0.0,\"#0d0887\"],[0.1111111111111111,\"#46039f\"],[0.2222222222222222,\"#7201a8\"],[0.3333333333333333,\"#9c179e\"],[0.4444444444444444,\"#bd3786\"],[0.5555555555555556,\"#d8576b\"],[0.6666666666666666,\"#ed7953\"],[0.7777777777777778,\"#fb9f3a\"],[0.8888888888888888,\"#fdca26\"],[1.0,\"#f0f921\"]]}],\"choropleth\":[{\"type\":\"choropleth\",\"colorbar\":{\"outlinewidth\":0,\"ticks\":\"\"}}],\"histogram2d\":[{\"type\":\"histogram2d\",\"colorbar\":{\"outlinewidth\":0,\"ticks\":\"\"},\"colorscale\":[[0.0,\"#0d0887\"],[0.1111111111111111,\"#46039f\"],[0.2222222222222222,\"#7201a8\"],[0.3333333333333333,\"#9c179e\"],[0.4444444444444444,\"#bd3786\"],[0.5555555555555556,\"#d8576b\"],[0.6666666666666666,\"#ed7953\"],[0.7777777777777778,\"#fb9f3a\"],[0.8888888888888888,\"#fdca26\"],[1.0,\"#f0f921\"]]}],\"heatmap\":[{\"type\":\"heatmap\",\"colorbar\":{\"outlinewidth\":0,\"ticks\":\"\"},\"colorscale\":[[0.0,\"#0d0887\"],[0.1111111111111111,\"#46039f\"],[0.2222222222222222,\"#7201a8\"],[0.3333333333333333,\"#9c179e\"],[0.4444444444444444,\"#bd3786\"],[0.5555555555555556,\"#d8576b\"],[0.6666666666666666,\"#ed7953\"],[0.7777777777777778,\"#fb9f3a\"],[0.8888888888888888,\"#fdca26\"],[1.0,\"#f0f921\"]]}],\"heatmapgl\":[{\"type\":\"heatmapgl\",\"colorbar\":{\"outlinewidth\":0,\"ticks\":\"\"},\"colorscale\":[[0.0,\"#0d0887\"],[0.1111111111111111,\"#46039f\"],[0.2222222222222222,\"#7201a8\"],[0.3333333333333333,\"#9c179e\"],[0.4444444444444444,\"#bd3786\"],[0.5555555555555556,\"#d8576b\"],[0.6666666666666666,\"#ed7953\"],[0.7777777777777778,\"#fb9f3a\"],[0.8888888888888888,\"#fdca26\"],[1.0,\"#f0f921\"]]}],\"contourcarpet\":[{\"type\":\"contourcarpet\",\"colorbar\":{\"outlinewidth\":0,\"ticks\":\"\"}}],\"contour\":[{\"type\":\"contour\",\"colorbar\":{\"outlinewidth\":0,\"ticks\":\"\"},\"colorscale\":[[0.0,\"#0d0887\"],[0.1111111111111111,\"#46039f\"],[0.2222222222222222,\"#7201a8\"],[0.3333333333333333,\"#9c179e\"],[0.4444444444444444,\"#bd3786\"],[0.5555555555555556,\"#d8576b\"],[0.6666666666666666,\"#ed7953\"],[0.7777777777777778,\"#fb9f3a\"],[0.8888888888888888,\"#fdca26\"],[1.0,\"#f0f921\"]]}],\"surface\":[{\"type\":\"surface\",\"colorbar\":{\"outlinewidth\":0,\"ticks\":\"\"},\"colorscale\":[[0.0,\"#0d0887\"],[0.1111111111111111,\"#46039f\"],[0.2222222222222222,\"#7201a8\"],[0.3333333333333333,\"#9c179e\"],[0.4444444444444444,\"#bd3786\"],[0.5555555555555556,\"#d8576b\"],[0.6666666666666666,\"#ed7953\"],[0.7777777777777778,\"#fb9f3a\"],[0.8888888888888888,\"#fdca26\"],[1.0,\"#f0f921\"]]}],\"mesh3d\":[{\"type\":\"mesh3d\",\"colorbar\":{\"outlinewidth\":0,\"ticks\":\"\"}}],\"scatter\":[{\"fillpattern\":{\"fillmode\":\"overlay\",\"size\":10,\"solidity\":0.2},\"type\":\"scatter\"}],\"parcoords\":[{\"type\":\"parcoords\",\"line\":{\"colorbar\":{\"outlinewidth\":0,\"ticks\":\"\"}}}],\"scatterpolargl\":[{\"type\":\"scatterpolargl\",\"marker\":{\"colorbar\":{\"outlinewidth\":0,\"ticks\":\"\"}}}],\"bar\":[{\"error_x\":{\"color\":\"#2a3f5f\"},\"error_y\":{\"color\":\"#2a3f5f\"},\"marker\":{\"line\":{\"color\":\"#E5ECF6\",\"width\":0.5},\"pattern\":{\"fillmode\":\"overlay\",\"size\":10,\"solidity\":0.2}},\"type\":\"bar\"}],\"scattergeo\":[{\"type\":\"scattergeo\",\"marker\":{\"colorbar\":{\"outlinewidth\":0,\"ticks\":\"\"}}}],\"scatterpolar\":[{\"type\":\"scatterpolar\",\"marker\":{\"colorbar\":{\"outlinewidth\":0,\"ticks\":\"\"}}}],\"histogram\":[{\"marker\":{\"pattern\":{\"fillmode\":\"overlay\",\"size\":10,\"solidity\":0.2}},\"type\":\"histogram\"}],\"scattergl\":[{\"type\":\"scattergl\",\"marker\":{\"colorbar\":{\"outlinewidth\":0,\"ticks\":\"\"}}}],\"scatter3d\":[{\"type\":\"scatter3d\",\"line\":{\"colorbar\":{\"outlinewidth\":0,\"ticks\":\"\"}},\"marker\":{\"colorbar\":{\"outlinewidth\":0,\"ticks\":\"\"}}}],\"scattermapbox\":[{\"type\":\"scattermapbox\",\"marker\":{\"colorbar\":{\"outlinewidth\":0,\"ticks\":\"\"}}}],\"scatterternary\":[{\"type\":\"scatterternary\",\"marker\":{\"colorbar\":{\"outlinewidth\":0,\"ticks\":\"\"}}}],\"scattercarpet\":[{\"type\":\"scattercarpet\",\"marker\":{\"colorbar\":{\"outlinewidth\":0,\"ticks\":\"\"}}}],\"carpet\":[{\"aaxis\":{\"endlinecolor\":\"#2a3f5f\",\"gridcolor\":\"white\",\"linecolor\":\"white\",\"minorgridcolor\":\"white\",\"startlinecolor\":\"#2a3f5f\"},\"baxis\":{\"endlinecolor\":\"#2a3f5f\",\"gridcolor\":\"white\",\"linecolor\":\"white\",\"minorgridcolor\":\"white\",\"startlinecolor\":\"#2a3f5f\"},\"type\":\"carpet\"}],\"table\":[{\"cells\":{\"fill\":{\"color\":\"#EBF0F8\"},\"line\":{\"color\":\"white\"}},\"header\":{\"fill\":{\"color\":\"#C8D4E3\"},\"line\":{\"color\":\"white\"}},\"type\":\"table\"}],\"barpolar\":[{\"marker\":{\"line\":{\"color\":\"#E5ECF6\",\"width\":0.5},\"pattern\":{\"fillmode\":\"overlay\",\"size\":10,\"solidity\":0.2}},\"type\":\"barpolar\"}],\"pie\":[{\"automargin\":true,\"type\":\"pie\"}]},\"layout\":{\"autotypenumbers\":\"strict\",\"colorway\":[\"#636efa\",\"#EF553B\",\"#00cc96\",\"#ab63fa\",\"#FFA15A\",\"#19d3f3\",\"#FF6692\",\"#B6E880\",\"#FF97FF\",\"#FECB52\"],\"font\":{\"color\":\"#2a3f5f\"},\"hovermode\":\"closest\",\"hoverlabel\":{\"align\":\"left\"},\"paper_bgcolor\":\"white\",\"plot_bgcolor\":\"#E5ECF6\",\"polar\":{\"bgcolor\":\"#E5ECF6\",\"angularaxis\":{\"gridcolor\":\"white\",\"linecolor\":\"white\",\"ticks\":\"\"},\"radialaxis\":{\"gridcolor\":\"white\",\"linecolor\":\"white\",\"ticks\":\"\"}},\"ternary\":{\"bgcolor\":\"#E5ECF6\",\"aaxis\":{\"gridcolor\":\"white\",\"linecolor\":\"white\",\"ticks\":\"\"},\"baxis\":{\"gridcolor\":\"white\",\"linecolor\":\"white\",\"ticks\":\"\"},\"caxis\":{\"gridcolor\":\"white\",\"linecolor\":\"white\",\"ticks\":\"\"}},\"coloraxis\":{\"colorbar\":{\"outlinewidth\":0,\"ticks\":\"\"}},\"colorscale\":{\"sequential\":[[0.0,\"#0d0887\"],[0.1111111111111111,\"#46039f\"],[0.2222222222222222,\"#7201a8\"],[0.3333333333333333,\"#9c179e\"],[0.4444444444444444,\"#bd3786\"],[0.5555555555555556,\"#d8576b\"],[0.6666666666666666,\"#ed7953\"],[0.7777777777777778,\"#fb9f3a\"],[0.8888888888888888,\"#fdca26\"],[1.0,\"#f0f921\"]],\"sequentialminus\":[[0.0,\"#0d0887\"],[0.1111111111111111,\"#46039f\"],[0.2222222222222222,\"#7201a8\"],[0.3333333333333333,\"#9c179e\"],[0.4444444444444444,\"#bd3786\"],[0.5555555555555556,\"#d8576b\"],[0.6666666666666666,\"#ed7953\"],[0.7777777777777778,\"#fb9f3a\"],[0.8888888888888888,\"#fdca26\"],[1.0,\"#f0f921\"]],\"diverging\":[[0,\"#8e0152\"],[0.1,\"#c51b7d\"],[0.2,\"#de77ae\"],[0.3,\"#f1b6da\"],[0.4,\"#fde0ef\"],[0.5,\"#f7f7f7\"],[0.6,\"#e6f5d0\"],[0.7,\"#b8e186\"],[0.8,\"#7fbc41\"],[0.9,\"#4d9221\"],[1,\"#276419\"]]},\"xaxis\":{\"gridcolor\":\"white\",\"linecolor\":\"white\",\"ticks\":\"\",\"title\":{\"standoff\":15},\"zerolinecolor\":\"white\",\"automargin\":true,\"zerolinewidth\":2},\"yaxis\":{\"gridcolor\":\"white\",\"linecolor\":\"white\",\"ticks\":\"\",\"title\":{\"standoff\":15},\"zerolinecolor\":\"white\",\"automargin\":true,\"zerolinewidth\":2},\"scene\":{\"xaxis\":{\"backgroundcolor\":\"#E5ECF6\",\"gridcolor\":\"white\",\"linecolor\":\"white\",\"showbackground\":true,\"ticks\":\"\",\"zerolinecolor\":\"white\",\"gridwidth\":2},\"yaxis\":{\"backgroundcolor\":\"#E5ECF6\",\"gridcolor\":\"white\",\"linecolor\":\"white\",\"showbackground\":true,\"ticks\":\"\",\"zerolinecolor\":\"white\",\"gridwidth\":2},\"zaxis\":{\"backgroundcolor\":\"#E5ECF6\",\"gridcolor\":\"white\",\"linecolor\":\"white\",\"showbackground\":true,\"ticks\":\"\",\"zerolinecolor\":\"white\",\"gridwidth\":2}},\"shapedefaults\":{\"line\":{\"color\":\"#2a3f5f\"}},\"annotationdefaults\":{\"arrowcolor\":\"#2a3f5f\",\"arrowhead\":0,\"arrowwidth\":1},\"geo\":{\"bgcolor\":\"white\",\"landcolor\":\"#E5ECF6\",\"subunitcolor\":\"white\",\"showland\":true,\"showlakes\":true,\"lakecolor\":\"white\"},\"title\":{\"x\":0.05},\"mapbox\":{\"style\":\"light\"}}},\"title\":{\"text\":\"Boxplot of Protocol\"},\"xaxis\":{\"title\":{\"text\":\"\"}},\"yaxis\":{\"title\":{\"text\":\"Protocol\"}}},                        {\"responsive\": true}                    ).then(function(){\n",
              "                            \n",
              "var gd = document.getElementById('d5763196-06d9-4d36-8f20-97d46da4e60e');\n",
              "var x = new MutationObserver(function (mutations, observer) {{\n",
              "        var display = window.getComputedStyle(gd).display;\n",
              "        if (!display || display === 'none') {{\n",
              "            console.log([gd, 'removed!']);\n",
              "            Plotly.purge(gd);\n",
              "            observer.disconnect();\n",
              "        }}\n",
              "}});\n",
              "\n",
              "// Listen for the removal of the full notebook cells\n",
              "var notebookContainer = gd.closest('#notebook-container');\n",
              "if (notebookContainer) {{\n",
              "    x.observe(notebookContainer, {childList: true});\n",
              "}}\n",
              "\n",
              "// Listen for the clearing of the current output cell\n",
              "var outputEl = gd.closest('.output');\n",
              "if (outputEl) {{\n",
              "    x.observe(outputEl, {childList: true});\n",
              "}}\n",
              "\n",
              "                        })                };                            </script>        </div>\n",
              "</body>\n",
              "</html>"
            ]
          },
          "metadata": {}
        },
        {
          "output_type": "display_data",
          "data": {
            "text/html": [
              "<html>\n",
              "<head><meta charset=\"utf-8\" /></head>\n",
              "<body>\n",
              "    <div>            <script src=\"https://cdnjs.cloudflare.com/ajax/libs/mathjax/2.7.5/MathJax.js?config=TeX-AMS-MML_SVG\"></script><script type=\"text/javascript\">if (window.MathJax && window.MathJax.Hub && window.MathJax.Hub.Config) {window.MathJax.Hub.Config({SVG: {font: \"STIX-Web\"}});}</script>                <script type=\"text/javascript\">window.PlotlyConfig = {MathJaxConfig: 'local'};</script>\n",
              "        <script charset=\"utf-8\" src=\"https://cdn.plot.ly/plotly-2.24.1.min.js\"></script>                <div id=\"70cc6755-3a93-47dd-ae21-49f75c297eed\" class=\"plotly-graph-div\" style=\"height:525px; width:100%;\"></div>            <script type=\"text/javascript\">                                    window.PLOTLYENV=window.PLOTLYENV || {};                                    if (document.getElementById(\"70cc6755-3a93-47dd-ae21-49f75c297eed\")) {                    Plotly.newPlot(                        \"70cc6755-3a93-47dd-ae21-49f75c297eed\",                        [{\"name\":\"Length\",\"y\":[806,904,638,317,558,286,251,156,744,796,30,127,73,76,98,945,551,268,459,759,858,870,691,41,199,287,663,124,588,948,469,965,576,773,690,885,158,704,830,604,624,212,811,91,539,586,947,224,863,786,712,825,804,963,733,816,49,376,968,630,580,636,712,319,969,294,6,610,56,477,431,39,562,265,635,194,323,63,17,190,817,268,416,395,21,101,783,633,53,456,670,902,271,627,751,976,820,33,408,762,860,775,714,121,66,76,856,509,917,809,701,37,909,932,63,894,889,443,589,531,385,2,725,718,603,113,108,150,591,270,68,874,402,262,27,704,412,750,932,526,814,433,930,59,18,215,864,986,221,206,392,283,274,709,556,432,735,126,349,892,841,699,796,7,904,872,888,505,27,636,716,806,818,434,533,478,888,981,958,440,733,152,845,650,641,615,404,456,51,551,964,765,415,550,953,895,646,60,977,475,446,800,967,346,204,658,846,672,85,91,40,758,179,587,295,581,380,552,128,825,14,164,487,892,396,360,332,823,421,83,204,692,163,955,81,541,394,870,9,146,753,937,221,666,351,124,102,700,380,991,60,187,275,525,913,836,523,964,958,785,284,637,775,858,8,666,68,828,761,373,512,421,429,726,626,759,512,201,624,167,939,994,677,69,860,782,654,938,329,647,351,141,611,900,233,529,262,553,440,926,694,279,358,536,252,891,933,748,188,35,967,391,345,589,18,608,561,806,1,459,626,877,5,608,957,640,523,798,866,874,241,526,276,42,205,429,52,108,145,505,945,934,527,677,115,133,304,897,818,934,255,913,813,582,361,495,785,273,779,518,920,944,889,167,275,95,465,800,427,48,833,994,56,331,109,903,596,67,148,160,883,788,808,936,574,610,941,245,749,439,735,123,488,191,205,913,81,511,954,453,814,981,507,918,887,892,694,418,603,403,135,633,836,155,239,282,526,960,732,575,58,294,942,982,108,505,838,817,26,269,565,839,944,903,74,907,585,475,145,352,863,904,230,295,177,701,519,967,632,514,368,192,194,638,278,815,769,727,165,667,661,341,232,547,242,879,62,812,668,741,586,956,565,597,920,319,49,444,300,939,654,505,368,778,156,603,998,547,839,426,38,7,315,598,4,76,747,268,414,79,724,283,364,768,81,164,997,914,593,395,189,970,100,922,640,155,564,336,284,133,359,726,104,242,438,792,999,938,620,849,349,44,7,910,206,146,425,638,479,887,965,753,131,28,393,748,208,564,216,944,832,159,526,966,881,948,755,175,174,610,261,989,651,373,64,275,485,201,120,897,714,751,398,974,670,591,361,78,650,943,701,589,230,670,110,985,493,882,921,828,969,656,439,927,493,255,721,372,621,115,370,975,272,282,870,151,978,989,913,860,109,457,860,477,744,620,104,100,415,757,938,759,394,887,821,300,850,947,401,65,795,136,439,851,955,937,314,699,973,270,983,233,787,900,171,301,227,716,856,839,207,879,567,691,44,977,975,358,263,122,176,173,778,516,394,124,926,508,35,479,514,295,207,977,863,435,142,855,47,996,856,806,862,750,747,347,83,903,999,587,428,514,458,475,177,848,402,888,255,148,834,412,741,972,266,746,14,438,327,985,779,122,960,614,390,169,245,784,15,470,819,871,610,399,775,931,503,4,325,102,489,864,924,627,580,803,426,962,896,889,998,363,681,808,914,807,836,324,284,957,656,755,931,485,747,805,691,45,341,565,922,716,173,82,646,596,712,256,837,608,350,107,755,604,161,858,938,211,414,910,365,650,55,905,26,162,837,498,809,529,562,63,840,863,817,985,508,166,266,902,653,89,382,374,407,185,591,558,802,703,517,838,836,77,682,397,769,710,151,746,354,690,628,902,395,199,123,17,712,412,295,108,85,426,723,628,455,935,675,114,715,768,360,809,41,924,912,165,99,572,602,929,697,128,955,288,817,127,388,864,550,504,835,13,853,460,333,633,371,988,944,314,150,877,525,658,424,928,624,670,440,450,973,513,792,910,137,469,54,999,337,782,393,391,412,166,420,553,667,351,973,442,302,849,315,152,767,243,747,969,465,246,894,531,971,912,487,894,857,997,752,833,388,987,917,176,447,354,25,723,809,138,329,200,477,813,788,727,324,975,128,632,818,728,972,25,597,818,891,431,545,912,555,861,38,229,851,817,996,548,356,66,350,661,230,356,815,355,938,63,63,498,252,884,875,159,348,52,517,709,903,746,810,878,680,493,101,412,654,301,257,843,734,847,129,257,97,885,780,30],\"type\":\"box\"}],                        {\"template\":{\"data\":{\"histogram2dcontour\":[{\"type\":\"histogram2dcontour\",\"colorbar\":{\"outlinewidth\":0,\"ticks\":\"\"},\"colorscale\":[[0.0,\"#0d0887\"],[0.1111111111111111,\"#46039f\"],[0.2222222222222222,\"#7201a8\"],[0.3333333333333333,\"#9c179e\"],[0.4444444444444444,\"#bd3786\"],[0.5555555555555556,\"#d8576b\"],[0.6666666666666666,\"#ed7953\"],[0.7777777777777778,\"#fb9f3a\"],[0.8888888888888888,\"#fdca26\"],[1.0,\"#f0f921\"]]}],\"choropleth\":[{\"type\":\"choropleth\",\"colorbar\":{\"outlinewidth\":0,\"ticks\":\"\"}}],\"histogram2d\":[{\"type\":\"histogram2d\",\"colorbar\":{\"outlinewidth\":0,\"ticks\":\"\"},\"colorscale\":[[0.0,\"#0d0887\"],[0.1111111111111111,\"#46039f\"],[0.2222222222222222,\"#7201a8\"],[0.3333333333333333,\"#9c179e\"],[0.4444444444444444,\"#bd3786\"],[0.5555555555555556,\"#d8576b\"],[0.6666666666666666,\"#ed7953\"],[0.7777777777777778,\"#fb9f3a\"],[0.8888888888888888,\"#fdca26\"],[1.0,\"#f0f921\"]]}],\"heatmap\":[{\"type\":\"heatmap\",\"colorbar\":{\"outlinewidth\":0,\"ticks\":\"\"},\"colorscale\":[[0.0,\"#0d0887\"],[0.1111111111111111,\"#46039f\"],[0.2222222222222222,\"#7201a8\"],[0.3333333333333333,\"#9c179e\"],[0.4444444444444444,\"#bd3786\"],[0.5555555555555556,\"#d8576b\"],[0.6666666666666666,\"#ed7953\"],[0.7777777777777778,\"#fb9f3a\"],[0.8888888888888888,\"#fdca26\"],[1.0,\"#f0f921\"]]}],\"heatmapgl\":[{\"type\":\"heatmapgl\",\"colorbar\":{\"outlinewidth\":0,\"ticks\":\"\"},\"colorscale\":[[0.0,\"#0d0887\"],[0.1111111111111111,\"#46039f\"],[0.2222222222222222,\"#7201a8\"],[0.3333333333333333,\"#9c179e\"],[0.4444444444444444,\"#bd3786\"],[0.5555555555555556,\"#d8576b\"],[0.6666666666666666,\"#ed7953\"],[0.7777777777777778,\"#fb9f3a\"],[0.8888888888888888,\"#fdca26\"],[1.0,\"#f0f921\"]]}],\"contourcarpet\":[{\"type\":\"contourcarpet\",\"colorbar\":{\"outlinewidth\":0,\"ticks\":\"\"}}],\"contour\":[{\"type\":\"contour\",\"colorbar\":{\"outlinewidth\":0,\"ticks\":\"\"},\"colorscale\":[[0.0,\"#0d0887\"],[0.1111111111111111,\"#46039f\"],[0.2222222222222222,\"#7201a8\"],[0.3333333333333333,\"#9c179e\"],[0.4444444444444444,\"#bd3786\"],[0.5555555555555556,\"#d8576b\"],[0.6666666666666666,\"#ed7953\"],[0.7777777777777778,\"#fb9f3a\"],[0.8888888888888888,\"#fdca26\"],[1.0,\"#f0f921\"]]}],\"surface\":[{\"type\":\"surface\",\"colorbar\":{\"outlinewidth\":0,\"ticks\":\"\"},\"colorscale\":[[0.0,\"#0d0887\"],[0.1111111111111111,\"#46039f\"],[0.2222222222222222,\"#7201a8\"],[0.3333333333333333,\"#9c179e\"],[0.4444444444444444,\"#bd3786\"],[0.5555555555555556,\"#d8576b\"],[0.6666666666666666,\"#ed7953\"],[0.7777777777777778,\"#fb9f3a\"],[0.8888888888888888,\"#fdca26\"],[1.0,\"#f0f921\"]]}],\"mesh3d\":[{\"type\":\"mesh3d\",\"colorbar\":{\"outlinewidth\":0,\"ticks\":\"\"}}],\"scatter\":[{\"fillpattern\":{\"fillmode\":\"overlay\",\"size\":10,\"solidity\":0.2},\"type\":\"scatter\"}],\"parcoords\":[{\"type\":\"parcoords\",\"line\":{\"colorbar\":{\"outlinewidth\":0,\"ticks\":\"\"}}}],\"scatterpolargl\":[{\"type\":\"scatterpolargl\",\"marker\":{\"colorbar\":{\"outlinewidth\":0,\"ticks\":\"\"}}}],\"bar\":[{\"error_x\":{\"color\":\"#2a3f5f\"},\"error_y\":{\"color\":\"#2a3f5f\"},\"marker\":{\"line\":{\"color\":\"#E5ECF6\",\"width\":0.5},\"pattern\":{\"fillmode\":\"overlay\",\"size\":10,\"solidity\":0.2}},\"type\":\"bar\"}],\"scattergeo\":[{\"type\":\"scattergeo\",\"marker\":{\"colorbar\":{\"outlinewidth\":0,\"ticks\":\"\"}}}],\"scatterpolar\":[{\"type\":\"scatterpolar\",\"marker\":{\"colorbar\":{\"outlinewidth\":0,\"ticks\":\"\"}}}],\"histogram\":[{\"marker\":{\"pattern\":{\"fillmode\":\"overlay\",\"size\":10,\"solidity\":0.2}},\"type\":\"histogram\"}],\"scattergl\":[{\"type\":\"scattergl\",\"marker\":{\"colorbar\":{\"outlinewidth\":0,\"ticks\":\"\"}}}],\"scatter3d\":[{\"type\":\"scatter3d\",\"line\":{\"colorbar\":{\"outlinewidth\":0,\"ticks\":\"\"}},\"marker\":{\"colorbar\":{\"outlinewidth\":0,\"ticks\":\"\"}}}],\"scattermapbox\":[{\"type\":\"scattermapbox\",\"marker\":{\"colorbar\":{\"outlinewidth\":0,\"ticks\":\"\"}}}],\"scatterternary\":[{\"type\":\"scatterternary\",\"marker\":{\"colorbar\":{\"outlinewidth\":0,\"ticks\":\"\"}}}],\"scattercarpet\":[{\"type\":\"scattercarpet\",\"marker\":{\"colorbar\":{\"outlinewidth\":0,\"ticks\":\"\"}}}],\"carpet\":[{\"aaxis\":{\"endlinecolor\":\"#2a3f5f\",\"gridcolor\":\"white\",\"linecolor\":\"white\",\"minorgridcolor\":\"white\",\"startlinecolor\":\"#2a3f5f\"},\"baxis\":{\"endlinecolor\":\"#2a3f5f\",\"gridcolor\":\"white\",\"linecolor\":\"white\",\"minorgridcolor\":\"white\",\"startlinecolor\":\"#2a3f5f\"},\"type\":\"carpet\"}],\"table\":[{\"cells\":{\"fill\":{\"color\":\"#EBF0F8\"},\"line\":{\"color\":\"white\"}},\"header\":{\"fill\":{\"color\":\"#C8D4E3\"},\"line\":{\"color\":\"white\"}},\"type\":\"table\"}],\"barpolar\":[{\"marker\":{\"line\":{\"color\":\"#E5ECF6\",\"width\":0.5},\"pattern\":{\"fillmode\":\"overlay\",\"size\":10,\"solidity\":0.2}},\"type\":\"barpolar\"}],\"pie\":[{\"automargin\":true,\"type\":\"pie\"}]},\"layout\":{\"autotypenumbers\":\"strict\",\"colorway\":[\"#636efa\",\"#EF553B\",\"#00cc96\",\"#ab63fa\",\"#FFA15A\",\"#19d3f3\",\"#FF6692\",\"#B6E880\",\"#FF97FF\",\"#FECB52\"],\"font\":{\"color\":\"#2a3f5f\"},\"hovermode\":\"closest\",\"hoverlabel\":{\"align\":\"left\"},\"paper_bgcolor\":\"white\",\"plot_bgcolor\":\"#E5ECF6\",\"polar\":{\"bgcolor\":\"#E5ECF6\",\"angularaxis\":{\"gridcolor\":\"white\",\"linecolor\":\"white\",\"ticks\":\"\"},\"radialaxis\":{\"gridcolor\":\"white\",\"linecolor\":\"white\",\"ticks\":\"\"}},\"ternary\":{\"bgcolor\":\"#E5ECF6\",\"aaxis\":{\"gridcolor\":\"white\",\"linecolor\":\"white\",\"ticks\":\"\"},\"baxis\":{\"gridcolor\":\"white\",\"linecolor\":\"white\",\"ticks\":\"\"},\"caxis\":{\"gridcolor\":\"white\",\"linecolor\":\"white\",\"ticks\":\"\"}},\"coloraxis\":{\"colorbar\":{\"outlinewidth\":0,\"ticks\":\"\"}},\"colorscale\":{\"sequential\":[[0.0,\"#0d0887\"],[0.1111111111111111,\"#46039f\"],[0.2222222222222222,\"#7201a8\"],[0.3333333333333333,\"#9c179e\"],[0.4444444444444444,\"#bd3786\"],[0.5555555555555556,\"#d8576b\"],[0.6666666666666666,\"#ed7953\"],[0.7777777777777778,\"#fb9f3a\"],[0.8888888888888888,\"#fdca26\"],[1.0,\"#f0f921\"]],\"sequentialminus\":[[0.0,\"#0d0887\"],[0.1111111111111111,\"#46039f\"],[0.2222222222222222,\"#7201a8\"],[0.3333333333333333,\"#9c179e\"],[0.4444444444444444,\"#bd3786\"],[0.5555555555555556,\"#d8576b\"],[0.6666666666666666,\"#ed7953\"],[0.7777777777777778,\"#fb9f3a\"],[0.8888888888888888,\"#fdca26\"],[1.0,\"#f0f921\"]],\"diverging\":[[0,\"#8e0152\"],[0.1,\"#c51b7d\"],[0.2,\"#de77ae\"],[0.3,\"#f1b6da\"],[0.4,\"#fde0ef\"],[0.5,\"#f7f7f7\"],[0.6,\"#e6f5d0\"],[0.7,\"#b8e186\"],[0.8,\"#7fbc41\"],[0.9,\"#4d9221\"],[1,\"#276419\"]]},\"xaxis\":{\"gridcolor\":\"white\",\"linecolor\":\"white\",\"ticks\":\"\",\"title\":{\"standoff\":15},\"zerolinecolor\":\"white\",\"automargin\":true,\"zerolinewidth\":2},\"yaxis\":{\"gridcolor\":\"white\",\"linecolor\":\"white\",\"ticks\":\"\",\"title\":{\"standoff\":15},\"zerolinecolor\":\"white\",\"automargin\":true,\"zerolinewidth\":2},\"scene\":{\"xaxis\":{\"backgroundcolor\":\"#E5ECF6\",\"gridcolor\":\"white\",\"linecolor\":\"white\",\"showbackground\":true,\"ticks\":\"\",\"zerolinecolor\":\"white\",\"gridwidth\":2},\"yaxis\":{\"backgroundcolor\":\"#E5ECF6\",\"gridcolor\":\"white\",\"linecolor\":\"white\",\"showbackground\":true,\"ticks\":\"\",\"zerolinecolor\":\"white\",\"gridwidth\":2},\"zaxis\":{\"backgroundcolor\":\"#E5ECF6\",\"gridcolor\":\"white\",\"linecolor\":\"white\",\"showbackground\":true,\"ticks\":\"\",\"zerolinecolor\":\"white\",\"gridwidth\":2}},\"shapedefaults\":{\"line\":{\"color\":\"#2a3f5f\"}},\"annotationdefaults\":{\"arrowcolor\":\"#2a3f5f\",\"arrowhead\":0,\"arrowwidth\":1},\"geo\":{\"bgcolor\":\"white\",\"landcolor\":\"#E5ECF6\",\"subunitcolor\":\"white\",\"showland\":true,\"showlakes\":true,\"lakecolor\":\"white\"},\"title\":{\"x\":0.05},\"mapbox\":{\"style\":\"light\"}}},\"title\":{\"text\":\"Boxplot of Length\"},\"xaxis\":{\"title\":{\"text\":\"\"}},\"yaxis\":{\"title\":{\"text\":\"Length\"}}},                        {\"responsive\": true}                    ).then(function(){\n",
              "                            \n",
              "var gd = document.getElementById('70cc6755-3a93-47dd-ae21-49f75c297eed');\n",
              "var x = new MutationObserver(function (mutations, observer) {{\n",
              "        var display = window.getComputedStyle(gd).display;\n",
              "        if (!display || display === 'none') {{\n",
              "            console.log([gd, 'removed!']);\n",
              "            Plotly.purge(gd);\n",
              "            observer.disconnect();\n",
              "        }}\n",
              "}});\n",
              "\n",
              "// Listen for the removal of the full notebook cells\n",
              "var notebookContainer = gd.closest('#notebook-container');\n",
              "if (notebookContainer) {{\n",
              "    x.observe(notebookContainer, {childList: true});\n",
              "}}\n",
              "\n",
              "// Listen for the clearing of the current output cell\n",
              "var outputEl = gd.closest('.output');\n",
              "if (outputEl) {{\n",
              "    x.observe(outputEl, {childList: true});\n",
              "}}\n",
              "\n",
              "                        })                };                            </script>        </div>\n",
              "</body>\n",
              "</html>"
            ]
          },
          "metadata": {}
        }
      ]
    },
    {
      "cell_type": "code",
      "source": [
        "import plotly.figure_factory as ff\n",
        "\n",
        "# Calculate correlation matrix\n",
        "corr_matrix = df.corr()\n",
        "\n",
        "# Create an annotated heatmap using Plotly\n",
        "fig = ff.create_annotated_heatmap(z=corr_matrix.values,\n",
        "                                  x=list(corr_matrix.columns),\n",
        "                                  y=list(corr_matrix.index),\n",
        "                                  colorscale='Viridis',\n",
        "                                  annotation_text=corr_matrix.round(2).values,\n",
        "                                  showscale=True)\n",
        "\n",
        "# Update layout\n",
        "fig.update_layout(title='Correlation Heatmap',\n",
        "                  xaxis=dict(title='Features'),\n",
        "                  yaxis=dict(title='Features'))\n",
        "\n",
        "# Show the interactive heatmap\n",
        "fig.show()\n"
      ],
      "metadata": {
        "id": "i1Ui8m58bxg9",
        "outputId": "cdb3366b-5c61-4529-dfec-4041fde50cab",
        "colab": {
          "base_uri": "https://localhost:8080/",
          "height": 631
        }
      },
      "execution_count": 11,
      "outputs": [
        {
          "output_type": "stream",
          "name": "stderr",
          "text": [
            "<ipython-input-11-118ebd755b50>:4: FutureWarning:\n",
            "\n",
            "The default value of numeric_only in DataFrame.corr is deprecated. In a future version, it will default to False. Select only valid columns or specify the value of numeric_only to silence this warning.\n",
            "\n"
          ]
        },
        {
          "output_type": "display_data",
          "data": {
            "text/html": [
              "<html>\n",
              "<head><meta charset=\"utf-8\" /></head>\n",
              "<body>\n",
              "    <div>            <script src=\"https://cdnjs.cloudflare.com/ajax/libs/mathjax/2.7.5/MathJax.js?config=TeX-AMS-MML_SVG\"></script><script type=\"text/javascript\">if (window.MathJax && window.MathJax.Hub && window.MathJax.Hub.Config) {window.MathJax.Hub.Config({SVG: {font: \"STIX-Web\"}});}</script>                <script type=\"text/javascript\">window.PlotlyConfig = {MathJaxConfig: 'local'};</script>\n",
              "        <script charset=\"utf-8\" src=\"https://cdn.plot.ly/plotly-2.24.1.min.js\"></script>                <div id=\"2a48b903-f7c8-4726-ad47-7972cfd0ab89\" class=\"plotly-graph-div\" style=\"height:525px; width:100%;\"></div>            <script type=\"text/javascript\">                                    window.PLOTLYENV=window.PLOTLYENV || {};                                    if (document.getElementById(\"2a48b903-f7c8-4726-ad47-7972cfd0ab89\")) {                    Plotly.newPlot(                        \"2a48b903-f7c8-4726-ad47-7972cfd0ab89\",                        [{\"colorscale\":[[0.0,\"#440154\"],[0.1111111111111111,\"#482878\"],[0.2222222222222222,\"#3e4989\"],[0.3333333333333333,\"#31688e\"],[0.4444444444444444,\"#26828e\"],[0.5555555555555556,\"#1f9e89\"],[0.6666666666666666,\"#35b779\"],[0.7777777777777778,\"#6ece58\"],[0.8888888888888888,\"#b5de2b\"],[1.0,\"#fde725\"]],\"reversescale\":false,\"showscale\":true,\"x\":[\"Source\",\"Destination\",\"Protocol\",\"Length\"],\"y\":[\"Source\",\"Destination\",\"Protocol\",\"Length\"],\"z\":[[1.0,0.014485223250920498,0.0016223298400004727,0.010096261547639575],[0.014485223250920498,1.0,0.03535085061288205,-0.005349131931877279],[0.0016223298400004727,0.03535085061288205,1.0,-0.008264670808213054],[0.010096261547639575,-0.005349131931877279,-0.008264670808213054,1.0]],\"type\":\"heatmap\"}],                        {\"annotations\":[{\"font\":{\"color\":\"#000000\"},\"showarrow\":false,\"text\":\"1.0\",\"x\":\"Source\",\"xref\":\"x\",\"y\":\"Source\",\"yref\":\"y\"},{\"font\":{\"color\":\"#FFFFFF\"},\"showarrow\":false,\"text\":\"0.01\",\"x\":\"Destination\",\"xref\":\"x\",\"y\":\"Source\",\"yref\":\"y\"},{\"font\":{\"color\":\"#FFFFFF\"},\"showarrow\":false,\"text\":\"0.0\",\"x\":\"Protocol\",\"xref\":\"x\",\"y\":\"Source\",\"yref\":\"y\"},{\"font\":{\"color\":\"#FFFFFF\"},\"showarrow\":false,\"text\":\"0.01\",\"x\":\"Length\",\"xref\":\"x\",\"y\":\"Source\",\"yref\":\"y\"},{\"font\":{\"color\":\"#FFFFFF\"},\"showarrow\":false,\"text\":\"0.01\",\"x\":\"Source\",\"xref\":\"x\",\"y\":\"Destination\",\"yref\":\"y\"},{\"font\":{\"color\":\"#000000\"},\"showarrow\":false,\"text\":\"1.0\",\"x\":\"Destination\",\"xref\":\"x\",\"y\":\"Destination\",\"yref\":\"y\"},{\"font\":{\"color\":\"#FFFFFF\"},\"showarrow\":false,\"text\":\"0.04\",\"x\":\"Protocol\",\"xref\":\"x\",\"y\":\"Destination\",\"yref\":\"y\"},{\"font\":{\"color\":\"#FFFFFF\"},\"showarrow\":false,\"text\":\"-0.01\",\"x\":\"Length\",\"xref\":\"x\",\"y\":\"Destination\",\"yref\":\"y\"},{\"font\":{\"color\":\"#FFFFFF\"},\"showarrow\":false,\"text\":\"0.0\",\"x\":\"Source\",\"xref\":\"x\",\"y\":\"Protocol\",\"yref\":\"y\"},{\"font\":{\"color\":\"#FFFFFF\"},\"showarrow\":false,\"text\":\"0.04\",\"x\":\"Destination\",\"xref\":\"x\",\"y\":\"Protocol\",\"yref\":\"y\"},{\"font\":{\"color\":\"#000000\"},\"showarrow\":false,\"text\":\"1.0\",\"x\":\"Protocol\",\"xref\":\"x\",\"y\":\"Protocol\",\"yref\":\"y\"},{\"font\":{\"color\":\"#FFFFFF\"},\"showarrow\":false,\"text\":\"-0.01\",\"x\":\"Length\",\"xref\":\"x\",\"y\":\"Protocol\",\"yref\":\"y\"},{\"font\":{\"color\":\"#FFFFFF\"},\"showarrow\":false,\"text\":\"0.01\",\"x\":\"Source\",\"xref\":\"x\",\"y\":\"Length\",\"yref\":\"y\"},{\"font\":{\"color\":\"#FFFFFF\"},\"showarrow\":false,\"text\":\"-0.01\",\"x\":\"Destination\",\"xref\":\"x\",\"y\":\"Length\",\"yref\":\"y\"},{\"font\":{\"color\":\"#FFFFFF\"},\"showarrow\":false,\"text\":\"-0.01\",\"x\":\"Protocol\",\"xref\":\"x\",\"y\":\"Length\",\"yref\":\"y\"},{\"font\":{\"color\":\"#000000\"},\"showarrow\":false,\"text\":\"1.0\",\"x\":\"Length\",\"xref\":\"x\",\"y\":\"Length\",\"yref\":\"y\"}],\"xaxis\":{\"dtick\":1,\"gridcolor\":\"rgb(0, 0, 0)\",\"side\":\"top\",\"ticks\":\"\",\"title\":{\"text\":\"Features\"}},\"yaxis\":{\"dtick\":1,\"ticks\":\"\",\"ticksuffix\":\"  \",\"title\":{\"text\":\"Features\"}},\"template\":{\"data\":{\"histogram2dcontour\":[{\"type\":\"histogram2dcontour\",\"colorbar\":{\"outlinewidth\":0,\"ticks\":\"\"},\"colorscale\":[[0.0,\"#0d0887\"],[0.1111111111111111,\"#46039f\"],[0.2222222222222222,\"#7201a8\"],[0.3333333333333333,\"#9c179e\"],[0.4444444444444444,\"#bd3786\"],[0.5555555555555556,\"#d8576b\"],[0.6666666666666666,\"#ed7953\"],[0.7777777777777778,\"#fb9f3a\"],[0.8888888888888888,\"#fdca26\"],[1.0,\"#f0f921\"]]}],\"choropleth\":[{\"type\":\"choropleth\",\"colorbar\":{\"outlinewidth\":0,\"ticks\":\"\"}}],\"histogram2d\":[{\"type\":\"histogram2d\",\"colorbar\":{\"outlinewidth\":0,\"ticks\":\"\"},\"colorscale\":[[0.0,\"#0d0887\"],[0.1111111111111111,\"#46039f\"],[0.2222222222222222,\"#7201a8\"],[0.3333333333333333,\"#9c179e\"],[0.4444444444444444,\"#bd3786\"],[0.5555555555555556,\"#d8576b\"],[0.6666666666666666,\"#ed7953\"],[0.7777777777777778,\"#fb9f3a\"],[0.8888888888888888,\"#fdca26\"],[1.0,\"#f0f921\"]]}],\"heatmap\":[{\"type\":\"heatmap\",\"colorbar\":{\"outlinewidth\":0,\"ticks\":\"\"},\"colorscale\":[[0.0,\"#0d0887\"],[0.1111111111111111,\"#46039f\"],[0.2222222222222222,\"#7201a8\"],[0.3333333333333333,\"#9c179e\"],[0.4444444444444444,\"#bd3786\"],[0.5555555555555556,\"#d8576b\"],[0.6666666666666666,\"#ed7953\"],[0.7777777777777778,\"#fb9f3a\"],[0.8888888888888888,\"#fdca26\"],[1.0,\"#f0f921\"]]}],\"heatmapgl\":[{\"type\":\"heatmapgl\",\"colorbar\":{\"outlinewidth\":0,\"ticks\":\"\"},\"colorscale\":[[0.0,\"#0d0887\"],[0.1111111111111111,\"#46039f\"],[0.2222222222222222,\"#7201a8\"],[0.3333333333333333,\"#9c179e\"],[0.4444444444444444,\"#bd3786\"],[0.5555555555555556,\"#d8576b\"],[0.6666666666666666,\"#ed7953\"],[0.7777777777777778,\"#fb9f3a\"],[0.8888888888888888,\"#fdca26\"],[1.0,\"#f0f921\"]]}],\"contourcarpet\":[{\"type\":\"contourcarpet\",\"colorbar\":{\"outlinewidth\":0,\"ticks\":\"\"}}],\"contour\":[{\"type\":\"contour\",\"colorbar\":{\"outlinewidth\":0,\"ticks\":\"\"},\"colorscale\":[[0.0,\"#0d0887\"],[0.1111111111111111,\"#46039f\"],[0.2222222222222222,\"#7201a8\"],[0.3333333333333333,\"#9c179e\"],[0.4444444444444444,\"#bd3786\"],[0.5555555555555556,\"#d8576b\"],[0.6666666666666666,\"#ed7953\"],[0.7777777777777778,\"#fb9f3a\"],[0.8888888888888888,\"#fdca26\"],[1.0,\"#f0f921\"]]}],\"surface\":[{\"type\":\"surface\",\"colorbar\":{\"outlinewidth\":0,\"ticks\":\"\"},\"colorscale\":[[0.0,\"#0d0887\"],[0.1111111111111111,\"#46039f\"],[0.2222222222222222,\"#7201a8\"],[0.3333333333333333,\"#9c179e\"],[0.4444444444444444,\"#bd3786\"],[0.5555555555555556,\"#d8576b\"],[0.6666666666666666,\"#ed7953\"],[0.7777777777777778,\"#fb9f3a\"],[0.8888888888888888,\"#fdca26\"],[1.0,\"#f0f921\"]]}],\"mesh3d\":[{\"type\":\"mesh3d\",\"colorbar\":{\"outlinewidth\":0,\"ticks\":\"\"}}],\"scatter\":[{\"fillpattern\":{\"fillmode\":\"overlay\",\"size\":10,\"solidity\":0.2},\"type\":\"scatter\"}],\"parcoords\":[{\"type\":\"parcoords\",\"line\":{\"colorbar\":{\"outlinewidth\":0,\"ticks\":\"\"}}}],\"scatterpolargl\":[{\"type\":\"scatterpolargl\",\"marker\":{\"colorbar\":{\"outlinewidth\":0,\"ticks\":\"\"}}}],\"bar\":[{\"error_x\":{\"color\":\"#2a3f5f\"},\"error_y\":{\"color\":\"#2a3f5f\"},\"marker\":{\"line\":{\"color\":\"#E5ECF6\",\"width\":0.5},\"pattern\":{\"fillmode\":\"overlay\",\"size\":10,\"solidity\":0.2}},\"type\":\"bar\"}],\"scattergeo\":[{\"type\":\"scattergeo\",\"marker\":{\"colorbar\":{\"outlinewidth\":0,\"ticks\":\"\"}}}],\"scatterpolar\":[{\"type\":\"scatterpolar\",\"marker\":{\"colorbar\":{\"outlinewidth\":0,\"ticks\":\"\"}}}],\"histogram\":[{\"marker\":{\"pattern\":{\"fillmode\":\"overlay\",\"size\":10,\"solidity\":0.2}},\"type\":\"histogram\"}],\"scattergl\":[{\"type\":\"scattergl\",\"marker\":{\"colorbar\":{\"outlinewidth\":0,\"ticks\":\"\"}}}],\"scatter3d\":[{\"type\":\"scatter3d\",\"line\":{\"colorbar\":{\"outlinewidth\":0,\"ticks\":\"\"}},\"marker\":{\"colorbar\":{\"outlinewidth\":0,\"ticks\":\"\"}}}],\"scattermapbox\":[{\"type\":\"scattermapbox\",\"marker\":{\"colorbar\":{\"outlinewidth\":0,\"ticks\":\"\"}}}],\"scatterternary\":[{\"type\":\"scatterternary\",\"marker\":{\"colorbar\":{\"outlinewidth\":0,\"ticks\":\"\"}}}],\"scattercarpet\":[{\"type\":\"scattercarpet\",\"marker\":{\"colorbar\":{\"outlinewidth\":0,\"ticks\":\"\"}}}],\"carpet\":[{\"aaxis\":{\"endlinecolor\":\"#2a3f5f\",\"gridcolor\":\"white\",\"linecolor\":\"white\",\"minorgridcolor\":\"white\",\"startlinecolor\":\"#2a3f5f\"},\"baxis\":{\"endlinecolor\":\"#2a3f5f\",\"gridcolor\":\"white\",\"linecolor\":\"white\",\"minorgridcolor\":\"white\",\"startlinecolor\":\"#2a3f5f\"},\"type\":\"carpet\"}],\"table\":[{\"cells\":{\"fill\":{\"color\":\"#EBF0F8\"},\"line\":{\"color\":\"white\"}},\"header\":{\"fill\":{\"color\":\"#C8D4E3\"},\"line\":{\"color\":\"white\"}},\"type\":\"table\"}],\"barpolar\":[{\"marker\":{\"line\":{\"color\":\"#E5ECF6\",\"width\":0.5},\"pattern\":{\"fillmode\":\"overlay\",\"size\":10,\"solidity\":0.2}},\"type\":\"barpolar\"}],\"pie\":[{\"automargin\":true,\"type\":\"pie\"}]},\"layout\":{\"autotypenumbers\":\"strict\",\"colorway\":[\"#636efa\",\"#EF553B\",\"#00cc96\",\"#ab63fa\",\"#FFA15A\",\"#19d3f3\",\"#FF6692\",\"#B6E880\",\"#FF97FF\",\"#FECB52\"],\"font\":{\"color\":\"#2a3f5f\"},\"hovermode\":\"closest\",\"hoverlabel\":{\"align\":\"left\"},\"paper_bgcolor\":\"white\",\"plot_bgcolor\":\"#E5ECF6\",\"polar\":{\"bgcolor\":\"#E5ECF6\",\"angularaxis\":{\"gridcolor\":\"white\",\"linecolor\":\"white\",\"ticks\":\"\"},\"radialaxis\":{\"gridcolor\":\"white\",\"linecolor\":\"white\",\"ticks\":\"\"}},\"ternary\":{\"bgcolor\":\"#E5ECF6\",\"aaxis\":{\"gridcolor\":\"white\",\"linecolor\":\"white\",\"ticks\":\"\"},\"baxis\":{\"gridcolor\":\"white\",\"linecolor\":\"white\",\"ticks\":\"\"},\"caxis\":{\"gridcolor\":\"white\",\"linecolor\":\"white\",\"ticks\":\"\"}},\"coloraxis\":{\"colorbar\":{\"outlinewidth\":0,\"ticks\":\"\"}},\"colorscale\":{\"sequential\":[[0.0,\"#0d0887\"],[0.1111111111111111,\"#46039f\"],[0.2222222222222222,\"#7201a8\"],[0.3333333333333333,\"#9c179e\"],[0.4444444444444444,\"#bd3786\"],[0.5555555555555556,\"#d8576b\"],[0.6666666666666666,\"#ed7953\"],[0.7777777777777778,\"#fb9f3a\"],[0.8888888888888888,\"#fdca26\"],[1.0,\"#f0f921\"]],\"sequentialminus\":[[0.0,\"#0d0887\"],[0.1111111111111111,\"#46039f\"],[0.2222222222222222,\"#7201a8\"],[0.3333333333333333,\"#9c179e\"],[0.4444444444444444,\"#bd3786\"],[0.5555555555555556,\"#d8576b\"],[0.6666666666666666,\"#ed7953\"],[0.7777777777777778,\"#fb9f3a\"],[0.8888888888888888,\"#fdca26\"],[1.0,\"#f0f921\"]],\"diverging\":[[0,\"#8e0152\"],[0.1,\"#c51b7d\"],[0.2,\"#de77ae\"],[0.3,\"#f1b6da\"],[0.4,\"#fde0ef\"],[0.5,\"#f7f7f7\"],[0.6,\"#e6f5d0\"],[0.7,\"#b8e186\"],[0.8,\"#7fbc41\"],[0.9,\"#4d9221\"],[1,\"#276419\"]]},\"xaxis\":{\"gridcolor\":\"white\",\"linecolor\":\"white\",\"ticks\":\"\",\"title\":{\"standoff\":15},\"zerolinecolor\":\"white\",\"automargin\":true,\"zerolinewidth\":2},\"yaxis\":{\"gridcolor\":\"white\",\"linecolor\":\"white\",\"ticks\":\"\",\"title\":{\"standoff\":15},\"zerolinecolor\":\"white\",\"automargin\":true,\"zerolinewidth\":2},\"scene\":{\"xaxis\":{\"backgroundcolor\":\"#E5ECF6\",\"gridcolor\":\"white\",\"linecolor\":\"white\",\"showbackground\":true,\"ticks\":\"\",\"zerolinecolor\":\"white\",\"gridwidth\":2},\"yaxis\":{\"backgroundcolor\":\"#E5ECF6\",\"gridcolor\":\"white\",\"linecolor\":\"white\",\"showbackground\":true,\"ticks\":\"\",\"zerolinecolor\":\"white\",\"gridwidth\":2},\"zaxis\":{\"backgroundcolor\":\"#E5ECF6\",\"gridcolor\":\"white\",\"linecolor\":\"white\",\"showbackground\":true,\"ticks\":\"\",\"zerolinecolor\":\"white\",\"gridwidth\":2}},\"shapedefaults\":{\"line\":{\"color\":\"#2a3f5f\"}},\"annotationdefaults\":{\"arrowcolor\":\"#2a3f5f\",\"arrowhead\":0,\"arrowwidth\":1},\"geo\":{\"bgcolor\":\"white\",\"landcolor\":\"#E5ECF6\",\"subunitcolor\":\"white\",\"showland\":true,\"showlakes\":true,\"lakecolor\":\"white\"},\"title\":{\"x\":0.05},\"mapbox\":{\"style\":\"light\"}}},\"title\":{\"text\":\"Correlation Heatmap\"}},                        {\"responsive\": true}                    ).then(function(){\n",
              "                            \n",
              "var gd = document.getElementById('2a48b903-f7c8-4726-ad47-7972cfd0ab89');\n",
              "var x = new MutationObserver(function (mutations, observer) {{\n",
              "        var display = window.getComputedStyle(gd).display;\n",
              "        if (!display || display === 'none') {{\n",
              "            console.log([gd, 'removed!']);\n",
              "            Plotly.purge(gd);\n",
              "            observer.disconnect();\n",
              "        }}\n",
              "}});\n",
              "\n",
              "// Listen for the removal of the full notebook cells\n",
              "var notebookContainer = gd.closest('#notebook-container');\n",
              "if (notebookContainer) {{\n",
              "    x.observe(notebookContainer, {childList: true});\n",
              "}}\n",
              "\n",
              "// Listen for the clearing of the current output cell\n",
              "var outputEl = gd.closest('.output');\n",
              "if (outputEl) {{\n",
              "    x.observe(outputEl, {childList: true});\n",
              "}}\n",
              "\n",
              "                        })                };                            </script>        </div>\n",
              "</body>\n",
              "</html>"
            ]
          },
          "metadata": {}
        }
      ]
    },
    {
      "cell_type": "code",
      "source": [
        "import plotly.graph_objects as go\n",
        "\n",
        "# Sort DataFrame by 'Time' column\n",
        "df_sorted = df.sort_values('Time')\n",
        "\n",
        "# Create an interactive line plot using Plotly\n",
        "fig = go.Figure()\n",
        "\n",
        "# Add trace for the line plot\n",
        "fig.add_trace(go.Scatter(x=df_sorted['Time'], y=df_sorted['Length'],\n",
        "                         mode='lines+markers', marker=dict(color='blue'), name='Length'))\n",
        "\n",
        "# Update layout\n",
        "fig.update_layout(title='Line Plot of Time vs. Length', xaxis_title='Time', yaxis_title='Length',\n",
        "                  xaxis=dict(type='date', tickformat='%Y-%m-%d %H:%M:%S'), showlegend=True)\n",
        "\n",
        "# Show the interactive plot\n",
        "fig.show()\n"
      ],
      "metadata": {
        "colab": {
          "base_uri": "https://localhost:8080/",
          "height": 542
        },
        "id": "0DqytJnm53_k",
        "outputId": "192d5667-534e-4029-fe47-f54301c9b9ca"
      },
      "execution_count": 12,
      "outputs": [
        {
          "output_type": "display_data",
          "data": {
            "text/html": [
              "<html>\n",
              "<head><meta charset=\"utf-8\" /></head>\n",
              "<body>\n",
              "    <div>            <script src=\"https://cdnjs.cloudflare.com/ajax/libs/mathjax/2.7.5/MathJax.js?config=TeX-AMS-MML_SVG\"></script><script type=\"text/javascript\">if (window.MathJax && window.MathJax.Hub && window.MathJax.Hub.Config) {window.MathJax.Hub.Config({SVG: {font: \"STIX-Web\"}});}</script>                <script type=\"text/javascript\">window.PlotlyConfig = {MathJaxConfig: 'local'};</script>\n",
              "        <script charset=\"utf-8\" src=\"https://cdn.plot.ly/plotly-2.24.1.min.js\"></script>                <div id=\"19561772-0fe4-4224-9f80-92df956e3cf2\" class=\"plotly-graph-div\" style=\"height:525px; width:100%;\"></div>            <script type=\"text/javascript\">                                    window.PLOTLYENV=window.PLOTLYENV || {};                                    if (document.getElementById(\"19561772-0fe4-4224-9f80-92df956e3cf2\")) {                    Plotly.newPlot(                        \"19561772-0fe4-4224-9f80-92df956e3cf2\",                        [{\"marker\":{\"color\":\"blue\"},\"mode\":\"lines+markers\",\"name\":\"Length\",\"x\":[\"2024-03-15 23:33:57.259438\",\"2024-03-15 23:34:57.259941\",\"2024-03-15 23:35:57.256009\",\"2024-03-15 23:48:57.259688\",\"2024-03-16 00:01:57.258033\",\"2024-03-16 01:09:57.254729\",\"2024-03-16 01:09:57.258377\",\"2024-03-16 01:20:57.256789\",\"2024-03-16 01:38:57.256847\",\"2024-03-16 01:57:57.254620\",\"2024-03-16 01:57:57.260295\",\"2024-03-16 02:05:57.255556\",\"2024-03-16 02:09:57.261146\",\"2024-03-16 02:12:57.258895\",\"2024-03-16 02:20:57.260377\",\"2024-03-16 02:42:57.258442\",\"2024-03-16 02:45:57.255154\",\"2024-03-16 03:01:57.255043\",\"2024-03-16 03:06:57.258766\",\"2024-03-16 03:08:57.257553\",\"2024-03-16 03:14:57.259336\",\"2024-03-16 03:29:57.256161\",\"2024-03-16 03:38:57.255572\",\"2024-03-16 03:44:57.258948\",\"2024-03-16 03:58:57.256734\",\"2024-03-16 04:13:57.258760\",\"2024-03-16 04:28:57.260015\",\"2024-03-16 04:32:57.261393\",\"2024-03-16 04:42:57.255608\",\"2024-03-16 04:49:57.259525\",\"2024-03-16 04:51:57.256915\",\"2024-03-16 05:01:57.255637\",\"2024-03-16 05:02:57.257809\",\"2024-03-16 05:27:57.260655\",\"2024-03-16 05:32:57.257746\",\"2024-03-16 05:41:57.260238\",\"2024-03-16 06:03:57.261507\",\"2024-03-16 06:08:57.258982\",\"2024-03-16 06:10:57.257080\",\"2024-03-16 06:18:57.256125\",\"2024-03-16 06:45:57.259203\",\"2024-03-16 06:57:57.258249\",\"2024-03-16 07:19:57.256434\",\"2024-03-16 07:42:57.256554\",\"2024-03-16 07:45:57.258324\",\"2024-03-16 07:45:57.260966\",\"2024-03-16 07:53:57.261558\",\"2024-03-16 08:01:57.260357\",\"2024-03-16 08:47:57.257965\",\"2024-03-16 08:57:57.259994\",\"2024-03-16 09:11:57.256428\",\"2024-03-16 09:12:57.261406\",\"2024-03-16 09:21:57.257693\",\"2024-03-16 09:26:57.255100\",\"2024-03-16 09:29:57.258595\",\"2024-03-16 09:44:57.259090\",\"2024-03-16 09:51:57.259702\",\"2024-03-16 09:52:57.260438\",\"2024-03-16 10:03:57.255113\",\"2024-03-16 10:08:57.258066\",\"2024-03-16 10:11:57.257456\",\"2024-03-16 10:11:57.259471\",\"2024-03-16 10:17:57.261179\",\"2024-03-16 10:45:57.260123\",\"2024-03-16 10:59:57.256489\",\"2024-03-16 11:03:57.259459\",\"2024-03-16 11:08:57.260812\",\"2024-03-16 11:18:57.258934\",\"2024-03-16 11:20:57.258046\",\"2024-03-16 11:38:57.258746\",\"2024-03-16 12:10:57.260586\",\"2024-03-16 12:17:57.254648\",\"2024-03-16 12:22:57.256636\",\"2024-03-16 12:44:57.258363\",\"2024-03-16 13:22:57.259249\",\"2024-03-16 13:38:57.256441\",\"2024-03-16 13:43:57.260691\",\"2024-03-16 13:59:57.255296\",\"2024-03-16 14:02:57.258976\",\"2024-03-16 14:08:57.258989\",\"2024-03-16 14:08:57.259344\",\"2024-03-16 14:10:57.259037\",\"2024-03-16 14:19:57.261226\",\"2024-03-16 14:22:57.256258\",\"2024-03-16 14:28:57.258173\",\"2024-03-16 14:45:57.258914\",\"2024-03-16 15:01:57.258228\",\"2024-03-16 15:10:57.256300\",\"2024-03-16 15:12:57.260979\",\"2024-03-16 15:22:57.258039\",\"2024-03-16 15:22:57.261153\",\"2024-03-16 15:25:57.258268\",\"2024-03-16 15:33:57.257347\",\"2024-03-16 15:37:57.260946\",\"2024-03-16 15:40:57.258436\",\"2024-03-16 15:49:57.255932\",\"2024-03-16 15:54:57.255208\",\"2024-03-16 15:54:57.256776\",\"2024-03-16 16:02:57.261037\",\"2024-03-16 16:08:57.254954\",\"2024-03-16 16:12:57.259746\",\"2024-03-16 16:20:57.259674\",\"2024-03-16 16:33:57.258901\",\"2024-03-16 16:40:57.255911\",\"2024-03-16 16:54:57.254987\",\"2024-03-16 16:57:57.258630\",\"2024-03-16 17:08:57.259605\",\"2024-03-16 17:09:57.257958\",\"2024-03-16 17:09:57.259546\",\"2024-03-16 17:12:57.257753\",\"2024-03-16 17:20:57.255995\",\"2024-03-16 17:41:57.258540\",\"2024-03-16 17:52:57.257333\",\"2024-03-16 17:53:57.261206\",\"2024-03-16 17:54:57.258093\",\"2024-03-16 18:19:57.258289\",\"2024-03-16 18:26:57.258561\",\"2024-03-16 18:28:57.261088\",\"2024-03-16 18:53:57.255417\",\"2024-03-16 19:03:57.259243\",\"2024-03-16 19:13:57.258941\",\"2024-03-16 19:16:57.259197\",\"2024-03-16 19:18:57.260277\",\"2024-03-16 19:24:57.256401\",\"2024-03-16 19:25:57.257999\",\"2024-03-16 19:35:57.257497\",\"2024-03-16 19:44:57.258413\",\"2024-03-16 19:53:57.257142\",\"2024-03-16 20:10:57.255147\",\"2024-03-16 20:10:57.260203\",\"2024-03-16 20:20:57.256834\",\"2024-03-16 20:26:57.254906\",\"2024-03-16 20:45:57.255688\",\"2024-03-16 20:45:57.259302\",\"2024-03-16 21:00:57.261338\",\"2024-03-16 21:02:57.256182\",\"2024-03-16 21:02:57.260068\",\"2024-03-16 21:06:57.256885\",\"2024-03-16 21:50:57.257791\",\"2024-03-16 22:01:57.256762\",\"2024-03-16 22:03:57.258547\",\"2024-03-16 22:13:57.259823\",\"2024-03-16 22:20:57.255016\",\"2024-03-16 22:26:57.258575\",\"2024-03-16 22:27:57.254853\",\"2024-03-16 22:33:57.259619\",\"2024-03-16 22:47:57.259404\",\"2024-03-16 22:50:57.258357\",\"2024-03-16 22:53:57.260419\",\"2024-03-16 22:55:57.260730\",\"2024-03-16 23:17:57.261493\",\"2024-03-16 23:47:57.257594\",\"2024-03-16 23:53:57.258650\",\"2024-03-16 23:56:57.257951\",\"2024-03-17 00:49:57.256534\",\"2024-03-17 00:50:57.256951\",\"2024-03-17 00:55:57.255392\",\"2024-03-17 01:14:57.255188\",\"2024-03-17 01:14:57.256620\",\"2024-03-17 01:33:57.258310\",\"2024-03-17 01:45:57.259143\",\"2024-03-17 01:54:57.255780\",\"2024-03-17 02:01:57.256355\",\"2024-03-17 02:09:57.255241\",\"2024-03-17 02:09:57.256808\",\"2024-03-17 02:13:57.256088\",\"2024-03-17 02:13:57.257422\",\"2024-03-17 02:29:57.259268\",\"2024-03-17 02:30:57.255485\",\"2024-03-17 02:36:57.257992\",\"2024-03-17 02:46:57.256396\",\"2024-03-17 02:50:57.256461\",\"2024-03-17 02:57:57.256990\",\"2024-03-17 02:59:57.254933\",\"2024-03-17 03:00:57.259398\",\"2024-03-17 03:04:57.256221\",\"2024-03-17 03:24:57.257128\",\"2024-03-17 03:47:57.260834\",\"2024-03-17 03:50:57.257971\",\"2024-03-17 03:50:57.259850\",\"2024-03-17 03:51:57.254818\",\"2024-03-17 03:56:57.255430\",\"2024-03-17 04:07:57.261118\",\"2024-03-17 04:16:57.258801\",\"2024-03-17 05:06:57.255787\",\"2024-03-17 05:23:57.259661\",\"2024-03-17 05:30:57.257559\",\"2024-03-17 05:53:57.258690\",\"2024-03-17 06:06:57.258215\",\"2024-03-17 06:12:57.256376\",\"2024-03-17 06:16:57.260878\",\"2024-03-17 06:18:57.259900\",\"2024-03-17 06:20:57.261270\",\"2024-03-17 06:31:57.255521\",\"2024-03-17 06:41:57.259585\",\"2024-03-17 07:15:57.260594\",\"2024-03-17 07:27:57.260184\",\"2024-03-17 07:31:57.260190\",\"2024-03-17 07:35:57.255981\",\"2024-03-17 07:39:57.258383\",\"2024-03-17 07:44:57.260458\",\"2024-03-17 07:49:57.257108\",\"2024-03-17 07:59:57.258683\",\"2024-03-17 08:03:57.256175\",\"2024-03-17 08:09:57.258623\",\"2024-03-17 08:10:57.255512\",\"2024-03-17 08:22:57.257490\",\"2024-03-17 08:23:57.260391\",\"2024-03-17 08:27:57.256891\",\"2024-03-17 08:32:57.257270\",\"2024-03-17 08:45:57.255498\",\"2024-03-17 09:12:57.258663\",\"2024-03-17 09:12:57.261485\",\"2024-03-17 09:31:57.261219\",\"2024-03-17 09:31:57.261309\",\"2024-03-17 09:40:57.256904\",\"2024-03-17 09:43:57.255801\",\"2024-03-17 09:47:57.259553\",\"2024-03-17 10:13:57.261101\",\"2024-03-17 10:31:57.254655\",\"2024-03-17 10:34:57.261382\",\"2024-03-17 10:45:57.254784\",\"2024-03-17 10:48:57.259136\",\"2024-03-17 11:09:57.257890\",\"2024-03-17 11:17:57.258153\",\"2024-03-17 11:25:57.260062\",\"2024-03-17 11:34:57.258167\",\"2024-03-17 11:42:57.259149\",\"2024-03-17 11:50:57.261360\",\"2024-03-17 12:00:57.260612\",\"2024-03-17 12:08:57.258006\",\"2024-03-17 12:14:57.257469\",\"2024-03-17 12:21:57.261571\",\"2024-03-17 12:28:57.260028\",\"2024-03-17 12:34:57.254705\",\"2024-03-17 12:38:57.259533\",\"2024-03-17 12:40:57.260778\",\"2024-03-17 13:00:57.255289\",\"2024-03-17 13:04:57.258589\",\"2024-03-17 13:08:57.256984\",\"2024-03-17 13:23:57.259043\",\"2024-03-17 13:38:57.256407\",\"2024-03-17 14:06:57.257985\",\"2024-03-17 14:16:57.257730\",\"2024-03-17 14:38:57.257539\",\"2024-03-17 15:21:57.256680\",\"2024-03-17 15:23:57.254804\",\"2024-03-17 15:28:57.256541\",\"2024-03-17 15:41:57.261345\",\"2024-03-17 16:05:57.259357\",\"2024-03-17 16:34:57.257565\",\"2024-03-17 16:41:57.256996\",\"2024-03-17 17:02:57.259223\",\"2024-03-17 17:16:57.259652\",\"2024-03-17 17:18:57.261611\",\"2024-03-17 17:34:57.256814\",\"2024-03-17 17:44:57.258120\",\"2024-03-17 17:46:57.254877\",\"2024-03-17 17:50:57.257380\",\"2024-03-17 17:58:57.256561\",\"2024-03-17 18:08:57.260258\",\"2024-03-17 18:16:57.258908\",\"2024-03-17 18:29:57.261290\",\"2024-03-17 18:36:57.260036\",\"2024-03-17 18:46:57.257296\",\"2024-03-17 18:57:57.259002\",\"2024-03-17 19:05:57.256910\",\"2024-03-17 19:08:57.259612\",\"2024-03-17 19:09:57.257737\",\"2024-03-17 19:17:57.255181\",\"2024-03-17 19:42:57.261026\",\"2024-03-17 19:47:57.260055\",\"2024-03-17 19:56:57.259350\",\"2024-03-17 19:56:57.261591\",\"2024-03-17 20:00:57.259452\",\"2024-03-17 20:06:57.255317\",\"2024-03-17 20:06:57.257101\",\"2024-03-17 20:19:57.258636\",\"2024-03-17 20:22:57.260364\",\"2024-03-17 20:26:57.257319\",\"2024-03-17 20:34:57.258100\",\"2024-03-17 20:40:57.257944\",\"2024-03-17 20:59:57.255174\",\"2024-03-17 21:12:57.255023\",\"2024-03-17 21:16:57.258428\",\"2024-03-17 21:23:57.259801\",\"2024-03-17 21:30:57.261094\",\"2024-03-17 21:34:57.260827\",\"2024-03-17 21:41:57.254961\",\"2024-03-17 21:53:57.261387\",\"2024-03-17 21:58:57.255348\",\"2024-03-17 22:17:57.258534\",\"2024-03-17 22:23:57.255859\",\"2024-03-17 22:50:57.257115\",\"2024-03-17 22:54:57.255491\",\"2024-03-17 23:05:57.260538\",\"2024-03-17 23:34:57.255071\",\"2024-03-17 23:44:57.255127\",\"2024-03-17 23:46:57.259566\",\"2024-03-17 23:55:57.261413\",\"2024-03-18 00:04:57.260271\",\"2024-03-18 00:48:57.256581\",\"2024-03-18 00:49:57.257366\",\"2024-03-18 00:56:57.256933\",\"2024-03-18 01:01:57.259808\",\"2024-03-18 01:04:57.259954\",\"2024-03-18 01:10:57.255093\",\"2024-03-18 01:11:57.260049\",\"2024-03-18 01:14:57.259836\",\"2024-03-18 01:26:57.257449\",\"2024-03-18 01:27:57.257600\",\"2024-03-18 01:32:57.260649\",\"2024-03-18 01:42:57.257388\",\"2024-03-18 02:03:57.257816\",\"2024-03-18 02:12:57.255386\",\"2024-03-18 02:32:57.256748\",\"2024-03-18 02:35:57.260642\",\"2024-03-18 02:35:57.261125\",\"2024-03-18 02:36:57.255342\",\"2024-03-18 02:40:57.255354\",\"2024-03-18 02:41:57.254750\",\"2024-03-18 02:47:57.261564\",\"2024-03-18 02:52:57.258316\",\"2024-03-18 02:57:57.261521\",\"2024-03-18 03:07:57.260176\",\"2024-03-18 03:28:57.258079\",\"2024-03-18 03:40:57.257607\",\"2024-03-18 03:48:57.256283\",\"2024-03-18 03:58:57.258140\",\"2024-03-18 04:04:57.257059\",\"2024-03-18 04:07:57.261617\",\"2024-03-18 04:08:57.257646\",\"2024-03-18 04:08:57.259217\",\"2024-03-18 04:15:57.259116\",\"2024-03-18 04:20:57.261462\",\"2024-03-18 04:23:57.259794\",\"2024-03-18 04:45:57.256606\",\"2024-03-18 05:10:57.256414\",\"2024-03-18 05:10:57.259262\",\"2024-03-18 05:21:57.256362\",\"2024-03-18 05:24:57.260772\",\"2024-03-18 05:38:57.254673\",\"2024-03-18 05:39:57.260231\",\"2024-03-18 05:44:57.255303\",\"2024-03-18 05:50:57.259289\",\"2024-03-18 05:53:57.257769\",\"2024-03-18 06:18:57.259573\",\"2024-03-18 06:35:57.254913\",\"2024-03-18 06:47:57.259934\",\"2024-03-18 07:09:57.259667\",\"2024-03-18 07:28:57.258807\",\"2024-03-18 07:49:57.260486\",\"2024-03-18 08:03:57.256481\",\"2024-03-18 08:04:57.257620\",\"2024-03-18 08:08:57.255472\",\"2024-03-18 08:29:57.258337\",\"2024-03-18 08:35:57.256644\",\"2024-03-18 08:45:57.259491\",\"2024-03-18 09:02:57.258398\",\"2024-03-18 09:21:57.255275\",\"2024-03-18 09:25:57.260893\",\"2024-03-18 09:28:57.260350\",\"2024-03-18 09:33:57.259129\",\"2024-03-18 09:52:57.259384\",\"2024-03-18 10:22:57.259973\",\"2024-03-18 10:34:57.258889\",\"2024-03-18 10:45:57.258752\",\"2024-03-18 10:50:57.259371\",\"2024-03-18 11:12:57.261658\",\"2024-03-18 11:15:57.260676\",\"2024-03-18 11:34:57.261623\",\"2024-03-18 12:06:57.255890\",\"2024-03-18 12:38:57.260662\",\"2024-03-18 12:52:57.257904\",\"2024-03-18 13:20:57.258472\",\"2024-03-18 13:29:57.256118\",\"2024-03-18 13:29:57.260848\",\"2024-03-18 13:37:57.255666\",\"2024-03-18 13:49:57.258773\",\"2024-03-18 13:52:57.256390\",\"2024-03-18 13:56:57.257484\",\"2024-03-18 13:57:57.259830\",\"2024-03-18 14:00:57.255283\",\"2024-03-18 14:01:57.260519\",\"2024-03-18 14:05:57.256322\",\"2024-03-18 14:07:57.256272\",\"2024-03-18 14:10:57.260338\",\"2024-03-18 14:24:57.261449\",\"2024-03-18 14:26:57.254743\",\"2024-03-18 14:29:57.256251\",\"2024-03-18 14:54:57.261303\",\"2024-03-18 14:55:57.256306\",\"2024-03-18 14:57:57.255737\",\"2024-03-18 15:00:57.260331\",\"2024-03-18 15:02:57.256066\",\"2024-03-18 15:05:57.256052\",\"2024-03-18 15:06:57.257613\",\"2024-03-18 15:10:57.254947\",\"2024-03-18 15:15:57.255262\",\"2024-03-18 16:04:57.255823\",\"2024-03-18 16:19:57.259732\",\"2024-03-18 16:20:57.258350\",\"2024-03-18 16:31:57.261322\",\"2024-03-18 16:56:57.256002\",\"2024-03-18 17:06:57.259914\",\"2024-03-18 17:25:57.258275\",\"2024-03-18 17:26:57.254756\",\"2024-03-18 17:28:57.261258\",\"2024-03-18 17:33:57.257843\",\"2024-03-18 17:41:57.254968\",\"2024-03-18 17:51:57.256449\",\"2024-03-18 17:55:57.258814\",\"2024-03-18 17:58:57.256146\",\"2024-03-18 18:01:57.255195\",\"2024-03-18 18:07:57.255436\",\"2024-03-18 18:17:57.257627\",\"2024-03-18 18:36:57.259739\",\"2024-03-18 19:12:57.257136\",\"2024-03-18 19:24:57.256196\",\"2024-03-18 19:34:57.259016\",\"2024-03-18 19:34:57.261276\",\"2024-03-18 19:46:57.256897\",\"2024-03-18 20:08:57.254667\",\"2024-03-18 20:31:57.259075\",\"2024-03-18 20:36:57.255830\",\"2024-03-18 20:43:57.260344\",\"2024-03-18 20:45:57.260737\",\"2024-03-18 21:03:57.255268\",\"2024-03-18 21:20:57.260452\",\"2024-03-18 21:21:57.257937\",\"2024-03-18 21:27:57.255160\",\"2024-03-18 21:41:57.261476\",\"2024-03-18 21:59:57.257283\",\"2024-03-18 22:26:57.258962\",\"2024-03-18 22:35:57.261353\",\"2024-03-18 22:36:57.261578\",\"2024-03-18 22:43:57.258677\",\"2024-03-18 22:49:57.256504\",\"2024-03-18 22:59:57.261283\",\"2024-03-18 23:06:57.258697\",\"2024-03-18 23:30:57.259987\",\"2024-03-18 23:40:57.256977\",\"2024-03-18 23:41:57.255961\",\"2024-03-18 23:50:57.257150\",\"2024-03-19 00:01:57.259237\",\"2024-03-19 00:04:57.257876\",\"2024-03-19 00:05:57.256613\",\"2024-03-19 00:12:57.260244\",\"2024-03-19 00:15:57.255658\",\"2024-03-19 00:15:57.258282\",\"2024-03-19 00:22:57.261139\",\"2024-03-19 00:24:57.258841\",\"2024-03-19 00:32:57.256769\",\"2024-03-19 00:38:57.259122\",\"2024-03-19 00:49:57.256921\",\"2024-03-19 01:06:57.258052\",\"2024-03-19 01:44:57.260993\",\"2024-03-19 01:47:57.261081\",\"2024-03-19 01:48:57.257897\",\"2024-03-19 01:49:57.260619\",\"2024-03-19 01:51:57.255336\",\"2024-03-19 02:19:57.261543\",\"2024-03-19 02:25:57.260630\",\"2024-03-19 02:31:57.257016\",\"2024-03-19 02:35:57.260103\",\"2024-03-19 02:43:57.260669\",\"2024-03-19 02:51:57.260551\",\"2024-03-19 03:16:57.255674\",\"2024-03-19 03:18:57.257163\",\"2024-03-19 03:22:57.261173\",\"2024-03-19 03:52:57.256699\",\"2024-03-19 03:57:57.258786\",\"2024-03-19 04:08:57.257257\",\"2024-03-19 04:08:57.259030\",\"2024-03-19 04:09:57.256226\",\"2024-03-19 04:20:57.259190\",\"2024-03-19 04:28:57.256104\",\"2024-03-19 04:34:57.255478\",\"2024-03-19 04:55:57.256574\",\"2024-03-19 04:56:57.257360\",\"2024-03-19 04:56:57.260506\",\"2024-03-19 04:59:57.257505\",\"2024-03-19 05:19:57.261597\",\"2024-03-19 05:31:57.256421\",\"2024-03-19 05:32:57.259598\",\"2024-03-19 05:37:57.260765\",\"2024-03-19 05:40:57.255372\",\"2024-03-19 05:48:57.255399\",\"2024-03-19 05:52:57.258454\",\"2024-03-19 06:05:57.258656\",\"2024-03-19 06:05:57.259886\",\"2024-03-19 06:10:57.255723\",\"2024-03-19 06:17:57.259579\",\"2024-03-19 06:23:57.256628\",\"2024-03-19 06:31:57.255085\",\"2024-03-19 06:33:57.255773\",\"2024-03-19 06:37:57.258508\",\"2024-03-19 06:42:57.256511\",\"2024-03-19 07:05:57.260545\",\"2024-03-19 07:14:57.256045\",\"2024-03-19 07:19:57.256311\",\"2024-03-19 07:41:57.256038\",\"2024-03-19 08:00:57.258834\",\"2024-03-19 08:13:57.256203\",\"2024-03-19 08:31:57.260532\",\"2024-03-19 08:32:57.261131\",\"2024-03-19 08:46:57.255535\",\"2024-03-19 08:59:57.255794\",\"2024-03-19 09:00:57.256673\",\"2024-03-19 09:30:57.254771\",\"2024-03-19 09:56:57.258420\",\"2024-03-19 10:01:57.261368\",\"2024-03-19 10:05:57.257686\",\"2024-03-19 10:14:57.256526\",\"2024-03-19 10:14:57.257087\",\"2024-03-19 10:21:57.255586\",\"2024-03-19 10:27:57.261069\",\"2024-03-19 10:44:57.258193\",\"2024-03-19 10:45:57.259893\",\"2024-03-19 10:58:57.255001\",\"2024-03-19 11:16:57.259103\",\"2024-03-19 11:32:57.257037\",\"2024-03-19 11:42:57.260954\",\"2024-03-19 11:43:57.255564\",\"2024-03-19 11:52:57.258201\",\"2024-03-19 12:19:57.257326\",\"2024-03-19 12:40:57.256693\",\"2024-03-19 12:46:57.258019\",\"2024-03-19 12:55:57.260600\",\"2024-03-19 12:59:57.256059\",\"2024-03-19 13:03:57.254642\",\"2024-03-19 13:11:57.254777\",\"2024-03-19 13:12:57.258479\",\"2024-03-19 13:12:57.261057\",\"2024-03-19 13:17:57.255528\",\"2024-03-19 13:17:57.260986\",\"2024-03-19 13:37:57.260110\",\"2024-03-19 13:59:57.259065\",\"2024-03-19 14:11:57.260716\",\"2024-03-19 14:12:57.258262\",\"2024-03-19 14:26:57.257373\",\"2024-03-19 14:37:57.259229\",\"2024-03-19 14:46:57.259947\",\"2024-03-19 15:06:57.257823\",\"2024-03-19 15:07:57.254899\",\"2024-03-19 15:19:57.258187\",\"2024-03-19 15:22:57.258072\",\"2024-03-19 15:38:57.260217\",\"2024-03-19 15:40:57.257850\",\"2024-03-19 15:52:57.257917\",\"2024-03-19 16:02:57.256473\",\"2024-03-19 16:13:57.259511\",\"2024-03-19 16:30:57.256265\",\"2024-03-19 17:11:57.258793\",\"2024-03-19 17:17:57.256237\",\"2024-03-19 17:22:57.260758\",\"2024-03-19 17:31:57.259717\",\"2024-03-19 17:56:57.256547\",\"2024-03-19 18:00:57.261192\",\"2024-03-19 18:15:57.258465\",\"2024-03-19 18:17:57.260284\",\"2024-03-19 18:38:57.257633\",\"2024-03-19 18:45:57.259816\",\"2024-03-19 18:47:57.257761\",\"2024-03-19 19:17:57.259256\",\"2024-03-19 19:24:57.260043\",\"2024-03-19 19:32:57.260163\",\"2024-03-19 19:33:57.255141\",\"2024-03-19 19:38:57.255235\",\"2024-03-19 19:41:57.257409\",\"2024-03-19 19:50:57.260224\",\"2024-03-19 19:58:57.256652\",\"2024-03-19 20:22:57.255064\",\"2024-03-19 20:23:57.256167\",\"2024-03-19 20:33:57.261239\",\"2024-03-19 20:39:57.255940\",\"2024-03-19 21:04:57.260197\",\"2024-03-19 21:09:57.254661\",\"2024-03-19 21:12:57.256294\",\"2024-03-19 21:29:57.255009\",\"2024-03-19 21:49:57.257196\",\"2024-03-19 21:50:57.259322\",\"2024-03-19 21:56:57.259907\",\"2024-03-19 22:05:57.256232\",\"2024-03-19 22:17:57.255324\",\"2024-03-19 22:33:57.259282\",\"2024-03-19 22:59:57.258969\",\"2024-03-19 23:00:57.255759\",\"2024-03-19 23:02:57.258582\",\"2024-03-19 23:03:57.256796\",\"2024-03-19 23:20:57.258718\",\"2024-03-19 23:55:57.260500\",\"2024-03-20 00:15:57.255029\",\"2024-03-20 00:16:57.258927\",\"2024-03-20 00:20:57.255360\",\"2024-03-20 00:55:57.260580\",\"2024-03-20 01:20:57.257395\",\"2024-03-20 01:34:57.258956\",\"2024-03-20 01:43:57.257353\",\"2024-03-20 02:04:57.258779\",\"2024-03-20 02:25:57.260479\",\"2024-03-20 02:31:57.255918\",\"2024-03-20 02:35:57.258127\",\"2024-03-20 02:39:57.257837\",\"2024-03-20 02:43:57.260636\",\"2024-03-20 03:23:57.257217\",\"2024-03-20 03:25:57.260699\",\"2024-03-20 03:27:57.261529\",\"2024-03-20 03:34:57.257224\",\"2024-03-20 03:49:57.259176\",\"2024-03-20 03:51:57.260398\",\"2024-03-20 03:53:57.257312\",\"2024-03-20 03:54:57.256369\",\"2024-03-20 03:54:57.257065\",\"2024-03-20 04:10:57.260136\",\"2024-03-20 04:17:57.257716\",\"2024-03-20 04:40:57.258514\",\"2024-03-20 04:44:57.255106\",\"2024-03-20 04:50:57.255458\",\"2024-03-20 05:04:57.256721\",\"2024-03-20 05:04:57.257304\",\"2024-03-20 05:09:57.257023\",\"2024-03-20 05:16:57.255988\",\"2024-03-20 05:25:57.260095\",\"2024-03-20 05:34:57.258180\",\"2024-03-20 05:48:57.255505\",\"2024-03-20 06:21:57.256939\",\"2024-03-20 06:34:57.258026\",\"2024-03-20 06:43:57.259504\",\"2024-03-20 06:49:57.257094\",\"2024-03-20 07:01:57.255837\",\"2024-03-20 07:01:57.258242\",\"2024-03-20 07:04:57.257673\",\"2024-03-20 07:20:57.255202\",\"2024-03-20 07:31:57.256840\",\"2024-03-20 07:34:57.260310\",\"2024-03-20 07:37:57.258013\",\"2024-03-20 08:07:57.258568\",\"2024-03-20 08:36:57.258222\",\"2024-03-20 08:46:57.259316\",\"2024-03-20 08:57:57.258297\",\"2024-03-20 09:01:57.260405\",\"2024-03-20 09:30:57.259329\",\"2024-03-20 09:40:57.254975\",\"2024-03-20 09:50:57.256348\",\"2024-03-20 09:58:57.258821\",\"2024-03-20 10:09:57.259592\",\"2024-03-20 10:42:57.254981\",\"2024-03-20 10:53:57.261604\",\"2024-03-20 10:55:57.258494\",\"2024-03-20 11:09:57.255542\",\"2024-03-20 11:17:57.260156\",\"2024-03-20 11:26:57.257237\",\"2024-03-20 11:31:57.258603\",\"2024-03-20 12:04:57.261212\",\"2024-03-20 12:14:57.254679\",\"2024-03-20 12:15:57.260885\",\"2024-03-20 12:16:57.257829\",\"2024-03-20 12:24:57.260384\",\"2024-03-20 12:27:57.255255\",\"2024-03-20 12:31:57.258235\",\"2024-03-20 12:41:57.257264\",\"2024-03-20 13:01:57.255766\",\"2024-03-20 13:03:57.256132\",\"2024-03-20 13:03:57.257518\",\"2024-03-20 13:04:57.258405\",\"2024-03-20 13:18:57.258703\",\"2024-03-20 13:23:57.261233\",\"2024-03-20 13:26:57.256568\",\"2024-03-20 13:27:57.257477\",\"2024-03-20 13:39:57.260744\",\"2024-03-20 13:56:57.260264\",\"2024-03-20 14:01:57.256215\",\"2024-03-20 14:06:57.260925\",\"2024-03-20 14:25:57.254887\",\"2024-03-20 14:31:57.257121\",\"2024-03-20 14:52:57.258147\",\"2024-03-20 14:54:57.260784\",\"2024-03-20 15:10:57.257924\",\"2024-03-20 15:12:57.257776\",\"2024-03-20 15:22:57.258827\",\"2024-03-20 15:38:57.254635\",\"2024-03-20 15:50:57.258881\",\"2024-03-20 15:50:57.259478\",\"2024-03-20 16:18:57.255579\",\"2024-03-20 16:23:57.254846\",\"2024-03-20 16:27:57.261646\",\"2024-03-20 16:37:57.258448\",\"2024-03-20 16:38:57.257653\",\"2024-03-20 16:51:57.258371\",\"2024-03-20 16:52:57.259164\",\"2024-03-20 16:56:57.256189\",\"2024-03-20 17:19:57.261297\",\"2024-03-20 17:45:57.260074\",\"2024-03-20 17:54:57.256927\",\"2024-03-20 17:59:57.257797\",\"2024-03-20 18:07:57.260144\",\"2024-03-20 18:15:57.258303\",\"2024-03-20 18:17:57.261019\",\"2024-03-20 18:20:57.259927\",\"2024-03-20 18:26:57.260370\",\"2024-03-20 18:31:57.255449\",\"2024-03-20 18:35:57.260903\",\"2024-03-20 18:37:57.256497\",\"2024-03-20 18:52:57.260999\",\"2024-03-20 19:00:57.261469\",\"2024-03-20 19:05:57.257052\",\"2024-03-20 19:15:57.261671\",\"2024-03-20 19:38:57.257169\",\"2024-03-20 20:05:57.255954\",\"2024-03-20 20:13:57.256659\",\"2024-03-20 20:15:57.257910\",\"2024-03-20 20:25:57.257010\",\"2024-03-20 20:39:57.259083\",\"2024-03-20 20:39:57.260170\",\"2024-03-20 20:45:57.255134\",\"2024-03-20 20:46:57.255050\",\"2024-03-20 20:46:57.257290\",\"2024-03-20 21:05:57.255549\",\"2024-03-20 21:08:57.255630\",\"2024-03-20 21:15:57.260939\",\"2024-03-20 21:39:57.258874\",\"2024-03-20 21:45:57.254722\",\"2024-03-20 22:01:57.257930\",\"2024-03-20 22:08:57.261246\",\"2024-03-20 22:30:57.256155\",\"2024-03-20 22:30:57.259417\",\"2024-03-20 22:55:57.260513\",\"2024-03-20 23:00:57.260565\",\"2024-03-20 23:02:57.258725\",\"2024-03-20 23:22:57.261652\",\"2024-03-20 23:24:57.256455\",\"2024-03-20 23:35:57.255310\",\"2024-03-20 23:47:57.255844\",\"2024-03-21 00:05:57.258114\",\"2024-03-21 00:17:57.254893\",\"2024-03-21 00:20:57.260210\",\"2024-03-21 00:30:57.252719\",\"2024-03-21 00:41:57.255644\",\"2024-03-21 00:51:57.256945\",\"2024-03-21 00:52:57.259921\",\"2024-03-21 01:11:57.258739\",\"2024-03-21 01:19:57.257587\",\"2024-03-21 01:23:57.257030\",\"2024-03-21 01:31:57.257244\",\"2024-03-21 01:37:57.257045\",\"2024-03-21 01:42:57.256964\",\"2024-03-21 01:43:57.255036\",\"2024-03-21 02:08:57.259961\",\"2024-03-21 02:32:57.255330\",\"2024-03-21 02:39:57.255852\",\"2024-03-21 02:43:57.254691\",\"2024-03-21 02:44:57.260572\",\"2024-03-21 02:49:57.261012\",\"2024-03-21 02:53:57.260021\",\"2024-03-21 03:01:57.261638\",\"2024-03-21 03:20:57.256243\",\"2024-03-21 03:20:57.260251\",\"2024-03-21 03:27:57.260751\",\"2024-03-21 03:35:57.257579\",\"2024-03-21 03:36:57.256334\",\"2024-03-21 03:38:57.259364\",\"2024-03-21 03:44:57.260008\",\"2024-03-21 03:50:57.260425\",\"2024-03-21 04:14:57.259445\",\"2024-03-21 04:20:57.257230\",\"2024-03-21 04:26:57.254811\",\"2024-03-21 04:26:57.258108\",\"2024-03-21 04:30:57.255411\",\"2024-03-21 04:33:57.260465\",\"2024-03-21 04:48:57.261500\",\"2024-03-21 04:55:57.257666\",\"2024-03-21 04:59:57.257978\",\"2024-03-21 05:25:57.259411\",\"2024-03-21 05:27:57.255214\",\"2024-03-21 05:44:57.255248\",\"2024-03-21 05:44:57.259210\",\"2024-03-21 06:11:57.261375\",\"2024-03-21 06:15:57.257250\",\"2024-03-21 06:16:57.261199\",\"2024-03-21 06:31:57.259518\",\"2024-03-21 06:48:57.259009\",\"2024-03-21 06:49:57.256971\",\"2024-03-21 06:50:57.261536\",\"2024-03-21 06:53:57.260559\",\"2024-03-21 06:58:57.255442\",\"2024-03-21 07:20:57.255745\",\"2024-03-21 07:21:57.261421\",\"2024-03-21 07:25:57.261253\",\"2024-03-21 07:33:57.260324\",\"2024-03-21 07:38:57.257512\",\"2024-03-21 07:50:57.254927\",\"2024-03-21 07:56:57.260526\",\"2024-03-21 07:59:57.259275\",\"2024-03-21 08:00:57.255808\",\"2024-03-21 08:06:57.259626\",\"2024-03-21 08:31:57.255057\",\"2024-03-21 09:00:57.254697\",\"2024-03-21 09:27:57.256467\",\"2024-03-21 09:49:57.258060\",\"2024-03-21 09:59:57.254764\",\"2024-03-21 10:24:57.259753\",\"2024-03-21 10:33:57.260432\",\"2024-03-21 10:35:57.261442\",\"2024-03-21 10:41:57.255974\",\"2024-03-21 10:42:57.257443\",\"2024-03-21 10:55:57.256782\",\"2024-03-21 11:04:57.259096\",\"2024-03-21 11:34:57.259109\",\"2024-03-21 11:51:57.258134\",\"2024-03-21 11:56:57.254791\",\"2024-03-21 12:02:57.256853\",\"2024-03-21 12:19:57.259391\",\"2024-03-21 12:20:57.259465\",\"2024-03-21 12:39:57.257532\",\"2024-03-21 13:09:57.258643\",\"2024-03-21 13:11:57.257416\",\"2024-03-21 13:15:57.257183\",\"2024-03-21 13:19:57.257276\",\"2024-03-21 13:44:57.258616\",\"2024-03-21 13:50:57.259170\",\"2024-03-21 13:58:57.258528\",\"2024-03-21 14:09:57.255624\",\"2024-03-21 14:32:57.259681\",\"2024-03-21 14:40:57.260606\",\"2024-03-21 14:51:57.254798\",\"2024-03-21 14:59:57.255696\",\"2024-03-21 14:59:57.259635\",\"2024-03-21 15:00:57.256827\",\"2024-03-21 15:15:57.256728\",\"2024-03-21 15:24:57.257802\",\"2024-03-21 15:39:57.256016\",\"2024-03-21 15:41:57.260805\",\"2024-03-21 15:55:57.259156\",\"2024-03-21 15:57:57.256820\",\"2024-03-21 16:03:57.258732\",\"2024-03-21 16:10:57.256073\",\"2024-03-21 16:25:57.256209\",\"2024-03-21 16:26:57.261399\",\"2024-03-21 16:55:57.258160\",\"2024-03-21 16:57:57.259843\",\"2024-03-21 17:02:57.255816\",\"2024-03-21 17:08:57.258391\",\"2024-03-21 17:11:57.257463\",\"2024-03-21 17:11:57.261160\",\"2024-03-21 17:22:57.255703\",\"2024-03-21 17:31:57.260445\",\"2024-03-21 17:35:57.257546\",\"2024-03-21 17:58:57.255120\",\"2024-03-21 18:01:57.261664\",\"2024-03-21 18:08:57.261550\",\"2024-03-21 18:11:57.257429\",\"2024-03-21 18:23:57.261585\",\"2024-03-21 18:41:57.254995\",\"2024-03-21 18:48:57.255221\",\"2024-03-21 18:53:57.259981\",\"2024-03-21 18:59:57.261315\",\"2024-03-21 19:06:57.259695\",\"2024-03-21 19:08:57.260932\",\"2024-03-21 19:09:57.261330\",\"2024-03-21 19:14:57.259022\",\"2024-03-21 20:00:57.257783\",\"2024-03-21 20:35:57.260117\",\"2024-03-21 20:52:57.261032\",\"2024-03-21 20:54:57.259431\",\"2024-03-21 21:19:57.256081\",\"2024-03-21 21:30:57.255166\",\"2024-03-21 21:55:57.256030\",\"2024-03-21 22:02:57.261063\",\"2024-03-21 22:08:57.255465\",\"2024-03-21 22:08:57.258854\",\"2024-03-21 22:13:57.256328\",\"2024-03-21 22:27:57.260798\",\"2024-03-21 22:33:57.259856\",\"2024-03-21 22:34:57.260081\",\"2024-03-21 22:58:57.257203\",\"2024-03-21 22:59:57.260973\",\"2024-03-21 23:22:57.261167\",\"2024-03-21 23:38:57.261429\",\"2024-03-21 23:45:57.258487\",\"2024-03-22 00:01:57.260130\",\"2024-03-22 00:02:57.260001\",\"2024-03-22 00:31:57.260411\",\"2024-03-22 00:31:57.260960\",\"2024-03-22 01:09:57.258343\",\"2024-03-22 01:21:57.255925\",\"2024-03-22 01:41:57.258521\",\"2024-03-22 01:54:57.255406\",\"2024-03-22 01:55:57.254940\",\"2024-03-22 02:04:57.255947\",\"2024-03-22 02:16:57.261456\",\"2024-03-22 02:23:57.258086\",\"2024-03-22 02:33:57.260472\",\"2024-03-22 02:40:57.255897\",\"2024-03-22 02:50:57.255379\",\"2024-03-22 03:08:57.255594\",\"2024-03-22 03:08:57.260150\",\"2024-03-22 03:11:57.257525\",\"2024-03-22 03:12:57.261043\",\"2024-03-22 03:31:57.260089\",\"2024-03-22 04:11:57.255078\",\"2024-03-22 04:29:57.257003\",\"2024-03-22 04:42:57.256383\",\"2024-03-22 04:54:57.256958\",\"2024-03-22 04:58:57.259498\",\"2024-03-22 05:02:57.256741\",\"2024-03-22 05:49:57.255228\",\"2024-03-22 05:55:57.256289\",\"2024-03-22 06:06:57.255616\",\"2024-03-22 06:17:57.256802\",\"2024-03-22 06:21:57.256755\",\"2024-03-22 06:34:57.255651\",\"2024-03-22 06:59:57.256878\",\"2024-03-22 07:01:57.260318\",\"2024-03-22 07:08:57.256095\",\"2024-03-22 07:51:57.257072\",\"2024-03-22 08:15:57.257639\",\"2024-03-22 08:18:57.259560\",\"2024-03-22 08:35:57.255968\",\"2024-03-22 08:38:57.257156\",\"2024-03-22 08:45:57.254832\",\"2024-03-22 08:45:57.261678\",\"2024-03-22 09:12:57.255424\",\"2024-03-22 09:17:57.259879\",\"2024-03-22 09:21:57.260683\",\"2024-03-22 09:27:57.254825\",\"2024-03-22 09:43:57.256687\",\"2024-03-22 09:46:57.257402\",\"2024-03-22 09:50:57.256518\",\"2024-03-22 10:08:57.254919\",\"2024-03-22 10:17:57.254685\",\"2024-03-22 10:23:57.260841\",\"2024-03-22 10:31:57.257572\",\"2024-03-22 10:49:57.258609\",\"2024-03-22 11:03:57.254839\",\"2024-03-22 11:06:57.261006\",\"2024-03-22 11:12:57.257190\",\"2024-03-22 11:15:57.256593\",\"2024-03-22 11:17:57.260624\",\"2024-03-22 11:36:57.259725\",\"2024-03-22 11:37:57.260724\",\"2024-03-22 11:39:57.255904\",\"2024-03-22 11:50:57.258921\",\"2024-03-22 11:51:57.261514\",\"2024-03-22 11:56:57.257436\",\"2024-03-22 11:58:57.258208\",\"2024-03-22 12:07:57.256586\",\"2024-03-22 12:07:57.261050\",\"2024-03-22 12:10:57.259485\",\"2024-03-22 12:11:57.255730\",\"2024-03-22 12:16:57.256666\",\"2024-03-22 12:29:57.256600\",\"2024-03-22 12:31:57.260304\",\"2024-03-22 13:05:57.254736\",\"2024-03-22 13:19:57.260819\",\"2024-03-22 13:45:57.257723\",\"2024-03-22 14:13:57.255681\",\"2024-03-22 14:34:57.260856\",\"2024-03-22 14:45:57.256706\",\"2024-03-22 14:49:57.256317\",\"2024-03-22 14:59:57.256277\",\"2024-03-22 15:18:57.257680\",\"2024-03-22 15:35:57.258500\",\"2024-03-22 15:47:57.257701\",\"2024-03-22 15:59:57.261185\",\"2024-03-22 16:12:57.258554\",\"2024-03-22 16:33:57.256341\",\"2024-03-22 16:38:57.261075\",\"2024-03-22 16:55:57.255366\",\"2024-03-22 17:10:57.257340\",\"2024-03-22 17:18:57.259050\",\"2024-03-22 17:36:57.259183\",\"2024-03-22 17:59:57.261630\",\"2024-03-22 18:06:57.261436\",\"2024-03-22 18:20:57.259309\",\"2024-03-22 18:29:57.260918\",\"2024-03-22 18:35:57.255751\",\"2024-03-22 18:43:57.256023\",\"2024-03-22 18:59:57.260493\",\"2024-03-22 19:14:57.256139\",\"2024-03-22 19:17:57.260790\",\"2024-03-22 19:46:57.256111\",\"2024-03-22 19:51:57.260911\",\"2024-03-22 19:55:57.259424\",\"2024-03-22 19:59:57.259966\",\"2024-03-22 20:02:57.259295\",\"2024-03-22 20:06:57.259540\",\"2024-03-22 20:07:57.258670\",\"2024-03-22 20:10:57.257176\",\"2024-03-22 20:22:57.258255\",\"2024-03-22 20:23:57.258996\",\"2024-03-22 20:29:57.257659\",\"2024-03-22 20:43:57.261109\",\"2024-03-22 20:44:57.261264\",\"2024-03-22 20:59:57.257210\",\"2024-03-22 21:00:57.259377\",\"2024-03-22 21:34:57.258847\",\"2024-03-22 21:37:57.255600\",\"2024-03-22 21:41:57.258330\",\"2024-03-22 22:02:57.259057\"],\"y\":[347,284,415,819,368,945,910,933,608,904,653,27,833,151,836,131,635,968,921,960,514,587,412,477,440,882,565,996,433,255,608,215,638,955,177,840,875,415,818,85,207,640,523,726,792,412,746,703,565,691,836,356,145,6,64,851,610,690,56,547,918,428,447,858,8,999,658,457,156,985,809,558,782,44,358,964,864,976,100,757,295,850,200,421,768,913,970,541,420,778,388,336,245,782,753,152,416,252,152,586,4,15,978,958,712,897,779,956,412,701,964,755,610,809,7,359,610,531,63,975,860,839,266,187,444,403,479,273,265,498,589,830,274,124,545,380,256,1,368,358,175,627,733,989,773,960,856,349,151,13,252,982,398,586,512,874,701,190,69,242,233,7,351,633,35,346,954,176,603,49,60,284,429,811,996,487,495,624,597,962,588,889,894,927,904,245,732,650,395,700,973,681,128,270,438,41,26,162,51,206,395,813,78,581,120,591,603,682,459,596,108,670,498,329,597,877,888,741,912,286,851,41,983,341,724,712,364,787,861,165,300,892,878,716,76,148,944,751,373,205,947,275,319,230,282,141,663,421,912,977,575,52,691,169,301,967,76,690,488,626,985,989,728,173,883,759,5,122,295,17,849,596,207,101,903,408,913,714,517,936,315,741,63,816,965,489,971,928,947,817,121,948,533,582,113,455,712,431,266,66,166,201,735,523,864,656,294,646,803,507,108,128,191,278,809,694,697,857,714,66,459,810,438,348,905,426,505,163,414,133,257,839,567,699,938,102,994,525,122,124,988,744,63,820,516,967,746,604,324,784,493,712,858,817,725,938,654,475,425,271,792,802,270,855,485,870,493,435,97,127,843,478,288,547,208,672,440,206,828,991,418,580,627,426,146,204,591,815,268,823,25,394,126,185,446,977,838,539,670,636,931,849,891,765,914,284,759,324,165,224,958,255,758,817,443,26,503,785,128,887,632,626,156,136,716,558,853,902,902,668,194,63,148,620,555,680,361,68,818,943,805,42,615,779,977,661,677,863,221,133,752,115,536,973,957,603,667,894,232,99,775,709,602,505,755,817,675,392,920,176,233,656,109,300,892,856,658,718,512,439,108,135,412,913,985,371,509,37,393,974,998,432,14,860,969,796,159,828,935,60,870,646,621,825,628,997,874,872,351,870,887,38,475,373,934,932,465,997,363,804,937,527,393,704,914,574,900,654,924,475,317,691,564,747,68,553,604,795,504,564,123,44,957,815,704,164,839,529,667,879,775,402,83,439,360,633,399,429,25,748,902,269,924,519,263,82,650,562,783,81,562,938,636,295,813,845,837,251,81,963,95,35,808,396,762,778,104,841,651,748,589,295,49,109,76,360,205,744,749,969,17,440,747,727,929,427,550,52,48,227,397,808,102,304,211,863,526,610,385,262,788,945,551,107,81,150,798,505,848,255,806,922,907,268,18,382,939,261,189,508,726,769,479,863,666,721,327,786,654,944,402,365,994,275,138,796,513,769,77,456,100,903,699,91,836,638,701,477,759,694,460,508,164,54,885,361,79,314,62,632,372,638,282,514,750,576,129,28,944,7,171,552,972,837,640,192,414,104,302,836,838,531,910,666,351,63,115,780,944,641,329,242,145,439,55,39,630,160,262,18,337,272,98,812,788,179,862,85,715,230,257,785,33,818,4,158,809,806,864,866,807,110,942,934,56,677,526,376,755,860,434,127,768,442,922,847,332,817,333,294,937,863,341,746,83,833,124,598,932,199,884,74,920,806,395,53,879,229,331,723,888,394,276,517,114,589,349,350,727,407,633,212,723,173,505,614,580,73,637,998,858,325,354,356,456,981,891,955,314,268,199,561,47,587,239,751,511,167,67,201,301,881,59,470,912,287,709,390,345,553,194,550,525,900,391,670,800,14,548,283,426,27,146,887,987,556,628,526,477,885,903,453,493,825,21,747,818,871,999,431,821,514,161,315,747,967,323,895,969,2,975,753,877,896,608,465,166,917,661,216,938,45,710,391,620,733,966,909,91,650,355,38,123,888,917,526,910,155,767,350,319,108,380,241,177,926,101,955,930,188,279,986,806,374,204,897,565,972,404,518,469,30,894,889,388,948,611,913,761,624,30,670,58,485,965,973,275,167,572,775,835,981,860,159,814,593,624,243,458,735,647,939,89,551,424,904,283,450,529,9,692,585,832,352,354,174,221,246,856,941,401,716,734,230,926,469,892,953,412,40,150,846,137,750,931,394,834,591,889,155,938,903,487,975,800,142,370,814,999,65],\"type\":\"scatter\"}],                        {\"template\":{\"data\":{\"histogram2dcontour\":[{\"type\":\"histogram2dcontour\",\"colorbar\":{\"outlinewidth\":0,\"ticks\":\"\"},\"colorscale\":[[0.0,\"#0d0887\"],[0.1111111111111111,\"#46039f\"],[0.2222222222222222,\"#7201a8\"],[0.3333333333333333,\"#9c179e\"],[0.4444444444444444,\"#bd3786\"],[0.5555555555555556,\"#d8576b\"],[0.6666666666666666,\"#ed7953\"],[0.7777777777777778,\"#fb9f3a\"],[0.8888888888888888,\"#fdca26\"],[1.0,\"#f0f921\"]]}],\"choropleth\":[{\"type\":\"choropleth\",\"colorbar\":{\"outlinewidth\":0,\"ticks\":\"\"}}],\"histogram2d\":[{\"type\":\"histogram2d\",\"colorbar\":{\"outlinewidth\":0,\"ticks\":\"\"},\"colorscale\":[[0.0,\"#0d0887\"],[0.1111111111111111,\"#46039f\"],[0.2222222222222222,\"#7201a8\"],[0.3333333333333333,\"#9c179e\"],[0.4444444444444444,\"#bd3786\"],[0.5555555555555556,\"#d8576b\"],[0.6666666666666666,\"#ed7953\"],[0.7777777777777778,\"#fb9f3a\"],[0.8888888888888888,\"#fdca26\"],[1.0,\"#f0f921\"]]}],\"heatmap\":[{\"type\":\"heatmap\",\"colorbar\":{\"outlinewidth\":0,\"ticks\":\"\"},\"colorscale\":[[0.0,\"#0d0887\"],[0.1111111111111111,\"#46039f\"],[0.2222222222222222,\"#7201a8\"],[0.3333333333333333,\"#9c179e\"],[0.4444444444444444,\"#bd3786\"],[0.5555555555555556,\"#d8576b\"],[0.6666666666666666,\"#ed7953\"],[0.7777777777777778,\"#fb9f3a\"],[0.8888888888888888,\"#fdca26\"],[1.0,\"#f0f921\"]]}],\"heatmapgl\":[{\"type\":\"heatmapgl\",\"colorbar\":{\"outlinewidth\":0,\"ticks\":\"\"},\"colorscale\":[[0.0,\"#0d0887\"],[0.1111111111111111,\"#46039f\"],[0.2222222222222222,\"#7201a8\"],[0.3333333333333333,\"#9c179e\"],[0.4444444444444444,\"#bd3786\"],[0.5555555555555556,\"#d8576b\"],[0.6666666666666666,\"#ed7953\"],[0.7777777777777778,\"#fb9f3a\"],[0.8888888888888888,\"#fdca26\"],[1.0,\"#f0f921\"]]}],\"contourcarpet\":[{\"type\":\"contourcarpet\",\"colorbar\":{\"outlinewidth\":0,\"ticks\":\"\"}}],\"contour\":[{\"type\":\"contour\",\"colorbar\":{\"outlinewidth\":0,\"ticks\":\"\"},\"colorscale\":[[0.0,\"#0d0887\"],[0.1111111111111111,\"#46039f\"],[0.2222222222222222,\"#7201a8\"],[0.3333333333333333,\"#9c179e\"],[0.4444444444444444,\"#bd3786\"],[0.5555555555555556,\"#d8576b\"],[0.6666666666666666,\"#ed7953\"],[0.7777777777777778,\"#fb9f3a\"],[0.8888888888888888,\"#fdca26\"],[1.0,\"#f0f921\"]]}],\"surface\":[{\"type\":\"surface\",\"colorbar\":{\"outlinewidth\":0,\"ticks\":\"\"},\"colorscale\":[[0.0,\"#0d0887\"],[0.1111111111111111,\"#46039f\"],[0.2222222222222222,\"#7201a8\"],[0.3333333333333333,\"#9c179e\"],[0.4444444444444444,\"#bd3786\"],[0.5555555555555556,\"#d8576b\"],[0.6666666666666666,\"#ed7953\"],[0.7777777777777778,\"#fb9f3a\"],[0.8888888888888888,\"#fdca26\"],[1.0,\"#f0f921\"]]}],\"mesh3d\":[{\"type\":\"mesh3d\",\"colorbar\":{\"outlinewidth\":0,\"ticks\":\"\"}}],\"scatter\":[{\"fillpattern\":{\"fillmode\":\"overlay\",\"size\":10,\"solidity\":0.2},\"type\":\"scatter\"}],\"parcoords\":[{\"type\":\"parcoords\",\"line\":{\"colorbar\":{\"outlinewidth\":0,\"ticks\":\"\"}}}],\"scatterpolargl\":[{\"type\":\"scatterpolargl\",\"marker\":{\"colorbar\":{\"outlinewidth\":0,\"ticks\":\"\"}}}],\"bar\":[{\"error_x\":{\"color\":\"#2a3f5f\"},\"error_y\":{\"color\":\"#2a3f5f\"},\"marker\":{\"line\":{\"color\":\"#E5ECF6\",\"width\":0.5},\"pattern\":{\"fillmode\":\"overlay\",\"size\":10,\"solidity\":0.2}},\"type\":\"bar\"}],\"scattergeo\":[{\"type\":\"scattergeo\",\"marker\":{\"colorbar\":{\"outlinewidth\":0,\"ticks\":\"\"}}}],\"scatterpolar\":[{\"type\":\"scatterpolar\",\"marker\":{\"colorbar\":{\"outlinewidth\":0,\"ticks\":\"\"}}}],\"histogram\":[{\"marker\":{\"pattern\":{\"fillmode\":\"overlay\",\"size\":10,\"solidity\":0.2}},\"type\":\"histogram\"}],\"scattergl\":[{\"type\":\"scattergl\",\"marker\":{\"colorbar\":{\"outlinewidth\":0,\"ticks\":\"\"}}}],\"scatter3d\":[{\"type\":\"scatter3d\",\"line\":{\"colorbar\":{\"outlinewidth\":0,\"ticks\":\"\"}},\"marker\":{\"colorbar\":{\"outlinewidth\":0,\"ticks\":\"\"}}}],\"scattermapbox\":[{\"type\":\"scattermapbox\",\"marker\":{\"colorbar\":{\"outlinewidth\":0,\"ticks\":\"\"}}}],\"scatterternary\":[{\"type\":\"scatterternary\",\"marker\":{\"colorbar\":{\"outlinewidth\":0,\"ticks\":\"\"}}}],\"scattercarpet\":[{\"type\":\"scattercarpet\",\"marker\":{\"colorbar\":{\"outlinewidth\":0,\"ticks\":\"\"}}}],\"carpet\":[{\"aaxis\":{\"endlinecolor\":\"#2a3f5f\",\"gridcolor\":\"white\",\"linecolor\":\"white\",\"minorgridcolor\":\"white\",\"startlinecolor\":\"#2a3f5f\"},\"baxis\":{\"endlinecolor\":\"#2a3f5f\",\"gridcolor\":\"white\",\"linecolor\":\"white\",\"minorgridcolor\":\"white\",\"startlinecolor\":\"#2a3f5f\"},\"type\":\"carpet\"}],\"table\":[{\"cells\":{\"fill\":{\"color\":\"#EBF0F8\"},\"line\":{\"color\":\"white\"}},\"header\":{\"fill\":{\"color\":\"#C8D4E3\"},\"line\":{\"color\":\"white\"}},\"type\":\"table\"}],\"barpolar\":[{\"marker\":{\"line\":{\"color\":\"#E5ECF6\",\"width\":0.5},\"pattern\":{\"fillmode\":\"overlay\",\"size\":10,\"solidity\":0.2}},\"type\":\"barpolar\"}],\"pie\":[{\"automargin\":true,\"type\":\"pie\"}]},\"layout\":{\"autotypenumbers\":\"strict\",\"colorway\":[\"#636efa\",\"#EF553B\",\"#00cc96\",\"#ab63fa\",\"#FFA15A\",\"#19d3f3\",\"#FF6692\",\"#B6E880\",\"#FF97FF\",\"#FECB52\"],\"font\":{\"color\":\"#2a3f5f\"},\"hovermode\":\"closest\",\"hoverlabel\":{\"align\":\"left\"},\"paper_bgcolor\":\"white\",\"plot_bgcolor\":\"#E5ECF6\",\"polar\":{\"bgcolor\":\"#E5ECF6\",\"angularaxis\":{\"gridcolor\":\"white\",\"linecolor\":\"white\",\"ticks\":\"\"},\"radialaxis\":{\"gridcolor\":\"white\",\"linecolor\":\"white\",\"ticks\":\"\"}},\"ternary\":{\"bgcolor\":\"#E5ECF6\",\"aaxis\":{\"gridcolor\":\"white\",\"linecolor\":\"white\",\"ticks\":\"\"},\"baxis\":{\"gridcolor\":\"white\",\"linecolor\":\"white\",\"ticks\":\"\"},\"caxis\":{\"gridcolor\":\"white\",\"linecolor\":\"white\",\"ticks\":\"\"}},\"coloraxis\":{\"colorbar\":{\"outlinewidth\":0,\"ticks\":\"\"}},\"colorscale\":{\"sequential\":[[0.0,\"#0d0887\"],[0.1111111111111111,\"#46039f\"],[0.2222222222222222,\"#7201a8\"],[0.3333333333333333,\"#9c179e\"],[0.4444444444444444,\"#bd3786\"],[0.5555555555555556,\"#d8576b\"],[0.6666666666666666,\"#ed7953\"],[0.7777777777777778,\"#fb9f3a\"],[0.8888888888888888,\"#fdca26\"],[1.0,\"#f0f921\"]],\"sequentialminus\":[[0.0,\"#0d0887\"],[0.1111111111111111,\"#46039f\"],[0.2222222222222222,\"#7201a8\"],[0.3333333333333333,\"#9c179e\"],[0.4444444444444444,\"#bd3786\"],[0.5555555555555556,\"#d8576b\"],[0.6666666666666666,\"#ed7953\"],[0.7777777777777778,\"#fb9f3a\"],[0.8888888888888888,\"#fdca26\"],[1.0,\"#f0f921\"]],\"diverging\":[[0,\"#8e0152\"],[0.1,\"#c51b7d\"],[0.2,\"#de77ae\"],[0.3,\"#f1b6da\"],[0.4,\"#fde0ef\"],[0.5,\"#f7f7f7\"],[0.6,\"#e6f5d0\"],[0.7,\"#b8e186\"],[0.8,\"#7fbc41\"],[0.9,\"#4d9221\"],[1,\"#276419\"]]},\"xaxis\":{\"gridcolor\":\"white\",\"linecolor\":\"white\",\"ticks\":\"\",\"title\":{\"standoff\":15},\"zerolinecolor\":\"white\",\"automargin\":true,\"zerolinewidth\":2},\"yaxis\":{\"gridcolor\":\"white\",\"linecolor\":\"white\",\"ticks\":\"\",\"title\":{\"standoff\":15},\"zerolinecolor\":\"white\",\"automargin\":true,\"zerolinewidth\":2},\"scene\":{\"xaxis\":{\"backgroundcolor\":\"#E5ECF6\",\"gridcolor\":\"white\",\"linecolor\":\"white\",\"showbackground\":true,\"ticks\":\"\",\"zerolinecolor\":\"white\",\"gridwidth\":2},\"yaxis\":{\"backgroundcolor\":\"#E5ECF6\",\"gridcolor\":\"white\",\"linecolor\":\"white\",\"showbackground\":true,\"ticks\":\"\",\"zerolinecolor\":\"white\",\"gridwidth\":2},\"zaxis\":{\"backgroundcolor\":\"#E5ECF6\",\"gridcolor\":\"white\",\"linecolor\":\"white\",\"showbackground\":true,\"ticks\":\"\",\"zerolinecolor\":\"white\",\"gridwidth\":2}},\"shapedefaults\":{\"line\":{\"color\":\"#2a3f5f\"}},\"annotationdefaults\":{\"arrowcolor\":\"#2a3f5f\",\"arrowhead\":0,\"arrowwidth\":1},\"geo\":{\"bgcolor\":\"white\",\"landcolor\":\"#E5ECF6\",\"subunitcolor\":\"white\",\"showland\":true,\"showlakes\":true,\"lakecolor\":\"white\"},\"title\":{\"x\":0.05},\"mapbox\":{\"style\":\"light\"}}},\"xaxis\":{\"title\":{\"text\":\"Time\"},\"type\":\"date\",\"tickformat\":\"%Y-%m-%d %H:%M:%S\"},\"title\":{\"text\":\"Line Plot of Time vs. Length\"},\"yaxis\":{\"title\":{\"text\":\"Length\"}},\"showlegend\":true},                        {\"responsive\": true}                    ).then(function(){\n",
              "                            \n",
              "var gd = document.getElementById('19561772-0fe4-4224-9f80-92df956e3cf2');\n",
              "var x = new MutationObserver(function (mutations, observer) {{\n",
              "        var display = window.getComputedStyle(gd).display;\n",
              "        if (!display || display === 'none') {{\n",
              "            console.log([gd, 'removed!']);\n",
              "            Plotly.purge(gd);\n",
              "            observer.disconnect();\n",
              "        }}\n",
              "}});\n",
              "\n",
              "// Listen for the removal of the full notebook cells\n",
              "var notebookContainer = gd.closest('#notebook-container');\n",
              "if (notebookContainer) {{\n",
              "    x.observe(notebookContainer, {childList: true});\n",
              "}}\n",
              "\n",
              "// Listen for the clearing of the current output cell\n",
              "var outputEl = gd.closest('.output');\n",
              "if (outputEl) {{\n",
              "    x.observe(outputEl, {childList: true});\n",
              "}}\n",
              "\n",
              "                        })                };                            </script>        </div>\n",
              "</body>\n",
              "</html>"
            ]
          },
          "metadata": {}
        }
      ]
    },
    {
      "cell_type": "markdown",
      "source": [
        "# **Data Preparation**"
      ],
      "metadata": {
        "id": "bDYO2kxrZXlI"
      }
    },
    {
      "cell_type": "markdown",
      "source": [
        "**Generating Lables Through Unsupervise Approach**"
      ],
      "metadata": {
        "id": "TC0ELWlC9em6"
      }
    },
    {
      "cell_type": "code",
      "source": [
        "import pandas as pd\n",
        "\n",
        "# Assuming 'Time' is the name of the column you want to convert to float\n",
        "df['Time'] = pd.to_datetime(df['Time']).astype(int) / 10**9\n",
        "\n",
        "# Now the 'Time' column has been converted to float data type\n",
        "\n",
        "import pandas as pd\n",
        "from sklearn.ensemble import IsolationForest\n",
        "from sklearn.preprocessing import StandardScaler\n",
        "\n",
        "# Drop non-numeric columns if any\n",
        "df_numeric = df\n",
        "\n",
        "# Standardize the data\n",
        "scaler = StandardScaler()\n",
        "df_scaled = scaler.fit_transform(df_numeric)\n",
        "\n",
        "# Apply Isolation Forest\n",
        "isolation_forest = IsolationForest(contamination=0.375)  # Adjust contamination as needed\n",
        "isolation_forest.fit(df_scaled)\n",
        "\n",
        "# Predict outliers\n",
        "outliers = isolation_forest.predict(df_scaled)\n",
        "\n",
        "# Convert outliers to binary values (1 for outliers, 0 for non-outliers)\n",
        "anomalies = [1 if x == -1 else 0 for x in outliers]\n",
        "\n",
        "# Replace 'Outlier' column with 'Anomaly'\n",
        "df['Anomaly'] = anomalies\n",
        "\n",
        "# Print identified anomalies\n",
        "print(\"Identified Anomalies:\")\n",
        "print(df[df['Anomaly'] == 1])\n"
      ],
      "metadata": {
        "colab": {
          "base_uri": "https://localhost:8080/"
        },
        "id": "TTFP1QA46XpZ",
        "outputId": "9232b31b-89a9-4130-883b-af2305f5b47f"
      },
      "execution_count": 13,
      "outputs": [
        {
          "output_type": "stream",
          "name": "stdout",
          "text": [
            "Identified Anomalies:\n",
            "             Time  Source  Destination  Protocol  Length  Anomaly\n",
            "1    1.710554e+09       2           72        12     904        1\n",
            "3    1.710853e+09       0           99        14     317        1\n",
            "4    1.710591e+09       0            5         3     558        1\n",
            "10   1.711103e+09       0           38         3      30        1\n",
            "12   1.711012e+09       1           52         0      73        1\n",
            "..            ...     ...          ...       ...     ...      ...\n",
            "992  1.711130e+09       1           98         7     734        1\n",
            "993  1.710990e+09       0           12        14     847        1\n",
            "994  1.710952e+09       0            6         5     129        1\n",
            "997  1.711044e+09       0           69         0     885        1\n",
            "999  1.711097e+09       1           33        11      30        1\n",
            "\n",
            "[375 rows x 6 columns]\n"
          ]
        }
      ]
    },
    {
      "cell_type": "code",
      "source": [
        "# Define features (X) and target (y)\n",
        "X = df[['Time', 'Length', 'Source', 'Protocol', 'Destination']]\n",
        "y = df['Anomaly']"
      ],
      "metadata": {
        "id": "JdPQ-ky5ffAp"
      },
      "execution_count": 14,
      "outputs": []
    },
    {
      "cell_type": "code",
      "source": [
        "from sklearn.preprocessing import StandardScaler\n",
        "\n",
        "# Initialize the StandardScaler\n",
        "scaler = StandardScaler()\n",
        "\n",
        "# Fit and transform the features (X)\n",
        "X_scaled = scaler.fit_transform(X)\n",
        "\n",
        "# Convert the scaled features back to a DataFrame (optional)\n",
        "X_scaled_df = pd.DataFrame(X_scaled, columns=X.columns)\n",
        "\n",
        "# Print the normalized features\n",
        "print(\"Normalized Features (X):\")\n",
        "print(X_scaled_df.head())\n"
      ],
      "metadata": {
        "colab": {
          "base_uri": "https://localhost:8080/"
        },
        "id": "-hZPcetHVntN",
        "outputId": "9ac61a8a-16c8-4053-a752-7d565fea2382"
      },
      "execution_count": 15,
      "outputs": [
        {
          "output_type": "stream",
          "name": "stdout",
          "text": [
            "Normalized Features (X):\n",
            "       Time    Length    Source  Protocol  Destination\n",
            "0  0.822442  0.892221  1.232166 -0.556490     0.616782\n",
            "1 -1.663392  1.216526  1.232166  0.925789     0.756097\n",
            "2  0.636520  0.336271  1.232166 -0.556490     1.069556\n",
            "3  0.079103 -0.725992 -1.207766  1.349297     1.696473\n",
            "4 -1.446716  0.071532 -1.207766 -0.979998    -1.577428\n"
          ]
        }
      ]
    },
    {
      "cell_type": "code",
      "source": [
        "from sklearn.model_selection import train_test_split\n",
        "\n",
        "# Split the data into training and testing sets\n",
        "X_train, X_test, y_train, y_test = train_test_split(X_scaled, y, test_size=0.2, random_state=42)\n",
        "\n",
        "# Print the shapes of the training and testing sets\n",
        "print(\"Training data shape (X_train):\", X_train.shape)\n",
        "print(\"Training data shape (y_train):\", y_train.shape)\n",
        "print(\"Testing data shape (X_test):\", X_test.shape)\n",
        "print(\"Testing data shape (y_test):\", y_test.shape)\n"
      ],
      "metadata": {
        "id": "ICzmMtBJfixx",
        "colab": {
          "base_uri": "https://localhost:8080/"
        },
        "outputId": "02396853-ecaf-41fb-e5b7-999f3d1a7d3d"
      },
      "execution_count": 16,
      "outputs": [
        {
          "output_type": "stream",
          "name": "stdout",
          "text": [
            "Training data shape (X_train): (800, 5)\n",
            "Training data shape (y_train): (800,)\n",
            "Testing data shape (X_test): (200, 5)\n",
            "Testing data shape (y_test): (200,)\n"
          ]
        }
      ]
    },
    {
      "cell_type": "markdown",
      "source": [
        "# **Applying Isolation Forest**"
      ],
      "metadata": {
        "id": "o1PXlTU_7T62"
      }
    },
    {
      "cell_type": "code",
      "source": [
        "import matplotlib.pyplot as plt\n",
        "import seaborn as sns\n",
        "from sklearn.metrics import confusion_matrix, accuracy_score, precision_score, recall_score, f1_score\n",
        "import numpy as np\n",
        "# Define and train the Isolation Forest model\n",
        "isolation_forest = IsolationForest(contamination=0.3)  # Adjust contamination based on anomaly rate\n",
        "isolation_forest.fit(X_train)\n",
        "\n",
        "# Predict anomalies in the testing data\n",
        "y_pred = isolation_forest.predict(X_test)\n",
        "\n",
        "# Convert predictions to binary labels (1 for normal, -1 for anomaly)\n",
        "y_pred_binary = np.where(y_pred == 1, 0, 1)  # 0 for normal, 1 for anomaly\n",
        "\n",
        "# Calculate evaluation metrics\n",
        "accuracy = accuracy_score(y_test, y_pred_binary)\n",
        "precision = precision_score(y_test, y_pred_binary)\n",
        "recall = recall_score(y_test, y_pred_binary)\n",
        "f1 = f1_score(y_test, y_pred_binary)\n",
        "conf_matrix = confusion_matrix(y_test, y_pred_binary)\n",
        "\n",
        "# Calculate true positives, true negatives, false positives, and false negatives\n",
        "tn, fp, fn, tp = conf_matrix.ravel()\n"
      ],
      "metadata": {
        "id": "55qP6esCCzLN"
      },
      "execution_count": 17,
      "outputs": []
    },
    {
      "cell_type": "markdown",
      "source": [
        "# **Model Metrices**"
      ],
      "metadata": {
        "id": "F59pKRhe7d0T"
      }
    },
    {
      "cell_type": "code",
      "source": [
        "# Print evaluation metrics\n",
        "print(\"Accuracy:\", accuracy)\n",
        "print(\"Precision:\", precision)\n",
        "print(\"Recall:\", recall)\n",
        "print(\"F1 Score:\", f1)\n",
        "\n",
        "# Print true positives, true negatives, false positives, and false negatives\n",
        "print(\"True Positives:\", tp)\n",
        "print(\"True Negatives:\", tn)\n",
        "print(\"False Positives:\", fp)\n",
        "print(\"False Negatives:\", fn)\n"
      ],
      "metadata": {
        "colab": {
          "base_uri": "https://localhost:8080/"
        },
        "id": "tg7Fj78Sf2lA",
        "outputId": "16734a08-b303-4845-9f47-991481fc5bdf"
      },
      "execution_count": 18,
      "outputs": [
        {
          "output_type": "stream",
          "name": "stdout",
          "text": [
            "Accuracy: 0.905\n",
            "Precision: 0.8985507246376812\n",
            "Recall: 0.8378378378378378\n",
            "F1 Score: 0.8671328671328672\n",
            "True Positives: 62\n",
            "True Negatives: 119\n",
            "False Positives: 7\n",
            "False Negatives: 12\n"
          ]
        }
      ]
    },
    {
      "cell_type": "markdown",
      "source": [
        "# **Confusion Matrix**"
      ],
      "metadata": {
        "id": "2cd75bbX7lUX"
      }
    },
    {
      "cell_type": "code",
      "source": [
        "# Plot confusion matrix\n",
        "plt.figure(figsize=(8, 6))\n",
        "sns.heatmap(conf_matrix, annot=True, fmt='d', cmap='Blues', xticklabels=['Normal', 'Anomaly'], yticklabels=['Normal', 'Anomaly'])\n",
        "plt.xlabel('Predicted label')\n",
        "plt.ylabel('True label')\n",
        "plt.title('Confusion Matrix')\n",
        "plt.show()"
      ],
      "metadata": {
        "colab": {
          "base_uri": "https://localhost:8080/",
          "height": 564
        },
        "id": "LhOjMgtYccwx",
        "outputId": "fde9dfcc-f595-4c98-aedc-62c123176316"
      },
      "execution_count": 19,
      "outputs": [
        {
          "output_type": "display_data",
          "data": {
            "text/plain": [
              "<Figure size 800x600 with 2 Axes>"
            ],
            "image/png": "[encoded data removed]"
          },
          "metadata": {}
        }
      ]
    },
    {
      "cell_type": "markdown",
      "source": [
        "# **'Accuracy', 'Precision', 'Recall', 'F1 Score' Graph**"
      ],
      "metadata": {
        "id": "LvfbeXg_8Z7u"
      }
    },
    {
      "cell_type": "code",
      "source": [
        "# Plot evaluation metrics\n",
        "plt.figure(figsize=(10, 4))\n",
        "metrics = [accuracy, precision, recall, f1]\n",
        "labels = ['Accuracy', 'Precision', 'Recall', 'F1 Score']\n",
        "sns.barplot(x=labels, y=metrics, palette='viridis')\n",
        "plt.title('Evaluation Metrics')\n",
        "plt.ylim(0, 1)  # Setting y-axis limit to [0, 1] for better visualization\n",
        "plt.show()\n"
      ],
      "metadata": {
        "colab": {
          "base_uri": "https://localhost:8080/",
          "height": 533
        },
        "id": "xD9AC7Pt1pPJ",
        "outputId": "b469a8a3-0148-4caf-8d1f-849c05cfdcda"
      },
      "execution_count": 20,
      "outputs": [
        {
          "output_type": "stream",
          "name": "stderr",
          "text": [
            "<ipython-input-20-12a7b1da7321>:5: FutureWarning:\n",
            "\n",
            "\n",
            "\n",
            "Passing `palette` without assigning `hue` is deprecated and will be removed in v0.14.0. Assign the `x` variable to `hue` and set `legend=False` for the same effect.\n",
            "\n",
            "\n"
          ]
        },
        {
          "output_type": "display_data",
          "data": {
            "text/plain": [
              "<Figure size 1000x400 with 1 Axes>"
            ],
            "image/png": "[encoded data removed]"
          },
          "metadata": {}
        }
      ]
    },
    {
      "cell_type": "code",
      "source": [],
      "metadata": {
        "id": "3bav0I9C9ITv"
      },
      "execution_count": 20,
      "outputs": []
    }
  ]
}